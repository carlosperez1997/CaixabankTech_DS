{
  "nbformat": 4,
  "nbformat_minor": 0,
  "metadata": {
    "colab": {
      "name": "CaixabankTech_DS_CarlosPerez.ipynb",
      "provenance": [],
      "collapsed_sections": []
    },
    "kernelspec": {
      "name": "python3",
      "display_name": "Python 3"
    },
    "language_info": {
      "name": "python"
    },
    "accelerator": "GPU"
  },
  "cells": [
    {
      "cell_type": "markdown",
      "source": [
        "# CaixaBank Tech Hackathon\n",
        "Autor: Carlos Pérez Ricardo\n",
        "\n",
        "Sobre mí: Ingeniero aeroespacial con interés y curiosidad en el potencial que tienen los datos. Actualmente, trabajando como Data Scientist en Grupo Hotusa desarrollando diferentes proyectos de Machine Learning (dynamic pricing (estimación de revenue, ocupación, potencial de venta...), reservation cancellation prediction, clasificación de reviews con BERT y algunos otros)."
      ],
      "metadata": {
        "id": "3aZEo80tBOy5"
      }
    },
    {
      "cell_type": "code",
      "source": [
        "!pip install lightgbm"
      ],
      "metadata": {
        "colab": {
          "base_uri": "https://localhost:8080/"
        },
        "id": "au5yqmrmBMzC",
        "outputId": "4ca1567a-6ba6-4156-b026-a592e0359aee"
      },
      "execution_count": 1,
      "outputs": [
        {
          "output_type": "stream",
          "name": "stdout",
          "text": [
            "Looking in indexes: https://pypi.org/simple, https://us-python.pkg.dev/colab-wheels/public/simple/\n",
            "Requirement already satisfied: lightgbm in /usr/local/lib/python3.7/dist-packages (2.2.3)\n",
            "Requirement already satisfied: numpy in /usr/local/lib/python3.7/dist-packages (from lightgbm) (1.21.6)\n",
            "Requirement already satisfied: scipy in /usr/local/lib/python3.7/dist-packages (from lightgbm) (1.4.1)\n",
            "Requirement already satisfied: scikit-learn in /usr/local/lib/python3.7/dist-packages (from lightgbm) (1.0.2)\n",
            "Requirement already satisfied: joblib>=0.11 in /usr/local/lib/python3.7/dist-packages (from scikit-learn->lightgbm) (1.1.0)\n",
            "Requirement already satisfied: threadpoolctl>=2.0.0 in /usr/local/lib/python3.7/dist-packages (from scikit-learn->lightgbm) (3.1.0)\n"
          ]
        }
      ]
    },
    {
      "cell_type": "code",
      "execution_count": 2,
      "metadata": {
        "id": "om3y27M2dLIB"
      },
      "outputs": [],
      "source": [
        "import pandas as pd \n",
        "import numpy as np \n",
        "\n",
        "import random\n",
        "\n",
        "# Models\n",
        "from sklearn.model_selection import train_test_split\n",
        "from sklearn.preprocessing import StandardScaler\n",
        "from sklearn.model_selection import GridSearchCV\n",
        "from sklearn.pipeline import make_pipeline\n",
        "\n",
        "from sklearn.ensemble import RandomForestRegressor\n",
        "from sklearn.ensemble import RandomForestClassifier\n",
        "from lightgbm import LGBMClassifier\n",
        "from sklearn.svm import SVC\n",
        "\n",
        "# Evaluation metrics\n",
        "# Regression\n",
        "from sklearn.metrics import mean_squared_error, mean_absolute_error, r2_score \n",
        "\n",
        "# Classification\n",
        "from sklearn.metrics import accuracy_score, precision_score, recall_score, f1_score, roc_auc_score\n",
        "from sklearn.metrics import confusion_matrix\n",
        "\n",
        "# Visualization\n",
        "import seaborn as sns\n",
        "import matplotlib.pyplot as plt"
      ]
    },
    {
      "cell_type": "markdown",
      "source": [
        "# Dataset\n",
        "Para el reto se emplearán valores históricos del IBEX35 desde el año 1994 en periodos de un día.\n",
        "Estos datos se representan por velas japonesas.\n",
        "\n",
        "Estas indican:\n",
        "\n",
        "- El precio de apertura de un valor.\n",
        "- El precio de cierre de un valor.\n",
        "- El máximo y el mínimo que ha encontrado ese valor.\n",
        "\n",
        "En esta hackathon se trabajará con tres datasets que contienen datos históricos del IBEX35: train.csv , test_x.csv y tweets_from2015_#Ibex35.csv\n",
        "\n",
        "train.csv: Contiene datos históricos y el target a predecir.\n",
        "\n",
        "tweets_from2015_#Ibex35.csv: Contiene los tweets públicos que contienen el hashtag #Ibex35 desde el año 2015 que han recibido más de dos likes y de dos retweets.\n",
        "\n",
        "test_x.csv: Contiene tan solo las variables predictoras. Este dataset se empleará como input para tu modelo predictivo.\n",
        "\n",
        "Las variables predictoras que se presentan son:\n",
        "\n",
        "- Date: Día al que hacen referencia los datos presentados.\n",
        "- Open: Precio de apertura de ese día.\n",
        "- High: Precio máximo alcanzado durante ese día.\n",
        "- Low: Precio mínimo alcanzado durante ese día.\n",
        "- Close: Precio de cierre de ese día ajustado por splits.\n",
        "- Adj Close: Precio de cierre ajustado por splits y distribuciones de dividendos o plusvalías.\n",
        "- Volume: El número físico de acciones negociadas del índice bursátil.\n",
        "\n",
        "La variable objetivo:\n",
        "\n",
        "- Target: Esta es la variable a predecir. Es una variable binaria.\n",
        "\n",
        "  * 1: Indica que el precio de cierre tres días adelante será más alto que el precio de cierre actual.\n",
        "  * 0: Indica que el precio de cierre tres días adelante será igual o menor al precio actual.\n",
        "\n",
        "# Reto\n",
        "Desarrolla un modelo predictivo que permita predecir la variable target (si el precio de cierre del IBEX35 será superior o inferior al precio de cierre actual).\n",
        "Para ello deberas entrenar tu modelo con los datos de training (si también se usan los tweets se sumaran 100 puntos) e introducir como input de tu modelo el dataset test_x para realizar las predicciones.\n",
        "\n",
        "Crea un breve documento (máx. 2 páginas) o presentación (máx. 4 slides) explicando la solución que has empleado y porque la has empleado.\n",
        "\n",
        "# Evaluación\n",
        "La evaluación se basará en:\n",
        "\n",
        "- 800/1200:(OBJECTIVES) Se obtendrá a partir de la métrica f1-score(macro) del modelo de predicción. Comparando las predicciones que tu modelo ha hecho sobre test_x frente al ground truth.\n",
        "\n",
        "- 100/1200:(OBJECTIVES) Si eres capaz de incorporar la información de los tweets a tu modelo predictivo, se recompensara con 100 puntos extra.\n",
        "\n",
        "- 100/1200:(DOC) Breve presentación explicando lo que has hecho y cómo lo has hecho.\n",
        "\n",
        "- 200/1200:(QUALITY) Calidad del código."
      ],
      "metadata": {
        "id": "PAizXxsKee3Y"
      }
    },
    {
      "cell_type": "code",
      "source": [
        "train = pd.read_csv('/content/train.csv', parse_dates = ['Date'])\n",
        "test = pd.read_csv('/content/test_x.csv', parse_dates = ['Date'], index_col = 0)"
      ],
      "metadata": {
        "id": "bUUzEjnseH5L"
      },
      "execution_count": 3,
      "outputs": []
    },
    {
      "cell_type": "code",
      "source": [
        "train.shape"
      ],
      "metadata": {
        "colab": {
          "base_uri": "https://localhost:8080/"
        },
        "id": "dtGLEluFeNup",
        "outputId": "41da3920-2b99-41cd-8fd2-3a8f0386d702"
      },
      "execution_count": 4,
      "outputs": [
        {
          "output_type": "execute_result",
          "data": {
            "text/plain": [
              "(6554, 8)"
            ]
          },
          "metadata": {},
          "execution_count": 4
        }
      ]
    },
    {
      "cell_type": "code",
      "source": [
        "test.shape"
      ],
      "metadata": {
        "colab": {
          "base_uri": "https://localhost:8080/"
        },
        "id": "YGpVVyG-mCIu",
        "outputId": "c336db39-ea77-4d33-c12c-10bb78882417"
      },
      "execution_count": 5,
      "outputs": [
        {
          "output_type": "execute_result",
          "data": {
            "text/plain": [
              "(726, 7)"
            ]
          },
          "metadata": {},
          "execution_count": 5
        }
      ]
    },
    {
      "cell_type": "code",
      "source": [
        "train.head(10)"
      ],
      "metadata": {
        "colab": {
          "base_uri": "https://localhost:8080/",
          "height": 363
        },
        "id": "msEbxksAegUv",
        "outputId": "49c23d50-743d-4367-a42c-1d36748f3a20"
      },
      "execution_count": 6,
      "outputs": [
        {
          "output_type": "execute_result",
          "data": {
            "text/plain": [
              "        Date         Open         High          Low        Close    Adj Close  \\\n",
              "0 1994-01-03  3615.199951  3654.699951  3581.000000  3654.500000  3654.496338   \n",
              "1 1994-01-04  3654.500000  3675.500000  3625.100098  3630.300049  3630.296387   \n",
              "2 1994-01-05  3625.199951  3625.199951  3583.399902  3621.199951  3621.196289   \n",
              "3 1994-01-06          NaN          NaN          NaN          NaN          NaN   \n",
              "4 1994-01-07  3621.199951  3644.399902  3598.699951  3636.399902  3636.396240   \n",
              "5 1994-01-10  3655.199951  3678.199951  3655.199951  3660.600098  3660.596436   \n",
              "6 1994-01-11  3679.699951  3712.500000  3679.699951  3712.399902  3712.396240   \n",
              "7 1994-01-12  3712.300049  3712.300049  3675.899902  3680.100098  3680.096436   \n",
              "8 1994-01-13  3680.100098  3698.199951  3670.399902  3680.800049  3680.796387   \n",
              "9 1994-01-14  3680.800049  3737.399902  3662.899902  3736.399902  3736.395996   \n",
              "\n",
              "   Volume  Target  \n",
              "0     0.0       0  \n",
              "1     0.0       1  \n",
              "2     0.0       1  \n",
              "3     NaN       0  \n",
              "4     0.0       1  \n",
              "5     0.0       1  \n",
              "6     0.0       1  \n",
              "7     0.0       1  \n",
              "8     0.0       1  \n",
              "9     0.0       1  "
            ],
            "text/html": [
              "\n",
              "  <div id=\"df-1fa79306-5f87-471f-93ba-ad4aa5d1cfe0\">\n",
              "    <div class=\"colab-df-container\">\n",
              "      <div>\n",
              "<style scoped>\n",
              "    .dataframe tbody tr th:only-of-type {\n",
              "        vertical-align: middle;\n",
              "    }\n",
              "\n",
              "    .dataframe tbody tr th {\n",
              "        vertical-align: top;\n",
              "    }\n",
              "\n",
              "    .dataframe thead th {\n",
              "        text-align: right;\n",
              "    }\n",
              "</style>\n",
              "<table border=\"1\" class=\"dataframe\">\n",
              "  <thead>\n",
              "    <tr style=\"text-align: right;\">\n",
              "      <th></th>\n",
              "      <th>Date</th>\n",
              "      <th>Open</th>\n",
              "      <th>High</th>\n",
              "      <th>Low</th>\n",
              "      <th>Close</th>\n",
              "      <th>Adj Close</th>\n",
              "      <th>Volume</th>\n",
              "      <th>Target</th>\n",
              "    </tr>\n",
              "  </thead>\n",
              "  <tbody>\n",
              "    <tr>\n",
              "      <th>0</th>\n",
              "      <td>1994-01-03</td>\n",
              "      <td>3615.199951</td>\n",
              "      <td>3654.699951</td>\n",
              "      <td>3581.000000</td>\n",
              "      <td>3654.500000</td>\n",
              "      <td>3654.496338</td>\n",
              "      <td>0.0</td>\n",
              "      <td>0</td>\n",
              "    </tr>\n",
              "    <tr>\n",
              "      <th>1</th>\n",
              "      <td>1994-01-04</td>\n",
              "      <td>3654.500000</td>\n",
              "      <td>3675.500000</td>\n",
              "      <td>3625.100098</td>\n",
              "      <td>3630.300049</td>\n",
              "      <td>3630.296387</td>\n",
              "      <td>0.0</td>\n",
              "      <td>1</td>\n",
              "    </tr>\n",
              "    <tr>\n",
              "      <th>2</th>\n",
              "      <td>1994-01-05</td>\n",
              "      <td>3625.199951</td>\n",
              "      <td>3625.199951</td>\n",
              "      <td>3583.399902</td>\n",
              "      <td>3621.199951</td>\n",
              "      <td>3621.196289</td>\n",
              "      <td>0.0</td>\n",
              "      <td>1</td>\n",
              "    </tr>\n",
              "    <tr>\n",
              "      <th>3</th>\n",
              "      <td>1994-01-06</td>\n",
              "      <td>NaN</td>\n",
              "      <td>NaN</td>\n",
              "      <td>NaN</td>\n",
              "      <td>NaN</td>\n",
              "      <td>NaN</td>\n",
              "      <td>NaN</td>\n",
              "      <td>0</td>\n",
              "    </tr>\n",
              "    <tr>\n",
              "      <th>4</th>\n",
              "      <td>1994-01-07</td>\n",
              "      <td>3621.199951</td>\n",
              "      <td>3644.399902</td>\n",
              "      <td>3598.699951</td>\n",
              "      <td>3636.399902</td>\n",
              "      <td>3636.396240</td>\n",
              "      <td>0.0</td>\n",
              "      <td>1</td>\n",
              "    </tr>\n",
              "    <tr>\n",
              "      <th>5</th>\n",
              "      <td>1994-01-10</td>\n",
              "      <td>3655.199951</td>\n",
              "      <td>3678.199951</td>\n",
              "      <td>3655.199951</td>\n",
              "      <td>3660.600098</td>\n",
              "      <td>3660.596436</td>\n",
              "      <td>0.0</td>\n",
              "      <td>1</td>\n",
              "    </tr>\n",
              "    <tr>\n",
              "      <th>6</th>\n",
              "      <td>1994-01-11</td>\n",
              "      <td>3679.699951</td>\n",
              "      <td>3712.500000</td>\n",
              "      <td>3679.699951</td>\n",
              "      <td>3712.399902</td>\n",
              "      <td>3712.396240</td>\n",
              "      <td>0.0</td>\n",
              "      <td>1</td>\n",
              "    </tr>\n",
              "    <tr>\n",
              "      <th>7</th>\n",
              "      <td>1994-01-12</td>\n",
              "      <td>3712.300049</td>\n",
              "      <td>3712.300049</td>\n",
              "      <td>3675.899902</td>\n",
              "      <td>3680.100098</td>\n",
              "      <td>3680.096436</td>\n",
              "      <td>0.0</td>\n",
              "      <td>1</td>\n",
              "    </tr>\n",
              "    <tr>\n",
              "      <th>8</th>\n",
              "      <td>1994-01-13</td>\n",
              "      <td>3680.100098</td>\n",
              "      <td>3698.199951</td>\n",
              "      <td>3670.399902</td>\n",
              "      <td>3680.800049</td>\n",
              "      <td>3680.796387</td>\n",
              "      <td>0.0</td>\n",
              "      <td>1</td>\n",
              "    </tr>\n",
              "    <tr>\n",
              "      <th>9</th>\n",
              "      <td>1994-01-14</td>\n",
              "      <td>3680.800049</td>\n",
              "      <td>3737.399902</td>\n",
              "      <td>3662.899902</td>\n",
              "      <td>3736.399902</td>\n",
              "      <td>3736.395996</td>\n",
              "      <td>0.0</td>\n",
              "      <td>1</td>\n",
              "    </tr>\n",
              "  </tbody>\n",
              "</table>\n",
              "</div>\n",
              "      <button class=\"colab-df-convert\" onclick=\"convertToInteractive('df-1fa79306-5f87-471f-93ba-ad4aa5d1cfe0')\"\n",
              "              title=\"Convert this dataframe to an interactive table.\"\n",
              "              style=\"display:none;\">\n",
              "        \n",
              "  <svg xmlns=\"http://www.w3.org/2000/svg\" height=\"24px\"viewBox=\"0 0 24 24\"\n",
              "       width=\"24px\">\n",
              "    <path d=\"M0 0h24v24H0V0z\" fill=\"none\"/>\n",
              "    <path d=\"M18.56 5.44l.94 2.06.94-2.06 2.06-.94-2.06-.94-.94-2.06-.94 2.06-2.06.94zm-11 1L8.5 8.5l.94-2.06 2.06-.94-2.06-.94L8.5 2.5l-.94 2.06-2.06.94zm10 10l.94 2.06.94-2.06 2.06-.94-2.06-.94-.94-2.06-.94 2.06-2.06.94z\"/><path d=\"M17.41 7.96l-1.37-1.37c-.4-.4-.92-.59-1.43-.59-.52 0-1.04.2-1.43.59L10.3 9.45l-7.72 7.72c-.78.78-.78 2.05 0 2.83L4 21.41c.39.39.9.59 1.41.59.51 0 1.02-.2 1.41-.59l7.78-7.78 2.81-2.81c.8-.78.8-2.07 0-2.86zM5.41 20L4 18.59l7.72-7.72 1.47 1.35L5.41 20z\"/>\n",
              "  </svg>\n",
              "      </button>\n",
              "      \n",
              "  <style>\n",
              "    .colab-df-container {\n",
              "      display:flex;\n",
              "      flex-wrap:wrap;\n",
              "      gap: 12px;\n",
              "    }\n",
              "\n",
              "    .colab-df-convert {\n",
              "      background-color: #E8F0FE;\n",
              "      border: none;\n",
              "      border-radius: 50%;\n",
              "      cursor: pointer;\n",
              "      display: none;\n",
              "      fill: #1967D2;\n",
              "      height: 32px;\n",
              "      padding: 0 0 0 0;\n",
              "      width: 32px;\n",
              "    }\n",
              "\n",
              "    .colab-df-convert:hover {\n",
              "      background-color: #E2EBFA;\n",
              "      box-shadow: 0px 1px 2px rgba(60, 64, 67, 0.3), 0px 1px 3px 1px rgba(60, 64, 67, 0.15);\n",
              "      fill: #174EA6;\n",
              "    }\n",
              "\n",
              "    [theme=dark] .colab-df-convert {\n",
              "      background-color: #3B4455;\n",
              "      fill: #D2E3FC;\n",
              "    }\n",
              "\n",
              "    [theme=dark] .colab-df-convert:hover {\n",
              "      background-color: #434B5C;\n",
              "      box-shadow: 0px 1px 3px 1px rgba(0, 0, 0, 0.15);\n",
              "      filter: drop-shadow(0px 1px 2px rgba(0, 0, 0, 0.3));\n",
              "      fill: #FFFFFF;\n",
              "    }\n",
              "  </style>\n",
              "\n",
              "      <script>\n",
              "        const buttonEl =\n",
              "          document.querySelector('#df-1fa79306-5f87-471f-93ba-ad4aa5d1cfe0 button.colab-df-convert');\n",
              "        buttonEl.style.display =\n",
              "          google.colab.kernel.accessAllowed ? 'block' : 'none';\n",
              "\n",
              "        async function convertToInteractive(key) {\n",
              "          const element = document.querySelector('#df-1fa79306-5f87-471f-93ba-ad4aa5d1cfe0');\n",
              "          const dataTable =\n",
              "            await google.colab.kernel.invokeFunction('convertToInteractive',\n",
              "                                                     [key], {});\n",
              "          if (!dataTable) return;\n",
              "\n",
              "          const docLinkHtml = 'Like what you see? Visit the ' +\n",
              "            '<a target=\"_blank\" href=https://colab.research.google.com/notebooks/data_table.ipynb>data table notebook</a>'\n",
              "            + ' to learn more about interactive tables.';\n",
              "          element.innerHTML = '';\n",
              "          dataTable['output_type'] = 'display_data';\n",
              "          await google.colab.output.renderOutput(dataTable, element);\n",
              "          const docLink = document.createElement('div');\n",
              "          docLink.innerHTML = docLinkHtml;\n",
              "          element.appendChild(docLink);\n",
              "        }\n",
              "      </script>\n",
              "    </div>\n",
              "  </div>\n",
              "  "
            ]
          },
          "metadata": {},
          "execution_count": 6
        }
      ]
    },
    {
      "cell_type": "code",
      "source": [
        "test.head(5)"
      ],
      "metadata": {
        "colab": {
          "base_uri": "https://localhost:8080/",
          "height": 237
        },
        "id": "wXlAr5GpmSx1",
        "outputId": "4ce7e594-7331-4de9-ded7-f274fc3a8e51"
      },
      "execution_count": 7,
      "outputs": [
        {
          "output_type": "execute_result",
          "data": {
            "text/plain": [
              "                 Date         Open         High          Low        Close  \\\n",
              "test_index                                                                  \n",
              "6557       2019-06-05  9136.799805  9173.400391  9095.000000  9150.500000   \n",
              "6558       2019-06-06  9169.200195  9246.200195  9136.700195  9169.200195   \n",
              "6559       2019-06-07  9186.700195  9261.400391  9185.700195  9236.099609   \n",
              "6560       2019-06-10  9284.200195  9302.200195  9248.099609  9294.099609   \n",
              "6561       2019-06-11  9288.599609  9332.500000  9273.400391  9282.099609   \n",
              "\n",
              "              Adj Close       Volume  \n",
              "test_index                            \n",
              "6557        9150.500000  158753000.0  \n",
              "6558        9169.200195  212720900.0  \n",
              "6559        9236.099609  150664700.0  \n",
              "6560        9294.099609  102323700.0  \n",
              "6561        9282.099609  144701200.0  "
            ],
            "text/html": [
              "\n",
              "  <div id=\"df-b3a30b29-db66-4a2b-ab9e-8ae26ecc209b\">\n",
              "    <div class=\"colab-df-container\">\n",
              "      <div>\n",
              "<style scoped>\n",
              "    .dataframe tbody tr th:only-of-type {\n",
              "        vertical-align: middle;\n",
              "    }\n",
              "\n",
              "    .dataframe tbody tr th {\n",
              "        vertical-align: top;\n",
              "    }\n",
              "\n",
              "    .dataframe thead th {\n",
              "        text-align: right;\n",
              "    }\n",
              "</style>\n",
              "<table border=\"1\" class=\"dataframe\">\n",
              "  <thead>\n",
              "    <tr style=\"text-align: right;\">\n",
              "      <th></th>\n",
              "      <th>Date</th>\n",
              "      <th>Open</th>\n",
              "      <th>High</th>\n",
              "      <th>Low</th>\n",
              "      <th>Close</th>\n",
              "      <th>Adj Close</th>\n",
              "      <th>Volume</th>\n",
              "    </tr>\n",
              "    <tr>\n",
              "      <th>test_index</th>\n",
              "      <th></th>\n",
              "      <th></th>\n",
              "      <th></th>\n",
              "      <th></th>\n",
              "      <th></th>\n",
              "      <th></th>\n",
              "      <th></th>\n",
              "    </tr>\n",
              "  </thead>\n",
              "  <tbody>\n",
              "    <tr>\n",
              "      <th>6557</th>\n",
              "      <td>2019-06-05</td>\n",
              "      <td>9136.799805</td>\n",
              "      <td>9173.400391</td>\n",
              "      <td>9095.000000</td>\n",
              "      <td>9150.500000</td>\n",
              "      <td>9150.500000</td>\n",
              "      <td>158753000.0</td>\n",
              "    </tr>\n",
              "    <tr>\n",
              "      <th>6558</th>\n",
              "      <td>2019-06-06</td>\n",
              "      <td>9169.200195</td>\n",
              "      <td>9246.200195</td>\n",
              "      <td>9136.700195</td>\n",
              "      <td>9169.200195</td>\n",
              "      <td>9169.200195</td>\n",
              "      <td>212720900.0</td>\n",
              "    </tr>\n",
              "    <tr>\n",
              "      <th>6559</th>\n",
              "      <td>2019-06-07</td>\n",
              "      <td>9186.700195</td>\n",
              "      <td>9261.400391</td>\n",
              "      <td>9185.700195</td>\n",
              "      <td>9236.099609</td>\n",
              "      <td>9236.099609</td>\n",
              "      <td>150664700.0</td>\n",
              "    </tr>\n",
              "    <tr>\n",
              "      <th>6560</th>\n",
              "      <td>2019-06-10</td>\n",
              "      <td>9284.200195</td>\n",
              "      <td>9302.200195</td>\n",
              "      <td>9248.099609</td>\n",
              "      <td>9294.099609</td>\n",
              "      <td>9294.099609</td>\n",
              "      <td>102323700.0</td>\n",
              "    </tr>\n",
              "    <tr>\n",
              "      <th>6561</th>\n",
              "      <td>2019-06-11</td>\n",
              "      <td>9288.599609</td>\n",
              "      <td>9332.500000</td>\n",
              "      <td>9273.400391</td>\n",
              "      <td>9282.099609</td>\n",
              "      <td>9282.099609</td>\n",
              "      <td>144701200.0</td>\n",
              "    </tr>\n",
              "  </tbody>\n",
              "</table>\n",
              "</div>\n",
              "      <button class=\"colab-df-convert\" onclick=\"convertToInteractive('df-b3a30b29-db66-4a2b-ab9e-8ae26ecc209b')\"\n",
              "              title=\"Convert this dataframe to an interactive table.\"\n",
              "              style=\"display:none;\">\n",
              "        \n",
              "  <svg xmlns=\"http://www.w3.org/2000/svg\" height=\"24px\"viewBox=\"0 0 24 24\"\n",
              "       width=\"24px\">\n",
              "    <path d=\"M0 0h24v24H0V0z\" fill=\"none\"/>\n",
              "    <path d=\"M18.56 5.44l.94 2.06.94-2.06 2.06-.94-2.06-.94-.94-2.06-.94 2.06-2.06.94zm-11 1L8.5 8.5l.94-2.06 2.06-.94-2.06-.94L8.5 2.5l-.94 2.06-2.06.94zm10 10l.94 2.06.94-2.06 2.06-.94-2.06-.94-.94-2.06-.94 2.06-2.06.94z\"/><path d=\"M17.41 7.96l-1.37-1.37c-.4-.4-.92-.59-1.43-.59-.52 0-1.04.2-1.43.59L10.3 9.45l-7.72 7.72c-.78.78-.78 2.05 0 2.83L4 21.41c.39.39.9.59 1.41.59.51 0 1.02-.2 1.41-.59l7.78-7.78 2.81-2.81c.8-.78.8-2.07 0-2.86zM5.41 20L4 18.59l7.72-7.72 1.47 1.35L5.41 20z\"/>\n",
              "  </svg>\n",
              "      </button>\n",
              "      \n",
              "  <style>\n",
              "    .colab-df-container {\n",
              "      display:flex;\n",
              "      flex-wrap:wrap;\n",
              "      gap: 12px;\n",
              "    }\n",
              "\n",
              "    .colab-df-convert {\n",
              "      background-color: #E8F0FE;\n",
              "      border: none;\n",
              "      border-radius: 50%;\n",
              "      cursor: pointer;\n",
              "      display: none;\n",
              "      fill: #1967D2;\n",
              "      height: 32px;\n",
              "      padding: 0 0 0 0;\n",
              "      width: 32px;\n",
              "    }\n",
              "\n",
              "    .colab-df-convert:hover {\n",
              "      background-color: #E2EBFA;\n",
              "      box-shadow: 0px 1px 2px rgba(60, 64, 67, 0.3), 0px 1px 3px 1px rgba(60, 64, 67, 0.15);\n",
              "      fill: #174EA6;\n",
              "    }\n",
              "\n",
              "    [theme=dark] .colab-df-convert {\n",
              "      background-color: #3B4455;\n",
              "      fill: #D2E3FC;\n",
              "    }\n",
              "\n",
              "    [theme=dark] .colab-df-convert:hover {\n",
              "      background-color: #434B5C;\n",
              "      box-shadow: 0px 1px 3px 1px rgba(0, 0, 0, 0.15);\n",
              "      filter: drop-shadow(0px 1px 2px rgba(0, 0, 0, 0.3));\n",
              "      fill: #FFFFFF;\n",
              "    }\n",
              "  </style>\n",
              "\n",
              "      <script>\n",
              "        const buttonEl =\n",
              "          document.querySelector('#df-b3a30b29-db66-4a2b-ab9e-8ae26ecc209b button.colab-df-convert');\n",
              "        buttonEl.style.display =\n",
              "          google.colab.kernel.accessAllowed ? 'block' : 'none';\n",
              "\n",
              "        async function convertToInteractive(key) {\n",
              "          const element = document.querySelector('#df-b3a30b29-db66-4a2b-ab9e-8ae26ecc209b');\n",
              "          const dataTable =\n",
              "            await google.colab.kernel.invokeFunction('convertToInteractive',\n",
              "                                                     [key], {});\n",
              "          if (!dataTable) return;\n",
              "\n",
              "          const docLinkHtml = 'Like what you see? Visit the ' +\n",
              "            '<a target=\"_blank\" href=https://colab.research.google.com/notebooks/data_table.ipynb>data table notebook</a>'\n",
              "            + ' to learn more about interactive tables.';\n",
              "          element.innerHTML = '';\n",
              "          dataTable['output_type'] = 'display_data';\n",
              "          await google.colab.output.renderOutput(dataTable, element);\n",
              "          const docLink = document.createElement('div');\n",
              "          docLink.innerHTML = docLinkHtml;\n",
              "          element.appendChild(docLink);\n",
              "        }\n",
              "      </script>\n",
              "    </div>\n",
              "  </div>\n",
              "  "
            ]
          },
          "metadata": {},
          "execution_count": 7
        }
      ]
    },
    {
      "cell_type": "code",
      "source": [
        "train.describe()"
      ],
      "metadata": {
        "colab": {
          "base_uri": "https://localhost:8080/",
          "height": 300
        },
        "id": "TTODJV5pfIeg",
        "outputId": "0d4e7671-d4f6-4594-f80b-098165323a0d"
      },
      "execution_count": 8,
      "outputs": [
        {
          "output_type": "execute_result",
          "data": {
            "text/plain": [
              "               Open          High           Low         Close     Adj Close  \\\n",
              "count   6421.000000   6421.000000   6421.000000   6421.000000   6421.000000   \n",
              "mean    8936.540448   9005.235576   8858.340567   8934.978558   8934.970624   \n",
              "std     2732.102441   2749.009324   2712.511028   2731.032625   2731.030170   \n",
              "min     2865.100098   2877.300049   2833.600098   2865.100098   2865.097168   \n",
              "25%     7732.399902   7817.200195   7641.500000   7727.799805   7727.791992   \n",
              "50%     9329.700195   9404.599609   9243.000000   9331.000000   9331.000000   \n",
              "75%    10525.500000  10590.299805  10441.200195  10523.400391  10523.400391   \n",
              "max    15999.200195  16040.400391  15868.599609  15945.700195  15945.683594   \n",
              "\n",
              "             Volume       Target  \n",
              "count  6.421000e+03  6554.000000  \n",
              "mean   8.218074e+07     0.516936  \n",
              "std    1.231845e+08     0.499751  \n",
              "min    0.000000e+00     0.000000  \n",
              "25%    0.000000e+00     0.000000  \n",
              "50%    1.966000e+05     1.000000  \n",
              "75%    1.773980e+08     1.000000  \n",
              "max    7.894902e+08     1.000000  "
            ],
            "text/html": [
              "\n",
              "  <div id=\"df-81ae485a-d82e-43fd-bb42-9635cb9f4788\">\n",
              "    <div class=\"colab-df-container\">\n",
              "      <div>\n",
              "<style scoped>\n",
              "    .dataframe tbody tr th:only-of-type {\n",
              "        vertical-align: middle;\n",
              "    }\n",
              "\n",
              "    .dataframe tbody tr th {\n",
              "        vertical-align: top;\n",
              "    }\n",
              "\n",
              "    .dataframe thead th {\n",
              "        text-align: right;\n",
              "    }\n",
              "</style>\n",
              "<table border=\"1\" class=\"dataframe\">\n",
              "  <thead>\n",
              "    <tr style=\"text-align: right;\">\n",
              "      <th></th>\n",
              "      <th>Open</th>\n",
              "      <th>High</th>\n",
              "      <th>Low</th>\n",
              "      <th>Close</th>\n",
              "      <th>Adj Close</th>\n",
              "      <th>Volume</th>\n",
              "      <th>Target</th>\n",
              "    </tr>\n",
              "  </thead>\n",
              "  <tbody>\n",
              "    <tr>\n",
              "      <th>count</th>\n",
              "      <td>6421.000000</td>\n",
              "      <td>6421.000000</td>\n",
              "      <td>6421.000000</td>\n",
              "      <td>6421.000000</td>\n",
              "      <td>6421.000000</td>\n",
              "      <td>6.421000e+03</td>\n",
              "      <td>6554.000000</td>\n",
              "    </tr>\n",
              "    <tr>\n",
              "      <th>mean</th>\n",
              "      <td>8936.540448</td>\n",
              "      <td>9005.235576</td>\n",
              "      <td>8858.340567</td>\n",
              "      <td>8934.978558</td>\n",
              "      <td>8934.970624</td>\n",
              "      <td>8.218074e+07</td>\n",
              "      <td>0.516936</td>\n",
              "    </tr>\n",
              "    <tr>\n",
              "      <th>std</th>\n",
              "      <td>2732.102441</td>\n",
              "      <td>2749.009324</td>\n",
              "      <td>2712.511028</td>\n",
              "      <td>2731.032625</td>\n",
              "      <td>2731.030170</td>\n",
              "      <td>1.231845e+08</td>\n",
              "      <td>0.499751</td>\n",
              "    </tr>\n",
              "    <tr>\n",
              "      <th>min</th>\n",
              "      <td>2865.100098</td>\n",
              "      <td>2877.300049</td>\n",
              "      <td>2833.600098</td>\n",
              "      <td>2865.100098</td>\n",
              "      <td>2865.097168</td>\n",
              "      <td>0.000000e+00</td>\n",
              "      <td>0.000000</td>\n",
              "    </tr>\n",
              "    <tr>\n",
              "      <th>25%</th>\n",
              "      <td>7732.399902</td>\n",
              "      <td>7817.200195</td>\n",
              "      <td>7641.500000</td>\n",
              "      <td>7727.799805</td>\n",
              "      <td>7727.791992</td>\n",
              "      <td>0.000000e+00</td>\n",
              "      <td>0.000000</td>\n",
              "    </tr>\n",
              "    <tr>\n",
              "      <th>50%</th>\n",
              "      <td>9329.700195</td>\n",
              "      <td>9404.599609</td>\n",
              "      <td>9243.000000</td>\n",
              "      <td>9331.000000</td>\n",
              "      <td>9331.000000</td>\n",
              "      <td>1.966000e+05</td>\n",
              "      <td>1.000000</td>\n",
              "    </tr>\n",
              "    <tr>\n",
              "      <th>75%</th>\n",
              "      <td>10525.500000</td>\n",
              "      <td>10590.299805</td>\n",
              "      <td>10441.200195</td>\n",
              "      <td>10523.400391</td>\n",
              "      <td>10523.400391</td>\n",
              "      <td>1.773980e+08</td>\n",
              "      <td>1.000000</td>\n",
              "    </tr>\n",
              "    <tr>\n",
              "      <th>max</th>\n",
              "      <td>15999.200195</td>\n",
              "      <td>16040.400391</td>\n",
              "      <td>15868.599609</td>\n",
              "      <td>15945.700195</td>\n",
              "      <td>15945.683594</td>\n",
              "      <td>7.894902e+08</td>\n",
              "      <td>1.000000</td>\n",
              "    </tr>\n",
              "  </tbody>\n",
              "</table>\n",
              "</div>\n",
              "      <button class=\"colab-df-convert\" onclick=\"convertToInteractive('df-81ae485a-d82e-43fd-bb42-9635cb9f4788')\"\n",
              "              title=\"Convert this dataframe to an interactive table.\"\n",
              "              style=\"display:none;\">\n",
              "        \n",
              "  <svg xmlns=\"http://www.w3.org/2000/svg\" height=\"24px\"viewBox=\"0 0 24 24\"\n",
              "       width=\"24px\">\n",
              "    <path d=\"M0 0h24v24H0V0z\" fill=\"none\"/>\n",
              "    <path d=\"M18.56 5.44l.94 2.06.94-2.06 2.06-.94-2.06-.94-.94-2.06-.94 2.06-2.06.94zm-11 1L8.5 8.5l.94-2.06 2.06-.94-2.06-.94L8.5 2.5l-.94 2.06-2.06.94zm10 10l.94 2.06.94-2.06 2.06-.94-2.06-.94-.94-2.06-.94 2.06-2.06.94z\"/><path d=\"M17.41 7.96l-1.37-1.37c-.4-.4-.92-.59-1.43-.59-.52 0-1.04.2-1.43.59L10.3 9.45l-7.72 7.72c-.78.78-.78 2.05 0 2.83L4 21.41c.39.39.9.59 1.41.59.51 0 1.02-.2 1.41-.59l7.78-7.78 2.81-2.81c.8-.78.8-2.07 0-2.86zM5.41 20L4 18.59l7.72-7.72 1.47 1.35L5.41 20z\"/>\n",
              "  </svg>\n",
              "      </button>\n",
              "      \n",
              "  <style>\n",
              "    .colab-df-container {\n",
              "      display:flex;\n",
              "      flex-wrap:wrap;\n",
              "      gap: 12px;\n",
              "    }\n",
              "\n",
              "    .colab-df-convert {\n",
              "      background-color: #E8F0FE;\n",
              "      border: none;\n",
              "      border-radius: 50%;\n",
              "      cursor: pointer;\n",
              "      display: none;\n",
              "      fill: #1967D2;\n",
              "      height: 32px;\n",
              "      padding: 0 0 0 0;\n",
              "      width: 32px;\n",
              "    }\n",
              "\n",
              "    .colab-df-convert:hover {\n",
              "      background-color: #E2EBFA;\n",
              "      box-shadow: 0px 1px 2px rgba(60, 64, 67, 0.3), 0px 1px 3px 1px rgba(60, 64, 67, 0.15);\n",
              "      fill: #174EA6;\n",
              "    }\n",
              "\n",
              "    [theme=dark] .colab-df-convert {\n",
              "      background-color: #3B4455;\n",
              "      fill: #D2E3FC;\n",
              "    }\n",
              "\n",
              "    [theme=dark] .colab-df-convert:hover {\n",
              "      background-color: #434B5C;\n",
              "      box-shadow: 0px 1px 3px 1px rgba(0, 0, 0, 0.15);\n",
              "      filter: drop-shadow(0px 1px 2px rgba(0, 0, 0, 0.3));\n",
              "      fill: #FFFFFF;\n",
              "    }\n",
              "  </style>\n",
              "\n",
              "      <script>\n",
              "        const buttonEl =\n",
              "          document.querySelector('#df-81ae485a-d82e-43fd-bb42-9635cb9f4788 button.colab-df-convert');\n",
              "        buttonEl.style.display =\n",
              "          google.colab.kernel.accessAllowed ? 'block' : 'none';\n",
              "\n",
              "        async function convertToInteractive(key) {\n",
              "          const element = document.querySelector('#df-81ae485a-d82e-43fd-bb42-9635cb9f4788');\n",
              "          const dataTable =\n",
              "            await google.colab.kernel.invokeFunction('convertToInteractive',\n",
              "                                                     [key], {});\n",
              "          if (!dataTable) return;\n",
              "\n",
              "          const docLinkHtml = 'Like what you see? Visit the ' +\n",
              "            '<a target=\"_blank\" href=https://colab.research.google.com/notebooks/data_table.ipynb>data table notebook</a>'\n",
              "            + ' to learn more about interactive tables.';\n",
              "          element.innerHTML = '';\n",
              "          dataTable['output_type'] = 'display_data';\n",
              "          await google.colab.output.renderOutput(dataTable, element);\n",
              "          const docLink = document.createElement('div');\n",
              "          docLink.innerHTML = docLinkHtml;\n",
              "          element.appendChild(docLink);\n",
              "        }\n",
              "      </script>\n",
              "    </div>\n",
              "  </div>\n",
              "  "
            ]
          },
          "metadata": {},
          "execution_count": 8
        }
      ]
    },
    {
      "cell_type": "code",
      "source": [
        "train.isnull().sum()"
      ],
      "metadata": {
        "colab": {
          "base_uri": "https://localhost:8080/"
        },
        "id": "fS6JSg43fXz5",
        "outputId": "4de014eb-a006-49c6-cb45-8ea2ca5d9500"
      },
      "execution_count": 9,
      "outputs": [
        {
          "output_type": "execute_result",
          "data": {
            "text/plain": [
              "Date           0\n",
              "Open         133\n",
              "High         133\n",
              "Low          133\n",
              "Close        133\n",
              "Adj Close    133\n",
              "Volume       133\n",
              "Target         0\n",
              "dtype: int64"
            ]
          },
          "metadata": {},
          "execution_count": 9
        }
      ]
    },
    {
      "cell_type": "code",
      "source": [
        "train[train.isnull().sum(axis=1) != 0]"
      ],
      "metadata": {
        "colab": {
          "base_uri": "https://localhost:8080/",
          "height": 423
        },
        "id": "80qEwwAqf49z",
        "outputId": "e7b97f3c-c76d-42fc-c3f8-165031841e97"
      },
      "execution_count": 10,
      "outputs": [
        {
          "output_type": "execute_result",
          "data": {
            "text/plain": [
              "           Date  Open  High  Low  Close  Adj Close  Volume  Target\n",
              "3    1994-01-06   NaN   NaN  NaN    NaN        NaN     NaN       0\n",
              "64   1994-04-01   NaN   NaN  NaN    NaN        NaN     NaN       0\n",
              "65   1994-04-04   NaN   NaN  NaN    NaN        NaN     NaN       0\n",
              "85   1994-05-02   NaN   NaN  NaN    NaN        NaN     NaN       0\n",
              "202  1994-10-12   NaN   NaN  NaN    NaN        NaN     NaN       0\n",
              "...         ...   ...   ...  ...    ...        ...     ...     ...\n",
              "3125 2005-12-26   NaN   NaN  NaN    NaN        NaN     NaN       0\n",
              "3385 2007-01-01   NaN   NaN  NaN    NaN        NaN     NaN       0\n",
              "3637 2007-12-24   NaN   NaN  NaN    NaN        NaN     NaN       0\n",
              "4661 2012-01-02   NaN   NaN  NaN    NaN        NaN     NaN       0\n",
              "5940 2017-01-02   NaN   NaN  NaN    NaN        NaN     NaN       0\n",
              "\n",
              "[133 rows x 8 columns]"
            ],
            "text/html": [
              "\n",
              "  <div id=\"df-b56fc905-1ec1-4b86-a95d-d72f4f8a55b0\">\n",
              "    <div class=\"colab-df-container\">\n",
              "      <div>\n",
              "<style scoped>\n",
              "    .dataframe tbody tr th:only-of-type {\n",
              "        vertical-align: middle;\n",
              "    }\n",
              "\n",
              "    .dataframe tbody tr th {\n",
              "        vertical-align: top;\n",
              "    }\n",
              "\n",
              "    .dataframe thead th {\n",
              "        text-align: right;\n",
              "    }\n",
              "</style>\n",
              "<table border=\"1\" class=\"dataframe\">\n",
              "  <thead>\n",
              "    <tr style=\"text-align: right;\">\n",
              "      <th></th>\n",
              "      <th>Date</th>\n",
              "      <th>Open</th>\n",
              "      <th>High</th>\n",
              "      <th>Low</th>\n",
              "      <th>Close</th>\n",
              "      <th>Adj Close</th>\n",
              "      <th>Volume</th>\n",
              "      <th>Target</th>\n",
              "    </tr>\n",
              "  </thead>\n",
              "  <tbody>\n",
              "    <tr>\n",
              "      <th>3</th>\n",
              "      <td>1994-01-06</td>\n",
              "      <td>NaN</td>\n",
              "      <td>NaN</td>\n",
              "      <td>NaN</td>\n",
              "      <td>NaN</td>\n",
              "      <td>NaN</td>\n",
              "      <td>NaN</td>\n",
              "      <td>0</td>\n",
              "    </tr>\n",
              "    <tr>\n",
              "      <th>64</th>\n",
              "      <td>1994-04-01</td>\n",
              "      <td>NaN</td>\n",
              "      <td>NaN</td>\n",
              "      <td>NaN</td>\n",
              "      <td>NaN</td>\n",
              "      <td>NaN</td>\n",
              "      <td>NaN</td>\n",
              "      <td>0</td>\n",
              "    </tr>\n",
              "    <tr>\n",
              "      <th>65</th>\n",
              "      <td>1994-04-04</td>\n",
              "      <td>NaN</td>\n",
              "      <td>NaN</td>\n",
              "      <td>NaN</td>\n",
              "      <td>NaN</td>\n",
              "      <td>NaN</td>\n",
              "      <td>NaN</td>\n",
              "      <td>0</td>\n",
              "    </tr>\n",
              "    <tr>\n",
              "      <th>85</th>\n",
              "      <td>1994-05-02</td>\n",
              "      <td>NaN</td>\n",
              "      <td>NaN</td>\n",
              "      <td>NaN</td>\n",
              "      <td>NaN</td>\n",
              "      <td>NaN</td>\n",
              "      <td>NaN</td>\n",
              "      <td>0</td>\n",
              "    </tr>\n",
              "    <tr>\n",
              "      <th>202</th>\n",
              "      <td>1994-10-12</td>\n",
              "      <td>NaN</td>\n",
              "      <td>NaN</td>\n",
              "      <td>NaN</td>\n",
              "      <td>NaN</td>\n",
              "      <td>NaN</td>\n",
              "      <td>NaN</td>\n",
              "      <td>0</td>\n",
              "    </tr>\n",
              "    <tr>\n",
              "      <th>...</th>\n",
              "      <td>...</td>\n",
              "      <td>...</td>\n",
              "      <td>...</td>\n",
              "      <td>...</td>\n",
              "      <td>...</td>\n",
              "      <td>...</td>\n",
              "      <td>...</td>\n",
              "      <td>...</td>\n",
              "    </tr>\n",
              "    <tr>\n",
              "      <th>3125</th>\n",
              "      <td>2005-12-26</td>\n",
              "      <td>NaN</td>\n",
              "      <td>NaN</td>\n",
              "      <td>NaN</td>\n",
              "      <td>NaN</td>\n",
              "      <td>NaN</td>\n",
              "      <td>NaN</td>\n",
              "      <td>0</td>\n",
              "    </tr>\n",
              "    <tr>\n",
              "      <th>3385</th>\n",
              "      <td>2007-01-01</td>\n",
              "      <td>NaN</td>\n",
              "      <td>NaN</td>\n",
              "      <td>NaN</td>\n",
              "      <td>NaN</td>\n",
              "      <td>NaN</td>\n",
              "      <td>NaN</td>\n",
              "      <td>0</td>\n",
              "    </tr>\n",
              "    <tr>\n",
              "      <th>3637</th>\n",
              "      <td>2007-12-24</td>\n",
              "      <td>NaN</td>\n",
              "      <td>NaN</td>\n",
              "      <td>NaN</td>\n",
              "      <td>NaN</td>\n",
              "      <td>NaN</td>\n",
              "      <td>NaN</td>\n",
              "      <td>0</td>\n",
              "    </tr>\n",
              "    <tr>\n",
              "      <th>4661</th>\n",
              "      <td>2012-01-02</td>\n",
              "      <td>NaN</td>\n",
              "      <td>NaN</td>\n",
              "      <td>NaN</td>\n",
              "      <td>NaN</td>\n",
              "      <td>NaN</td>\n",
              "      <td>NaN</td>\n",
              "      <td>0</td>\n",
              "    </tr>\n",
              "    <tr>\n",
              "      <th>5940</th>\n",
              "      <td>2017-01-02</td>\n",
              "      <td>NaN</td>\n",
              "      <td>NaN</td>\n",
              "      <td>NaN</td>\n",
              "      <td>NaN</td>\n",
              "      <td>NaN</td>\n",
              "      <td>NaN</td>\n",
              "      <td>0</td>\n",
              "    </tr>\n",
              "  </tbody>\n",
              "</table>\n",
              "<p>133 rows × 8 columns</p>\n",
              "</div>\n",
              "      <button class=\"colab-df-convert\" onclick=\"convertToInteractive('df-b56fc905-1ec1-4b86-a95d-d72f4f8a55b0')\"\n",
              "              title=\"Convert this dataframe to an interactive table.\"\n",
              "              style=\"display:none;\">\n",
              "        \n",
              "  <svg xmlns=\"http://www.w3.org/2000/svg\" height=\"24px\"viewBox=\"0 0 24 24\"\n",
              "       width=\"24px\">\n",
              "    <path d=\"M0 0h24v24H0V0z\" fill=\"none\"/>\n",
              "    <path d=\"M18.56 5.44l.94 2.06.94-2.06 2.06-.94-2.06-.94-.94-2.06-.94 2.06-2.06.94zm-11 1L8.5 8.5l.94-2.06 2.06-.94-2.06-.94L8.5 2.5l-.94 2.06-2.06.94zm10 10l.94 2.06.94-2.06 2.06-.94-2.06-.94-.94-2.06-.94 2.06-2.06.94z\"/><path d=\"M17.41 7.96l-1.37-1.37c-.4-.4-.92-.59-1.43-.59-.52 0-1.04.2-1.43.59L10.3 9.45l-7.72 7.72c-.78.78-.78 2.05 0 2.83L4 21.41c.39.39.9.59 1.41.59.51 0 1.02-.2 1.41-.59l7.78-7.78 2.81-2.81c.8-.78.8-2.07 0-2.86zM5.41 20L4 18.59l7.72-7.72 1.47 1.35L5.41 20z\"/>\n",
              "  </svg>\n",
              "      </button>\n",
              "      \n",
              "  <style>\n",
              "    .colab-df-container {\n",
              "      display:flex;\n",
              "      flex-wrap:wrap;\n",
              "      gap: 12px;\n",
              "    }\n",
              "\n",
              "    .colab-df-convert {\n",
              "      background-color: #E8F0FE;\n",
              "      border: none;\n",
              "      border-radius: 50%;\n",
              "      cursor: pointer;\n",
              "      display: none;\n",
              "      fill: #1967D2;\n",
              "      height: 32px;\n",
              "      padding: 0 0 0 0;\n",
              "      width: 32px;\n",
              "    }\n",
              "\n",
              "    .colab-df-convert:hover {\n",
              "      background-color: #E2EBFA;\n",
              "      box-shadow: 0px 1px 2px rgba(60, 64, 67, 0.3), 0px 1px 3px 1px rgba(60, 64, 67, 0.15);\n",
              "      fill: #174EA6;\n",
              "    }\n",
              "\n",
              "    [theme=dark] .colab-df-convert {\n",
              "      background-color: #3B4455;\n",
              "      fill: #D2E3FC;\n",
              "    }\n",
              "\n",
              "    [theme=dark] .colab-df-convert:hover {\n",
              "      background-color: #434B5C;\n",
              "      box-shadow: 0px 1px 3px 1px rgba(0, 0, 0, 0.15);\n",
              "      filter: drop-shadow(0px 1px 2px rgba(0, 0, 0, 0.3));\n",
              "      fill: #FFFFFF;\n",
              "    }\n",
              "  </style>\n",
              "\n",
              "      <script>\n",
              "        const buttonEl =\n",
              "          document.querySelector('#df-b56fc905-1ec1-4b86-a95d-d72f4f8a55b0 button.colab-df-convert');\n",
              "        buttonEl.style.display =\n",
              "          google.colab.kernel.accessAllowed ? 'block' : 'none';\n",
              "\n",
              "        async function convertToInteractive(key) {\n",
              "          const element = document.querySelector('#df-b56fc905-1ec1-4b86-a95d-d72f4f8a55b0');\n",
              "          const dataTable =\n",
              "            await google.colab.kernel.invokeFunction('convertToInteractive',\n",
              "                                                     [key], {});\n",
              "          if (!dataTable) return;\n",
              "\n",
              "          const docLinkHtml = 'Like what you see? Visit the ' +\n",
              "            '<a target=\"_blank\" href=https://colab.research.google.com/notebooks/data_table.ipynb>data table notebook</a>'\n",
              "            + ' to learn more about interactive tables.';\n",
              "          element.innerHTML = '';\n",
              "          dataTable['output_type'] = 'display_data';\n",
              "          await google.colab.output.renderOutput(dataTable, element);\n",
              "          const docLink = document.createElement('div');\n",
              "          docLink.innerHTML = docLinkHtml;\n",
              "          element.appendChild(docLink);\n",
              "        }\n",
              "      </script>\n",
              "    </div>\n",
              "  </div>\n",
              "  "
            ]
          },
          "metadata": {},
          "execution_count": 10
        }
      ]
    },
    {
      "cell_type": "markdown",
      "source": [
        "Todos los NaNs son filas enteras. Probablemente para ese día no se recogieron datos. "
      ],
      "metadata": {
        "id": "dS-z5BCYf2By"
      }
    },
    {
      "cell_type": "markdown",
      "source": [
        "# Data Understanding \n",
        "# Target\n",
        "\n",
        "Target: Esta es la variable a predecir. Es una variable binaria.\n",
        "\n",
        "- 1: Indica que el precio de cierre tres días adelante será más alto que el precio de cierre actual.\n",
        "- 0: Indica que el precio de cierre tres días adelante será igual o menor al precio actual."
      ],
      "metadata": {
        "id": "4YrpsUupgIOJ"
      }
    },
    {
      "cell_type": "code",
      "source": [
        "train.loc[ train.Date <= '1994-01-20']"
      ],
      "metadata": {
        "colab": {
          "base_uri": "https://localhost:8080/",
          "height": 488
        },
        "id": "HGjTiWAGgPdb",
        "outputId": "843ec955-05b5-4278-eeae-f9f063a7fa3b"
      },
      "execution_count": 11,
      "outputs": [
        {
          "output_type": "execute_result",
          "data": {
            "text/plain": [
              "         Date         Open         High          Low        Close  \\\n",
              "0  1994-01-03  3615.199951  3654.699951  3581.000000  3654.500000   \n",
              "1  1994-01-04  3654.500000  3675.500000  3625.100098  3630.300049   \n",
              "2  1994-01-05  3625.199951  3625.199951  3583.399902  3621.199951   \n",
              "3  1994-01-06          NaN          NaN          NaN          NaN   \n",
              "4  1994-01-07  3621.199951  3644.399902  3598.699951  3636.399902   \n",
              "5  1994-01-10  3655.199951  3678.199951  3655.199951  3660.600098   \n",
              "6  1994-01-11  3679.699951  3712.500000  3679.699951  3712.399902   \n",
              "7  1994-01-12  3712.300049  3712.300049  3675.899902  3680.100098   \n",
              "8  1994-01-13  3680.100098  3698.199951  3670.399902  3680.800049   \n",
              "9  1994-01-14  3680.800049  3737.399902  3662.899902  3736.399902   \n",
              "10 1994-01-17  3736.399902  3783.300049  3723.899902  3729.100098   \n",
              "11 1994-01-18  3729.100098  3758.899902  3693.699951  3757.000000   \n",
              "12 1994-01-19  3784.300049  3812.100098  3784.300049  3811.300049   \n",
              "13 1994-01-20  3811.300049  3819.000000  3783.800049  3794.399902   \n",
              "\n",
              "      Adj Close  Volume  Target  \n",
              "0   3654.496338     0.0       0  \n",
              "1   3630.296387     0.0       1  \n",
              "2   3621.196289     0.0       1  \n",
              "3           NaN     NaN       0  \n",
              "4   3636.396240     0.0       1  \n",
              "5   3660.596436     0.0       1  \n",
              "6   3712.396240     0.0       1  \n",
              "7   3680.096436     0.0       1  \n",
              "8   3680.796387     0.0       1  \n",
              "9   3736.395996     0.0       1  \n",
              "10  3729.096436     0.0       1  \n",
              "11  3756.996094     0.0       1  \n",
              "12  3811.296143     0.0       0  \n",
              "13  3794.395996     0.0       1  "
            ],
            "text/html": [
              "\n",
              "  <div id=\"df-daea68e7-2ba9-4e42-8a9a-9be369413e1e\">\n",
              "    <div class=\"colab-df-container\">\n",
              "      <div>\n",
              "<style scoped>\n",
              "    .dataframe tbody tr th:only-of-type {\n",
              "        vertical-align: middle;\n",
              "    }\n",
              "\n",
              "    .dataframe tbody tr th {\n",
              "        vertical-align: top;\n",
              "    }\n",
              "\n",
              "    .dataframe thead th {\n",
              "        text-align: right;\n",
              "    }\n",
              "</style>\n",
              "<table border=\"1\" class=\"dataframe\">\n",
              "  <thead>\n",
              "    <tr style=\"text-align: right;\">\n",
              "      <th></th>\n",
              "      <th>Date</th>\n",
              "      <th>Open</th>\n",
              "      <th>High</th>\n",
              "      <th>Low</th>\n",
              "      <th>Close</th>\n",
              "      <th>Adj Close</th>\n",
              "      <th>Volume</th>\n",
              "      <th>Target</th>\n",
              "    </tr>\n",
              "  </thead>\n",
              "  <tbody>\n",
              "    <tr>\n",
              "      <th>0</th>\n",
              "      <td>1994-01-03</td>\n",
              "      <td>3615.199951</td>\n",
              "      <td>3654.699951</td>\n",
              "      <td>3581.000000</td>\n",
              "      <td>3654.500000</td>\n",
              "      <td>3654.496338</td>\n",
              "      <td>0.0</td>\n",
              "      <td>0</td>\n",
              "    </tr>\n",
              "    <tr>\n",
              "      <th>1</th>\n",
              "      <td>1994-01-04</td>\n",
              "      <td>3654.500000</td>\n",
              "      <td>3675.500000</td>\n",
              "      <td>3625.100098</td>\n",
              "      <td>3630.300049</td>\n",
              "      <td>3630.296387</td>\n",
              "      <td>0.0</td>\n",
              "      <td>1</td>\n",
              "    </tr>\n",
              "    <tr>\n",
              "      <th>2</th>\n",
              "      <td>1994-01-05</td>\n",
              "      <td>3625.199951</td>\n",
              "      <td>3625.199951</td>\n",
              "      <td>3583.399902</td>\n",
              "      <td>3621.199951</td>\n",
              "      <td>3621.196289</td>\n",
              "      <td>0.0</td>\n",
              "      <td>1</td>\n",
              "    </tr>\n",
              "    <tr>\n",
              "      <th>3</th>\n",
              "      <td>1994-01-06</td>\n",
              "      <td>NaN</td>\n",
              "      <td>NaN</td>\n",
              "      <td>NaN</td>\n",
              "      <td>NaN</td>\n",
              "      <td>NaN</td>\n",
              "      <td>NaN</td>\n",
              "      <td>0</td>\n",
              "    </tr>\n",
              "    <tr>\n",
              "      <th>4</th>\n",
              "      <td>1994-01-07</td>\n",
              "      <td>3621.199951</td>\n",
              "      <td>3644.399902</td>\n",
              "      <td>3598.699951</td>\n",
              "      <td>3636.399902</td>\n",
              "      <td>3636.396240</td>\n",
              "      <td>0.0</td>\n",
              "      <td>1</td>\n",
              "    </tr>\n",
              "    <tr>\n",
              "      <th>5</th>\n",
              "      <td>1994-01-10</td>\n",
              "      <td>3655.199951</td>\n",
              "      <td>3678.199951</td>\n",
              "      <td>3655.199951</td>\n",
              "      <td>3660.600098</td>\n",
              "      <td>3660.596436</td>\n",
              "      <td>0.0</td>\n",
              "      <td>1</td>\n",
              "    </tr>\n",
              "    <tr>\n",
              "      <th>6</th>\n",
              "      <td>1994-01-11</td>\n",
              "      <td>3679.699951</td>\n",
              "      <td>3712.500000</td>\n",
              "      <td>3679.699951</td>\n",
              "      <td>3712.399902</td>\n",
              "      <td>3712.396240</td>\n",
              "      <td>0.0</td>\n",
              "      <td>1</td>\n",
              "    </tr>\n",
              "    <tr>\n",
              "      <th>7</th>\n",
              "      <td>1994-01-12</td>\n",
              "      <td>3712.300049</td>\n",
              "      <td>3712.300049</td>\n",
              "      <td>3675.899902</td>\n",
              "      <td>3680.100098</td>\n",
              "      <td>3680.096436</td>\n",
              "      <td>0.0</td>\n",
              "      <td>1</td>\n",
              "    </tr>\n",
              "    <tr>\n",
              "      <th>8</th>\n",
              "      <td>1994-01-13</td>\n",
              "      <td>3680.100098</td>\n",
              "      <td>3698.199951</td>\n",
              "      <td>3670.399902</td>\n",
              "      <td>3680.800049</td>\n",
              "      <td>3680.796387</td>\n",
              "      <td>0.0</td>\n",
              "      <td>1</td>\n",
              "    </tr>\n",
              "    <tr>\n",
              "      <th>9</th>\n",
              "      <td>1994-01-14</td>\n",
              "      <td>3680.800049</td>\n",
              "      <td>3737.399902</td>\n",
              "      <td>3662.899902</td>\n",
              "      <td>3736.399902</td>\n",
              "      <td>3736.395996</td>\n",
              "      <td>0.0</td>\n",
              "      <td>1</td>\n",
              "    </tr>\n",
              "    <tr>\n",
              "      <th>10</th>\n",
              "      <td>1994-01-17</td>\n",
              "      <td>3736.399902</td>\n",
              "      <td>3783.300049</td>\n",
              "      <td>3723.899902</td>\n",
              "      <td>3729.100098</td>\n",
              "      <td>3729.096436</td>\n",
              "      <td>0.0</td>\n",
              "      <td>1</td>\n",
              "    </tr>\n",
              "    <tr>\n",
              "      <th>11</th>\n",
              "      <td>1994-01-18</td>\n",
              "      <td>3729.100098</td>\n",
              "      <td>3758.899902</td>\n",
              "      <td>3693.699951</td>\n",
              "      <td>3757.000000</td>\n",
              "      <td>3756.996094</td>\n",
              "      <td>0.0</td>\n",
              "      <td>1</td>\n",
              "    </tr>\n",
              "    <tr>\n",
              "      <th>12</th>\n",
              "      <td>1994-01-19</td>\n",
              "      <td>3784.300049</td>\n",
              "      <td>3812.100098</td>\n",
              "      <td>3784.300049</td>\n",
              "      <td>3811.300049</td>\n",
              "      <td>3811.296143</td>\n",
              "      <td>0.0</td>\n",
              "      <td>0</td>\n",
              "    </tr>\n",
              "    <tr>\n",
              "      <th>13</th>\n",
              "      <td>1994-01-20</td>\n",
              "      <td>3811.300049</td>\n",
              "      <td>3819.000000</td>\n",
              "      <td>3783.800049</td>\n",
              "      <td>3794.399902</td>\n",
              "      <td>3794.395996</td>\n",
              "      <td>0.0</td>\n",
              "      <td>1</td>\n",
              "    </tr>\n",
              "  </tbody>\n",
              "</table>\n",
              "</div>\n",
              "      <button class=\"colab-df-convert\" onclick=\"convertToInteractive('df-daea68e7-2ba9-4e42-8a9a-9be369413e1e')\"\n",
              "              title=\"Convert this dataframe to an interactive table.\"\n",
              "              style=\"display:none;\">\n",
              "        \n",
              "  <svg xmlns=\"http://www.w3.org/2000/svg\" height=\"24px\"viewBox=\"0 0 24 24\"\n",
              "       width=\"24px\">\n",
              "    <path d=\"M0 0h24v24H0V0z\" fill=\"none\"/>\n",
              "    <path d=\"M18.56 5.44l.94 2.06.94-2.06 2.06-.94-2.06-.94-.94-2.06-.94 2.06-2.06.94zm-11 1L8.5 8.5l.94-2.06 2.06-.94-2.06-.94L8.5 2.5l-.94 2.06-2.06.94zm10 10l.94 2.06.94-2.06 2.06-.94-2.06-.94-.94-2.06-.94 2.06-2.06.94z\"/><path d=\"M17.41 7.96l-1.37-1.37c-.4-.4-.92-.59-1.43-.59-.52 0-1.04.2-1.43.59L10.3 9.45l-7.72 7.72c-.78.78-.78 2.05 0 2.83L4 21.41c.39.39.9.59 1.41.59.51 0 1.02-.2 1.41-.59l7.78-7.78 2.81-2.81c.8-.78.8-2.07 0-2.86zM5.41 20L4 18.59l7.72-7.72 1.47 1.35L5.41 20z\"/>\n",
              "  </svg>\n",
              "      </button>\n",
              "      \n",
              "  <style>\n",
              "    .colab-df-container {\n",
              "      display:flex;\n",
              "      flex-wrap:wrap;\n",
              "      gap: 12px;\n",
              "    }\n",
              "\n",
              "    .colab-df-convert {\n",
              "      background-color: #E8F0FE;\n",
              "      border: none;\n",
              "      border-radius: 50%;\n",
              "      cursor: pointer;\n",
              "      display: none;\n",
              "      fill: #1967D2;\n",
              "      height: 32px;\n",
              "      padding: 0 0 0 0;\n",
              "      width: 32px;\n",
              "    }\n",
              "\n",
              "    .colab-df-convert:hover {\n",
              "      background-color: #E2EBFA;\n",
              "      box-shadow: 0px 1px 2px rgba(60, 64, 67, 0.3), 0px 1px 3px 1px rgba(60, 64, 67, 0.15);\n",
              "      fill: #174EA6;\n",
              "    }\n",
              "\n",
              "    [theme=dark] .colab-df-convert {\n",
              "      background-color: #3B4455;\n",
              "      fill: #D2E3FC;\n",
              "    }\n",
              "\n",
              "    [theme=dark] .colab-df-convert:hover {\n",
              "      background-color: #434B5C;\n",
              "      box-shadow: 0px 1px 3px 1px rgba(0, 0, 0, 0.15);\n",
              "      filter: drop-shadow(0px 1px 2px rgba(0, 0, 0, 0.3));\n",
              "      fill: #FFFFFF;\n",
              "    }\n",
              "  </style>\n",
              "\n",
              "      <script>\n",
              "        const buttonEl =\n",
              "          document.querySelector('#df-daea68e7-2ba9-4e42-8a9a-9be369413e1e button.colab-df-convert');\n",
              "        buttonEl.style.display =\n",
              "          google.colab.kernel.accessAllowed ? 'block' : 'none';\n",
              "\n",
              "        async function convertToInteractive(key) {\n",
              "          const element = document.querySelector('#df-daea68e7-2ba9-4e42-8a9a-9be369413e1e');\n",
              "          const dataTable =\n",
              "            await google.colab.kernel.invokeFunction('convertToInteractive',\n",
              "                                                     [key], {});\n",
              "          if (!dataTable) return;\n",
              "\n",
              "          const docLinkHtml = 'Like what you see? Visit the ' +\n",
              "            '<a target=\"_blank\" href=https://colab.research.google.com/notebooks/data_table.ipynb>data table notebook</a>'\n",
              "            + ' to learn more about interactive tables.';\n",
              "          element.innerHTML = '';\n",
              "          dataTable['output_type'] = 'display_data';\n",
              "          await google.colab.output.renderOutput(dataTable, element);\n",
              "          const docLink = document.createElement('div');\n",
              "          docLink.innerHTML = docLinkHtml;\n",
              "          element.appendChild(docLink);\n",
              "        }\n",
              "      </script>\n",
              "    </div>\n",
              "  </div>\n",
              "  "
            ]
          },
          "metadata": {},
          "execution_count": 11
        }
      ]
    },
    {
      "cell_type": "markdown",
      "source": [
        "Como no tenemos muchos registros, me gustaría poder aprovechar los todos. Como se trata de un problema de Time Series, simplemente rellenaremos los registros nulos con los datos del día anterior (fill forward)."
      ],
      "metadata": {
        "id": "wOlTqIA9iNAc"
      }
    },
    {
      "cell_type": "code",
      "source": [
        "train = train.ffill(axis = 0)"
      ],
      "metadata": {
        "id": "B2icSNelhfgF"
      },
      "execution_count": 12,
      "outputs": []
    },
    {
      "cell_type": "markdown",
      "source": [
        "# Solución\n",
        "\n",
        "Pese a que sea un problema de clasificación tiene un componente de regresión. Queremos averiguar que precio de cierre habrá de aquí 3 días. \n",
        "\n",
        "Si el precio de cierre actual tres días adelante es más alto que el precio de cierre actual es VERDADERO. Si es más bajo FALSO.\n",
        "\n",
        "En realidad es un problema de Series Temporales, pero Series Temporales se simplifican a una Regresión. \n",
        "\n",
        "Recordar que la predicción debe hacerse a 3 días vista y que no podemos utilizar datos del futuro en el pasado! Es decir, si queremos saber los datos a 3 días vista no conocemos los datos de +1, +2 o +3 días."
      ],
      "metadata": {
        "id": "9HUhWTd1ijNu"
      }
    },
    {
      "cell_type": "code",
      "source": [
        "train['range_High_Low'] = train['High'] - train['Low']\n",
        "train['diff_Open_Close'] = train['Open'] - train['Close']\n",
        "train['diff_Open_High'] = train['Open'] - train['High']\n",
        "train['diff_Open_Low'] = train['Open'] - train['Low']\n",
        "\n",
        "train['Close_orig'] = train['Close']"
      ],
      "metadata": {
        "id": "MFkGhMWDsAQZ"
      },
      "execution_count": 13,
      "outputs": []
    },
    {
      "cell_type": "code",
      "source": [
        "def apply_shift(df, col, shift):\n",
        "    df[col+'_s'+str(shift)] = df[col].shift(shift)\n",
        "    return df"
      ],
      "metadata": {
        "id": "Q-MAdY96kG1A"
      },
      "execution_count": 14,
      "outputs": []
    },
    {
      "cell_type": "code",
      "source": [
        "def apply_shift_rolling(df, col, shift, window):\n",
        "    df[col+'_s'+str(shift)+'_r_'+str(window)+'_mean'] = df[col].shift(shift).rolling(window).mean()\n",
        "    df[col+'_s'+str(shift)+'_r_'+str(window)+'_std'] = df[col].shift(shift).rolling(window).std()\n",
        "    df[col+'_s'+str(shift)+'_r_'+str(window)+'_median'] = df[col].shift(shift).rolling(window).median()\n",
        "    df[col+'_s'+str(shift)+'_r_'+str(window)+'_max'] = df[col].shift(shift).rolling(window).max()\n",
        "    df[col+'_s'+str(shift)+'_r_'+str(window)+'_min'] = df[col].shift(shift).rolling(window).min()\n",
        "\n",
        "    return df"
      ],
      "metadata": {
        "id": "NKfM5HTDrX3x"
      },
      "execution_count": 15,
      "outputs": []
    },
    {
      "cell_type": "code",
      "source": [
        "train['day'] = train['Date'].dt.day\n",
        "train['month'] = train['Date'].dt.month\n",
        "train['month'] = train['Date'].dt.weekday\n",
        "train['quarter'] = train['Date'].dt.quarter\n",
        "train['week'] = train['Date'].dt.week"
      ],
      "metadata": {
        "colab": {
          "base_uri": "https://localhost:8080/"
        },
        "id": "89eAdkOeOl44",
        "outputId": "563a81f7-4c22-45cf-ca81-0310f97becf7"
      },
      "execution_count": 16,
      "outputs": [
        {
          "output_type": "stream",
          "name": "stderr",
          "text": [
            "/usr/local/lib/python3.7/dist-packages/ipykernel_launcher.py:5: FutureWarning: Series.dt.weekofyear and Series.dt.week have been deprecated.  Please use Series.dt.isocalendar().week instead.\n",
            "  \"\"\"\n"
          ]
        }
      ]
    },
    {
      "cell_type": "code",
      "source": [
        "shift_cols = ['Open','High','Low','Close','Adj Close','Volume']\n",
        "for col in shift_cols:\n",
        "    # Represent all columns in terms of the close of 7 days ago\n",
        "    # We don't care much about the prediction (we only care if we higher or lower)\n",
        "    train[col] = train[col] - train['Close'].shift(7) \n",
        "\n",
        "    if col == 'Volume':\n",
        "        train[col] = train[col] - train[col].shift(7) \n",
        "\n",
        "    train = apply_shift(train, col, 3)\n",
        "    train = apply_shift(train, col, 6)\n",
        "    train = apply_shift(train, col, 9)\n",
        "    train = apply_shift(train, col, 18)\n",
        "\n",
        "    train = apply_shift_rolling(train, col, 3, 2)\n",
        "    train = apply_shift_rolling(train, col, 3, 5)\n",
        "    train = apply_shift_rolling(train, col, 3, 10)"
      ],
      "metadata": {
        "colab": {
          "base_uri": "https://localhost:8080/"
        },
        "id": "AzIPxG2Zkk5K",
        "outputId": "24db3b97-109e-41ed-aab7-dda93aa45c99"
      },
      "execution_count": 17,
      "outputs": [
        {
          "output_type": "stream",
          "name": "stderr",
          "text": [
            "/usr/local/lib/python3.7/dist-packages/ipykernel_launcher.py:5: PerformanceWarning: DataFrame is highly fragmented.  This is usually the result of calling `frame.insert` many times, which has poor performance.  Consider joining all columns at once using pd.concat(axis=1) instead.  To get a de-fragmented frame, use `newframe = frame.copy()`\n",
            "  \"\"\"\n",
            "/usr/local/lib/python3.7/dist-packages/ipykernel_launcher.py:6: PerformanceWarning: DataFrame is highly fragmented.  This is usually the result of calling `frame.insert` many times, which has poor performance.  Consider joining all columns at once using pd.concat(axis=1) instead.  To get a de-fragmented frame, use `newframe = frame.copy()`\n",
            "  \n",
            "/usr/local/lib/python3.7/dist-packages/ipykernel_launcher.py:2: PerformanceWarning: DataFrame is highly fragmented.  This is usually the result of calling `frame.insert` many times, which has poor performance.  Consider joining all columns at once using pd.concat(axis=1) instead.  To get a de-fragmented frame, use `newframe = frame.copy()`\n",
            "  \n",
            "/usr/local/lib/python3.7/dist-packages/ipykernel_launcher.py:3: PerformanceWarning: DataFrame is highly fragmented.  This is usually the result of calling `frame.insert` many times, which has poor performance.  Consider joining all columns at once using pd.concat(axis=1) instead.  To get a de-fragmented frame, use `newframe = frame.copy()`\n",
            "  This is separate from the ipykernel package so we can avoid doing imports until\n",
            "/usr/local/lib/python3.7/dist-packages/ipykernel_launcher.py:4: PerformanceWarning: DataFrame is highly fragmented.  This is usually the result of calling `frame.insert` many times, which has poor performance.  Consider joining all columns at once using pd.concat(axis=1) instead.  To get a de-fragmented frame, use `newframe = frame.copy()`\n",
            "  after removing the cwd from sys.path.\n"
          ]
        }
      ]
    },
    {
      "cell_type": "code",
      "source": [
        "other_cols = ['range_High_Low','diff_Open_Close','diff_Open_High','diff_Open_Low']\n",
        "for col in other_cols:\n",
        "    train = apply_shift(train, col, 3)\n",
        "    train = apply_shift(train, col, 6)\n",
        "    train = apply_shift(train, col, 9)\n",
        "    \n",
        "    train = apply_shift_rolling(train, col, 3, 2)\n",
        "    train = apply_shift_rolling(train, col, 3, 5)"
      ],
      "metadata": {
        "colab": {
          "base_uri": "https://localhost:8080/"
        },
        "id": "AiasPMRY72HB",
        "outputId": "425a9812-8fc2-4246-edb8-233e328a7982"
      },
      "execution_count": 18,
      "outputs": [
        {
          "output_type": "stream",
          "name": "stderr",
          "text": [
            "/usr/local/lib/python3.7/dist-packages/ipykernel_launcher.py:2: PerformanceWarning: DataFrame is highly fragmented.  This is usually the result of calling `frame.insert` many times, which has poor performance.  Consider joining all columns at once using pd.concat(axis=1) instead.  To get a de-fragmented frame, use `newframe = frame.copy()`\n",
            "  \n",
            "/usr/local/lib/python3.7/dist-packages/ipykernel_launcher.py:3: PerformanceWarning: DataFrame is highly fragmented.  This is usually the result of calling `frame.insert` many times, which has poor performance.  Consider joining all columns at once using pd.concat(axis=1) instead.  To get a de-fragmented frame, use `newframe = frame.copy()`\n",
            "  This is separate from the ipykernel package so we can avoid doing imports until\n",
            "/usr/local/lib/python3.7/dist-packages/ipykernel_launcher.py:4: PerformanceWarning: DataFrame is highly fragmented.  This is usually the result of calling `frame.insert` many times, which has poor performance.  Consider joining all columns at once using pd.concat(axis=1) instead.  To get a de-fragmented frame, use `newframe = frame.copy()`\n",
            "  after removing the cwd from sys.path.\n",
            "/usr/local/lib/python3.7/dist-packages/ipykernel_launcher.py:5: PerformanceWarning: DataFrame is highly fragmented.  This is usually the result of calling `frame.insert` many times, which has poor performance.  Consider joining all columns at once using pd.concat(axis=1) instead.  To get a de-fragmented frame, use `newframe = frame.copy()`\n",
            "  \"\"\"\n",
            "/usr/local/lib/python3.7/dist-packages/ipykernel_launcher.py:6: PerformanceWarning: DataFrame is highly fragmented.  This is usually the result of calling `frame.insert` many times, which has poor performance.  Consider joining all columns at once using pd.concat(axis=1) instead.  To get a de-fragmented frame, use `newframe = frame.copy()`\n",
            "  \n"
          ]
        }
      ]
    },
    {
      "cell_type": "code",
      "source": [
        "train.head(5)"
      ],
      "metadata": {
        "colab": {
          "base_uri": "https://localhost:8080/",
          "height": 404
        },
        "id": "RwtKaP6636My",
        "outputId": "964845a7-f169-4466-a3dd-ff65fd1e8ae6"
      },
      "execution_count": 19,
      "outputs": [
        {
          "output_type": "execute_result",
          "data": {
            "text/plain": [
              "        Date  Open  High  Low  Close  Adj Close  Volume  Target  \\\n",
              "0 1994-01-03   NaN   NaN  NaN    NaN        NaN     NaN       0   \n",
              "1 1994-01-04   NaN   NaN  NaN    NaN        NaN     NaN       1   \n",
              "2 1994-01-05   NaN   NaN  NaN    NaN        NaN     NaN       1   \n",
              "3 1994-01-06   NaN   NaN  NaN    NaN        NaN     NaN       0   \n",
              "4 1994-01-07   NaN   NaN  NaN    NaN        NaN     NaN       1   \n",
              "\n",
              "   range_High_Low  diff_Open_Close  ...  diff_Open_Low_s3_r_2_mean  \\\n",
              "0       73.699951       -39.300049  ...                        NaN   \n",
              "1       50.399902        24.199951  ...                        NaN   \n",
              "2       41.800049         4.000000  ...                        NaN   \n",
              "3       41.800049         4.000000  ...                        NaN   \n",
              "4       45.699951       -15.199951  ...                  31.799927   \n",
              "\n",
              "   diff_Open_Low_s3_r_2_std  diff_Open_Low_s3_r_2_median  \\\n",
              "0                       NaN                          NaN   \n",
              "1                       NaN                          NaN   \n",
              "2                       NaN                          NaN   \n",
              "3                       NaN                          NaN   \n",
              "4                  3.394147                    31.799927   \n",
              "\n",
              "   diff_Open_Low_s3_r_2_max  diff_Open_Low_s3_r_2_min  \\\n",
              "0                       NaN                       NaN   \n",
              "1                       NaN                       NaN   \n",
              "2                       NaN                       NaN   \n",
              "3                       NaN                       NaN   \n",
              "4                 34.199951                 29.399902   \n",
              "\n",
              "   diff_Open_Low_s3_r_5_mean  diff_Open_Low_s3_r_5_std  \\\n",
              "0                        NaN                       NaN   \n",
              "1                        NaN                       NaN   \n",
              "2                        NaN                       NaN   \n",
              "3                        NaN                       NaN   \n",
              "4                        NaN                       NaN   \n",
              "\n",
              "   diff_Open_Low_s3_r_5_median  diff_Open_Low_s3_r_5_max  \\\n",
              "0                          NaN                       NaN   \n",
              "1                          NaN                       NaN   \n",
              "2                          NaN                       NaN   \n",
              "3                          NaN                       NaN   \n",
              "4                          NaN                       NaN   \n",
              "\n",
              "   diff_Open_Low_s3_r_5_min  \n",
              "0                       NaN  \n",
              "1                       NaN  \n",
              "2                       NaN  \n",
              "3                       NaN  \n",
              "4                       NaN  \n",
              "\n",
              "[5 rows x 183 columns]"
            ],
            "text/html": [
              "\n",
              "  <div id=\"df-97e3b0bb-4aee-40f1-a735-e68907527d60\">\n",
              "    <div class=\"colab-df-container\">\n",
              "      <div>\n",
              "<style scoped>\n",
              "    .dataframe tbody tr th:only-of-type {\n",
              "        vertical-align: middle;\n",
              "    }\n",
              "\n",
              "    .dataframe tbody tr th {\n",
              "        vertical-align: top;\n",
              "    }\n",
              "\n",
              "    .dataframe thead th {\n",
              "        text-align: right;\n",
              "    }\n",
              "</style>\n",
              "<table border=\"1\" class=\"dataframe\">\n",
              "  <thead>\n",
              "    <tr style=\"text-align: right;\">\n",
              "      <th></th>\n",
              "      <th>Date</th>\n",
              "      <th>Open</th>\n",
              "      <th>High</th>\n",
              "      <th>Low</th>\n",
              "      <th>Close</th>\n",
              "      <th>Adj Close</th>\n",
              "      <th>Volume</th>\n",
              "      <th>Target</th>\n",
              "      <th>range_High_Low</th>\n",
              "      <th>diff_Open_Close</th>\n",
              "      <th>...</th>\n",
              "      <th>diff_Open_Low_s3_r_2_mean</th>\n",
              "      <th>diff_Open_Low_s3_r_2_std</th>\n",
              "      <th>diff_Open_Low_s3_r_2_median</th>\n",
              "      <th>diff_Open_Low_s3_r_2_max</th>\n",
              "      <th>diff_Open_Low_s3_r_2_min</th>\n",
              "      <th>diff_Open_Low_s3_r_5_mean</th>\n",
              "      <th>diff_Open_Low_s3_r_5_std</th>\n",
              "      <th>diff_Open_Low_s3_r_5_median</th>\n",
              "      <th>diff_Open_Low_s3_r_5_max</th>\n",
              "      <th>diff_Open_Low_s3_r_5_min</th>\n",
              "    </tr>\n",
              "  </thead>\n",
              "  <tbody>\n",
              "    <tr>\n",
              "      <th>0</th>\n",
              "      <td>1994-01-03</td>\n",
              "      <td>NaN</td>\n",
              "      <td>NaN</td>\n",
              "      <td>NaN</td>\n",
              "      <td>NaN</td>\n",
              "      <td>NaN</td>\n",
              "      <td>NaN</td>\n",
              "      <td>0</td>\n",
              "      <td>73.699951</td>\n",
              "      <td>-39.300049</td>\n",
              "      <td>...</td>\n",
              "      <td>NaN</td>\n",
              "      <td>NaN</td>\n",
              "      <td>NaN</td>\n",
              "      <td>NaN</td>\n",
              "      <td>NaN</td>\n",
              "      <td>NaN</td>\n",
              "      <td>NaN</td>\n",
              "      <td>NaN</td>\n",
              "      <td>NaN</td>\n",
              "      <td>NaN</td>\n",
              "    </tr>\n",
              "    <tr>\n",
              "      <th>1</th>\n",
              "      <td>1994-01-04</td>\n",
              "      <td>NaN</td>\n",
              "      <td>NaN</td>\n",
              "      <td>NaN</td>\n",
              "      <td>NaN</td>\n",
              "      <td>NaN</td>\n",
              "      <td>NaN</td>\n",
              "      <td>1</td>\n",
              "      <td>50.399902</td>\n",
              "      <td>24.199951</td>\n",
              "      <td>...</td>\n",
              "      <td>NaN</td>\n",
              "      <td>NaN</td>\n",
              "      <td>NaN</td>\n",
              "      <td>NaN</td>\n",
              "      <td>NaN</td>\n",
              "      <td>NaN</td>\n",
              "      <td>NaN</td>\n",
              "      <td>NaN</td>\n",
              "      <td>NaN</td>\n",
              "      <td>NaN</td>\n",
              "    </tr>\n",
              "    <tr>\n",
              "      <th>2</th>\n",
              "      <td>1994-01-05</td>\n",
              "      <td>NaN</td>\n",
              "      <td>NaN</td>\n",
              "      <td>NaN</td>\n",
              "      <td>NaN</td>\n",
              "      <td>NaN</td>\n",
              "      <td>NaN</td>\n",
              "      <td>1</td>\n",
              "      <td>41.800049</td>\n",
              "      <td>4.000000</td>\n",
              "      <td>...</td>\n",
              "      <td>NaN</td>\n",
              "      <td>NaN</td>\n",
              "      <td>NaN</td>\n",
              "      <td>NaN</td>\n",
              "      <td>NaN</td>\n",
              "      <td>NaN</td>\n",
              "      <td>NaN</td>\n",
              "      <td>NaN</td>\n",
              "      <td>NaN</td>\n",
              "      <td>NaN</td>\n",
              "    </tr>\n",
              "    <tr>\n",
              "      <th>3</th>\n",
              "      <td>1994-01-06</td>\n",
              "      <td>NaN</td>\n",
              "      <td>NaN</td>\n",
              "      <td>NaN</td>\n",
              "      <td>NaN</td>\n",
              "      <td>NaN</td>\n",
              "      <td>NaN</td>\n",
              "      <td>0</td>\n",
              "      <td>41.800049</td>\n",
              "      <td>4.000000</td>\n",
              "      <td>...</td>\n",
              "      <td>NaN</td>\n",
              "      <td>NaN</td>\n",
              "      <td>NaN</td>\n",
              "      <td>NaN</td>\n",
              "      <td>NaN</td>\n",
              "      <td>NaN</td>\n",
              "      <td>NaN</td>\n",
              "      <td>NaN</td>\n",
              "      <td>NaN</td>\n",
              "      <td>NaN</td>\n",
              "    </tr>\n",
              "    <tr>\n",
              "      <th>4</th>\n",
              "      <td>1994-01-07</td>\n",
              "      <td>NaN</td>\n",
              "      <td>NaN</td>\n",
              "      <td>NaN</td>\n",
              "      <td>NaN</td>\n",
              "      <td>NaN</td>\n",
              "      <td>NaN</td>\n",
              "      <td>1</td>\n",
              "      <td>45.699951</td>\n",
              "      <td>-15.199951</td>\n",
              "      <td>...</td>\n",
              "      <td>31.799927</td>\n",
              "      <td>3.394147</td>\n",
              "      <td>31.799927</td>\n",
              "      <td>34.199951</td>\n",
              "      <td>29.399902</td>\n",
              "      <td>NaN</td>\n",
              "      <td>NaN</td>\n",
              "      <td>NaN</td>\n",
              "      <td>NaN</td>\n",
              "      <td>NaN</td>\n",
              "    </tr>\n",
              "  </tbody>\n",
              "</table>\n",
              "<p>5 rows × 183 columns</p>\n",
              "</div>\n",
              "      <button class=\"colab-df-convert\" onclick=\"convertToInteractive('df-97e3b0bb-4aee-40f1-a735-e68907527d60')\"\n",
              "              title=\"Convert this dataframe to an interactive table.\"\n",
              "              style=\"display:none;\">\n",
              "        \n",
              "  <svg xmlns=\"http://www.w3.org/2000/svg\" height=\"24px\"viewBox=\"0 0 24 24\"\n",
              "       width=\"24px\">\n",
              "    <path d=\"M0 0h24v24H0V0z\" fill=\"none\"/>\n",
              "    <path d=\"M18.56 5.44l.94 2.06.94-2.06 2.06-.94-2.06-.94-.94-2.06-.94 2.06-2.06.94zm-11 1L8.5 8.5l.94-2.06 2.06-.94-2.06-.94L8.5 2.5l-.94 2.06-2.06.94zm10 10l.94 2.06.94-2.06 2.06-.94-2.06-.94-.94-2.06-.94 2.06-2.06.94z\"/><path d=\"M17.41 7.96l-1.37-1.37c-.4-.4-.92-.59-1.43-.59-.52 0-1.04.2-1.43.59L10.3 9.45l-7.72 7.72c-.78.78-.78 2.05 0 2.83L4 21.41c.39.39.9.59 1.41.59.51 0 1.02-.2 1.41-.59l7.78-7.78 2.81-2.81c.8-.78.8-2.07 0-2.86zM5.41 20L4 18.59l7.72-7.72 1.47 1.35L5.41 20z\"/>\n",
              "  </svg>\n",
              "      </button>\n",
              "      \n",
              "  <style>\n",
              "    .colab-df-container {\n",
              "      display:flex;\n",
              "      flex-wrap:wrap;\n",
              "      gap: 12px;\n",
              "    }\n",
              "\n",
              "    .colab-df-convert {\n",
              "      background-color: #E8F0FE;\n",
              "      border: none;\n",
              "      border-radius: 50%;\n",
              "      cursor: pointer;\n",
              "      display: none;\n",
              "      fill: #1967D2;\n",
              "      height: 32px;\n",
              "      padding: 0 0 0 0;\n",
              "      width: 32px;\n",
              "    }\n",
              "\n",
              "    .colab-df-convert:hover {\n",
              "      background-color: #E2EBFA;\n",
              "      box-shadow: 0px 1px 2px rgba(60, 64, 67, 0.3), 0px 1px 3px 1px rgba(60, 64, 67, 0.15);\n",
              "      fill: #174EA6;\n",
              "    }\n",
              "\n",
              "    [theme=dark] .colab-df-convert {\n",
              "      background-color: #3B4455;\n",
              "      fill: #D2E3FC;\n",
              "    }\n",
              "\n",
              "    [theme=dark] .colab-df-convert:hover {\n",
              "      background-color: #434B5C;\n",
              "      box-shadow: 0px 1px 3px 1px rgba(0, 0, 0, 0.15);\n",
              "      filter: drop-shadow(0px 1px 2px rgba(0, 0, 0, 0.3));\n",
              "      fill: #FFFFFF;\n",
              "    }\n",
              "  </style>\n",
              "\n",
              "      <script>\n",
              "        const buttonEl =\n",
              "          document.querySelector('#df-97e3b0bb-4aee-40f1-a735-e68907527d60 button.colab-df-convert');\n",
              "        buttonEl.style.display =\n",
              "          google.colab.kernel.accessAllowed ? 'block' : 'none';\n",
              "\n",
              "        async function convertToInteractive(key) {\n",
              "          const element = document.querySelector('#df-97e3b0bb-4aee-40f1-a735-e68907527d60');\n",
              "          const dataTable =\n",
              "            await google.colab.kernel.invokeFunction('convertToInteractive',\n",
              "                                                     [key], {});\n",
              "          if (!dataTable) return;\n",
              "\n",
              "          const docLinkHtml = 'Like what you see? Visit the ' +\n",
              "            '<a target=\"_blank\" href=https://colab.research.google.com/notebooks/data_table.ipynb>data table notebook</a>'\n",
              "            + ' to learn more about interactive tables.';\n",
              "          element.innerHTML = '';\n",
              "          dataTable['output_type'] = 'display_data';\n",
              "          await google.colab.output.renderOutput(dataTable, element);\n",
              "          const docLink = document.createElement('div');\n",
              "          docLink.innerHTML = docLinkHtml;\n",
              "          element.appendChild(docLink);\n",
              "        }\n",
              "      </script>\n",
              "    </div>\n",
              "  </div>\n",
              "  "
            ]
          },
          "metadata": {},
          "execution_count": 19
        }
      ]
    },
    {
      "cell_type": "code",
      "source": [
        "train = train.bfill(axis = 0)"
      ],
      "metadata": {
        "id": "HdrcXlo_oeEu"
      },
      "execution_count": 20,
      "outputs": []
    },
    {
      "cell_type": "code",
      "source": [
        "# We generate random for Feature Selection with feature importance\n",
        "# Features with less importance than random variable, do not add any value to the ML model\n",
        "# Even though, feature importance is tricky for high cardinality (float) features.\n",
        "# https://www.linkedin.com/posts/damienbenveniste_machinelearning-data-datascience-activity-6935620347069136896-t_IW?utm_source=linkedin_share&utm_medium=member_desktop_web\n",
        "\n",
        "randomlist = []\n",
        "for i in range(0,train.shape[0]):\n",
        "    n = random.uniform(0,1)\n",
        "    randomlist.append(n)\n",
        "\n",
        "train['random'] = randomlist"
      ],
      "metadata": {
        "id": "GX4wc8ka9wA9"
      },
      "execution_count": 21,
      "outputs": []
    },
    {
      "cell_type": "code",
      "source": [
        "avoid_cols = shift_cols + other_cols\n",
        "\n",
        "features = [ x for x in train.columns if x not in avoid_cols ]\n",
        "features.remove('Date')\n",
        "features.remove('Close_orig')\n",
        "features.remove('Target')"
      ],
      "metadata": {
        "id": "Bajg-CDhiimE"
      },
      "execution_count": 22,
      "outputs": []
    },
    {
      "cell_type": "code",
      "source": [
        "len(features)"
      ],
      "metadata": {
        "colab": {
          "base_uri": "https://localhost:8080/"
        },
        "id": "Gjwh9xkt6tMY",
        "outputId": "c4cb1361-a483-4585-aa8d-07ec50aa0ee1"
      },
      "execution_count": 23,
      "outputs": [
        {
          "output_type": "execute_result",
          "data": {
            "text/plain": [
              "171"
            ]
          },
          "metadata": {},
          "execution_count": 23
        }
      ]
    },
    {
      "cell_type": "code",
      "source": [
        "train['Date'].min(), train['Date'].max()"
      ],
      "metadata": {
        "colab": {
          "base_uri": "https://localhost:8080/"
        },
        "id": "pGN1Ohz-nM-E",
        "outputId": "8b0f0784-e4ef-4b33-8dd4-aa9bd3412cea"
      },
      "execution_count": 24,
      "outputs": [
        {
          "output_type": "execute_result",
          "data": {
            "text/plain": [
              "(Timestamp('1994-01-03 00:00:00'), Timestamp('2019-05-30 00:00:00'))"
            ]
          },
          "metadata": {},
          "execution_count": 24
        }
      ]
    },
    {
      "cell_type": "code",
      "source": [
        "#X_train, X_valida, y_train, y_valida = train_test_split(train, train['Close'], test_size=0.3, random_state=42)\n",
        "#X_train, X_valida, y_train, y_valida = train_test_split(train, train['Target'], test_size=0.2, random_state=42)\n",
        "\n",
        "date_thres = '2018-05-30'\n",
        "# Time Series split done correctly\n",
        "X_train = train.loc[train.Date <= '2018-05-30']\n",
        "y_train = train.loc[train.Date <= '2018-05-30','Target']\n",
        "X_valida = train.loc[train.Date > '2018-05-30']\n",
        "y_valida = train.loc[train.Date > '2018-05-30','Target']"
      ],
      "metadata": {
        "id": "gxz-ZtP5msV_"
      },
      "execution_count": 25,
      "outputs": []
    },
    {
      "cell_type": "code",
      "source": [
        "def class_metrics(y_train, y_train_pred, y_train_pred_proba,\n",
        "                  y_test, y_test_pred, y_test_pred_proba):\n",
        "    def all_metrics(y, y_pred, y_proba):\n",
        "        print(' Accuracy: ',accuracy_score(y, y_pred))\n",
        "        print(' Precision: ',precision_score(y, y_pred))\n",
        "        print(' Recall: ',recall_score(y, y_pred))\n",
        "        print(' F1-score :',f1_score(y, y_pred))\n",
        "        print(' ROC AUC score:', roc_auc_score(y,y_proba))\n",
        "    print('---- TRAIN ----')\n",
        "    all_metrics(y_train, y_train_pred, y_train_pred_proba)\n",
        "    print('---- TEST ----')\n",
        "    all_metrics(y_test, y_test_pred, y_test_pred_proba)"
      ],
      "metadata": {
        "id": "oDEM6qmKXGpz"
      },
      "execution_count": 26,
      "outputs": []
    },
    {
      "cell_type": "markdown",
      "source": [
        "## Support Vector Machine"
      ],
      "metadata": {
        "id": "USuwYJOPoPPc"
      }
    },
    {
      "cell_type": "code",
      "source": [
        "svm = make_pipeline(StandardScaler(), SVC())\n",
        "svm.fit(X_train[features], y_train)\n",
        "\n",
        "y_train_pred = svm.predict(X_train[features])\n",
        "y_train_pred_proba = svm.predict(X_train[features])\n",
        "\n",
        "y_valida_pred = svm.predict(X_valida[features])\n",
        "y_valida_pred_proba = svm.predict(X_valida[features])\n",
        "\n",
        "class_metrics(y_train, y_train_pred, y_train_pred_proba, y_valida, y_valida_pred, y_valida_pred_proba)"
      ],
      "metadata": {
        "colab": {
          "base_uri": "https://localhost:8080/"
        },
        "id": "YtDl4BK4J6sI",
        "outputId": "0de2823b-5a87-432a-9241-7f1d7ba64240"
      },
      "execution_count": 27,
      "outputs": [
        {
          "output_type": "stream",
          "name": "stdout",
          "text": [
            "---- TRAIN ----\n",
            " Accuracy:  0.6807429750754088\n",
            " Precision:  0.6464788732394366\n",
            " Recall:  0.8450444921755139\n",
            " F1-score : 0.7325442213060247\n",
            " ROC AUC score: 0.6748248776667043\n",
            "---- TEST ----\n",
            " Accuracy:  0.5058823529411764\n",
            " Precision:  0.5069767441860465\n",
            " Recall:  0.8449612403100775\n",
            " F1-score : 0.6337209302325582\n",
            " ROC AUC score: 0.5018456995201181\n"
          ]
        }
      ]
    },
    {
      "cell_type": "code",
      "source": [
        "def plot_confusion_matrix(y, y_pred):\n",
        "    cm = confusion_matrix(y, y_pred)\n",
        "    ax= plt.subplot()\n",
        "    sns.heatmap(cm, annot=True, fmt='g', ax=ax);  #annot=True to annotate cells, ftm='g' to disable scientific notation\n",
        "\n",
        "    # labels, title and ticks\n",
        "    ax.set_xlabel('Predicted labels');\n",
        "    ax.set_ylabel('True labels'); \n",
        "    ax.set_title('Confusion Matrix'); "
      ],
      "metadata": {
        "id": "a6-CuT6hg4zY"
      },
      "execution_count": 28,
      "outputs": []
    },
    {
      "cell_type": "code",
      "source": [
        "plot_confusion_matrix(y_train, y_train_pred)"
      ],
      "metadata": {
        "colab": {
          "base_uri": "https://localhost:8080/",
          "height": 295
        },
        "id": "qfGoCg-djBF6",
        "outputId": "54dc02ff-77f1-429e-dfcd-1c43d2261e11"
      },
      "execution_count": 29,
      "outputs": [
        {
          "output_type": "display_data",
          "data": {
            "text/plain": [
              "<Figure size 432x288 with 2 Axes>"
            ],
            "image/png": "[encoded data removed]"
          },
          "metadata": {
            "needs_background": "light"
          }
        }
      ]
    },
    {
      "cell_type": "code",
      "source": [
        "plot_confusion_matrix(y_valida, y_valida_pred)"
      ],
      "metadata": {
        "colab": {
          "base_uri": "https://localhost:8080/",
          "height": 295
        },
        "id": "rW50DFJIjDm9",
        "outputId": "a3a2d9fa-2a4a-40d1-922a-97326a45fb42"
      },
      "execution_count": 30,
      "outputs": [
        {
          "output_type": "display_data",
          "data": {
            "text/plain": [
              "<Figure size 432x288 with 2 Axes>"
            ],
            "image/png": "[encoded data removed]"
          },
          "metadata": {
            "needs_background": "light"
          }
        }
      ]
    },
    {
      "cell_type": "markdown",
      "source": [
        "## Random Forest"
      ],
      "metadata": {
        "id": "eQ6cAsvaoSph"
      }
    },
    {
      "cell_type": "code",
      "source": [
        "rf = RandomForestClassifier(random_state=42, min_samples_split=100, min_samples_leaf=30)\n",
        "grid_param = {\n",
        "    'n_estimators': [50,100,150,200],\n",
        "    'max_depth': [3,4,5,7]\n",
        "}\n",
        "gd_sr = GridSearchCV(estimator=rf, # lgbm or rf\n",
        "                     param_grid=grid_param,\n",
        "                     cv=5,\n",
        "                     n_jobs=-1)\n",
        "gd_sr.fit(X_train[features], y_train)"
      ],
      "metadata": {
        "colab": {
          "base_uri": "https://localhost:8080/"
        },
        "id": "DC8uQTiH_eAs",
        "outputId": "a71cb28c-b238-4fa6-d632-210cccf41fff"
      },
      "execution_count": 31,
      "outputs": [
        {
          "output_type": "execute_result",
          "data": {
            "text/plain": [
              "GridSearchCV(cv=5,\n",
              "             estimator=RandomForestClassifier(min_samples_leaf=30,\n",
              "                                              min_samples_split=100,\n",
              "                                              random_state=42),\n",
              "             n_jobs=-1,\n",
              "             param_grid={'max_depth': [3, 4, 5, 7],\n",
              "                         'n_estimators': [50, 100, 150, 200]})"
            ]
          },
          "metadata": {},
          "execution_count": 31
        }
      ]
    },
    {
      "cell_type": "code",
      "source": [
        "rf_ = gd_sr.best_estimator_\n",
        "print(rf_)\n",
        "\n",
        "y_train_pred = rf_.predict(X_train[features])\n",
        "y_train_pred_proba = rf_.predict_proba(X_train[features])[:, 1]\n",
        "y_valida_pred = rf_.predict(X_valida[features])\n",
        "y_valida_pred_proba = rf_.predict_proba(X_valida[features])[:, 1]\n",
        "\n",
        "class_metrics(y_train, y_train_pred, y_train_pred_proba, \n",
        "              y_valida, y_valida_pred, y_valida_pred_proba)"
      ],
      "metadata": {
        "colab": {
          "base_uri": "https://localhost:8080/"
        },
        "id": "pOmESLJyAgNn",
        "outputId": "390cbb7b-1e88-4451-fc58-17b641cc1915"
      },
      "execution_count": 32,
      "outputs": [
        {
          "output_type": "stream",
          "name": "stdout",
          "text": [
            "RandomForestClassifier(max_depth=4, min_samples_leaf=30, min_samples_split=100,\n",
            "                       random_state=42)\n",
            "---- TRAIN ----\n",
            " Accuracy:  0.6218447372598825\n",
            " Precision:  0.589838147920508\n",
            " Recall:  0.8833998158944462\n",
            " F1-score : 0.7073710073710073\n",
            " ROC AUC score: 0.6987259976421569\n",
            "---- TEST ----\n",
            " Accuracy:  0.5372549019607843\n",
            " Precision:  0.5224489795918368\n",
            " Recall:  0.9922480620155039\n",
            " F1-score : 0.6844919786096256\n",
            " ROC AUC score: 0.5626307370493416\n"
          ]
        }
      ]
    },
    {
      "cell_type": "code",
      "source": [
        "plot_confusion_matrix(y_train, y_train_pred)"
      ],
      "metadata": {
        "colab": {
          "base_uri": "https://localhost:8080/",
          "height": 295
        },
        "id": "FTxaoNCzkC_7",
        "outputId": "a910a39f-e85e-40bb-f628-b6562679e4bd"
      },
      "execution_count": 33,
      "outputs": [
        {
          "output_type": "display_data",
          "data": {
            "text/plain": [
              "<Figure size 432x288 with 2 Axes>"
            ],
            "image/png": "[encoded data removed]"
          },
          "metadata": {
            "needs_background": "light"
          }
        }
      ]
    },
    {
      "cell_type": "code",
      "source": [
        "plot_confusion_matrix(y_valida, y_valida_pred)"
      ],
      "metadata": {
        "colab": {
          "base_uri": "https://localhost:8080/",
          "height": 295
        },
        "id": "1yLdxIJYkG5U",
        "outputId": "65ee7688-9ef4-4963-b1ea-83e8fbcc3d1d"
      },
      "execution_count": 34,
      "outputs": [
        {
          "output_type": "display_data",
          "data": {
            "text/plain": [
              "<Figure size 432x288 with 2 Axes>"
            ],
            "image/png": "[encoded data removed]"
          },
          "metadata": {
            "needs_background": "light"
          }
        }
      ]
    },
    {
      "cell_type": "code",
      "source": [
        "fp = pd.DataFrame({'feature':features,'feature_imp':rf_.feature_importances_}).sort_values('feature_imp', ascending=False)\n",
        "fp.head(20)"
      ],
      "metadata": {
        "colab": {
          "base_uri": "https://localhost:8080/",
          "height": 676
        },
        "id": "VaGVAg-_DLdO",
        "outputId": "c2e80d1c-a108-476b-ab8b-23528c620a7d"
      },
      "execution_count": 35,
      "outputs": [
        {
          "output_type": "execute_result",
          "data": {
            "text/plain": [
              "                          feature  feature_imp\n",
              "146             diff_Open_High_s9     0.022999\n",
              "133            diff_Open_Close_s9     0.020864\n",
              "98          Adj Close_s3_r_10_min     0.018140\n",
              "47                 Low_s3_r_2_std     0.017069\n",
              "106             Volume_s3_r_2_max     0.015903\n",
              "20            Open_s3_r_10_median     0.015650\n",
              "110          Volume_s3_r_5_median     0.015396\n",
              "75             Close_s3_r_10_mean     0.015201\n",
              "28                High_s3_r_2_std     0.014361\n",
              "164      diff_Open_Low_s3_r_2_min     0.014301\n",
              "56               Low_s3_r_10_mean     0.014267\n",
              "70              Close_s3_r_5_mean     0.014235\n",
              "111             Volume_s3_r_5_max     0.013917\n",
              "108            Volume_s3_r_5_mean     0.013265\n",
              "149  diff_Open_High_s3_r_2_median     0.013208\n",
              "92           Adj Close_s3_r_5_max     0.012977\n",
              "120             range_High_Low_s9     0.012683\n",
              "114            Volume_s3_r_10_std     0.011527\n",
              "0                             day     0.011009\n",
              "90           Adj Close_s3_r_5_std     0.010255"
            ],
            "text/html": [
              "\n",
              "  <div id=\"df-dfa21d44-fef3-4017-96cc-bfc5e4eab879\">\n",
              "    <div class=\"colab-df-container\">\n",
              "      <div>\n",
              "<style scoped>\n",
              "    .dataframe tbody tr th:only-of-type {\n",
              "        vertical-align: middle;\n",
              "    }\n",
              "\n",
              "    .dataframe tbody tr th {\n",
              "        vertical-align: top;\n",
              "    }\n",
              "\n",
              "    .dataframe thead th {\n",
              "        text-align: right;\n",
              "    }\n",
              "</style>\n",
              "<table border=\"1\" class=\"dataframe\">\n",
              "  <thead>\n",
              "    <tr style=\"text-align: right;\">\n",
              "      <th></th>\n",
              "      <th>feature</th>\n",
              "      <th>feature_imp</th>\n",
              "    </tr>\n",
              "  </thead>\n",
              "  <tbody>\n",
              "    <tr>\n",
              "      <th>146</th>\n",
              "      <td>diff_Open_High_s9</td>\n",
              "      <td>0.022999</td>\n",
              "    </tr>\n",
              "    <tr>\n",
              "      <th>133</th>\n",
              "      <td>diff_Open_Close_s9</td>\n",
              "      <td>0.020864</td>\n",
              "    </tr>\n",
              "    <tr>\n",
              "      <th>98</th>\n",
              "      <td>Adj Close_s3_r_10_min</td>\n",
              "      <td>0.018140</td>\n",
              "    </tr>\n",
              "    <tr>\n",
              "      <th>47</th>\n",
              "      <td>Low_s3_r_2_std</td>\n",
              "      <td>0.017069</td>\n",
              "    </tr>\n",
              "    <tr>\n",
              "      <th>106</th>\n",
              "      <td>Volume_s3_r_2_max</td>\n",
              "      <td>0.015903</td>\n",
              "    </tr>\n",
              "    <tr>\n",
              "      <th>20</th>\n",
              "      <td>Open_s3_r_10_median</td>\n",
              "      <td>0.015650</td>\n",
              "    </tr>\n",
              "    <tr>\n",
              "      <th>110</th>\n",
              "      <td>Volume_s3_r_5_median</td>\n",
              "      <td>0.015396</td>\n",
              "    </tr>\n",
              "    <tr>\n",
              "      <th>75</th>\n",
              "      <td>Close_s3_r_10_mean</td>\n",
              "      <td>0.015201</td>\n",
              "    </tr>\n",
              "    <tr>\n",
              "      <th>28</th>\n",
              "      <td>High_s3_r_2_std</td>\n",
              "      <td>0.014361</td>\n",
              "    </tr>\n",
              "    <tr>\n",
              "      <th>164</th>\n",
              "      <td>diff_Open_Low_s3_r_2_min</td>\n",
              "      <td>0.014301</td>\n",
              "    </tr>\n",
              "    <tr>\n",
              "      <th>56</th>\n",
              "      <td>Low_s3_r_10_mean</td>\n",
              "      <td>0.014267</td>\n",
              "    </tr>\n",
              "    <tr>\n",
              "      <th>70</th>\n",
              "      <td>Close_s3_r_5_mean</td>\n",
              "      <td>0.014235</td>\n",
              "    </tr>\n",
              "    <tr>\n",
              "      <th>111</th>\n",
              "      <td>Volume_s3_r_5_max</td>\n",
              "      <td>0.013917</td>\n",
              "    </tr>\n",
              "    <tr>\n",
              "      <th>108</th>\n",
              "      <td>Volume_s3_r_5_mean</td>\n",
              "      <td>0.013265</td>\n",
              "    </tr>\n",
              "    <tr>\n",
              "      <th>149</th>\n",
              "      <td>diff_Open_High_s3_r_2_median</td>\n",
              "      <td>0.013208</td>\n",
              "    </tr>\n",
              "    <tr>\n",
              "      <th>92</th>\n",
              "      <td>Adj Close_s3_r_5_max</td>\n",
              "      <td>0.012977</td>\n",
              "    </tr>\n",
              "    <tr>\n",
              "      <th>120</th>\n",
              "      <td>range_High_Low_s9</td>\n",
              "      <td>0.012683</td>\n",
              "    </tr>\n",
              "    <tr>\n",
              "      <th>114</th>\n",
              "      <td>Volume_s3_r_10_std</td>\n",
              "      <td>0.011527</td>\n",
              "    </tr>\n",
              "    <tr>\n",
              "      <th>0</th>\n",
              "      <td>day</td>\n",
              "      <td>0.011009</td>\n",
              "    </tr>\n",
              "    <tr>\n",
              "      <th>90</th>\n",
              "      <td>Adj Close_s3_r_5_std</td>\n",
              "      <td>0.010255</td>\n",
              "    </tr>\n",
              "  </tbody>\n",
              "</table>\n",
              "</div>\n",
              "      <button class=\"colab-df-convert\" onclick=\"convertToInteractive('df-dfa21d44-fef3-4017-96cc-bfc5e4eab879')\"\n",
              "              title=\"Convert this dataframe to an interactive table.\"\n",
              "              style=\"display:none;\">\n",
              "        \n",
              "  <svg xmlns=\"http://www.w3.org/2000/svg\" height=\"24px\"viewBox=\"0 0 24 24\"\n",
              "       width=\"24px\">\n",
              "    <path d=\"M0 0h24v24H0V0z\" fill=\"none\"/>\n",
              "    <path d=\"M18.56 5.44l.94 2.06.94-2.06 2.06-.94-2.06-.94-.94-2.06-.94 2.06-2.06.94zm-11 1L8.5 8.5l.94-2.06 2.06-.94-2.06-.94L8.5 2.5l-.94 2.06-2.06.94zm10 10l.94 2.06.94-2.06 2.06-.94-2.06-.94-.94-2.06-.94 2.06-2.06.94z\"/><path d=\"M17.41 7.96l-1.37-1.37c-.4-.4-.92-.59-1.43-.59-.52 0-1.04.2-1.43.59L10.3 9.45l-7.72 7.72c-.78.78-.78 2.05 0 2.83L4 21.41c.39.39.9.59 1.41.59.51 0 1.02-.2 1.41-.59l7.78-7.78 2.81-2.81c.8-.78.8-2.07 0-2.86zM5.41 20L4 18.59l7.72-7.72 1.47 1.35L5.41 20z\"/>\n",
              "  </svg>\n",
              "      </button>\n",
              "      \n",
              "  <style>\n",
              "    .colab-df-container {\n",
              "      display:flex;\n",
              "      flex-wrap:wrap;\n",
              "      gap: 12px;\n",
              "    }\n",
              "\n",
              "    .colab-df-convert {\n",
              "      background-color: #E8F0FE;\n",
              "      border: none;\n",
              "      border-radius: 50%;\n",
              "      cursor: pointer;\n",
              "      display: none;\n",
              "      fill: #1967D2;\n",
              "      height: 32px;\n",
              "      padding: 0 0 0 0;\n",
              "      width: 32px;\n",
              "    }\n",
              "\n",
              "    .colab-df-convert:hover {\n",
              "      background-color: #E2EBFA;\n",
              "      box-shadow: 0px 1px 2px rgba(60, 64, 67, 0.3), 0px 1px 3px 1px rgba(60, 64, 67, 0.15);\n",
              "      fill: #174EA6;\n",
              "    }\n",
              "\n",
              "    [theme=dark] .colab-df-convert {\n",
              "      background-color: #3B4455;\n",
              "      fill: #D2E3FC;\n",
              "    }\n",
              "\n",
              "    [theme=dark] .colab-df-convert:hover {\n",
              "      background-color: #434B5C;\n",
              "      box-shadow: 0px 1px 3px 1px rgba(0, 0, 0, 0.15);\n",
              "      filter: drop-shadow(0px 1px 2px rgba(0, 0, 0, 0.3));\n",
              "      fill: #FFFFFF;\n",
              "    }\n",
              "  </style>\n",
              "\n",
              "      <script>\n",
              "        const buttonEl =\n",
              "          document.querySelector('#df-dfa21d44-fef3-4017-96cc-bfc5e4eab879 button.colab-df-convert');\n",
              "        buttonEl.style.display =\n",
              "          google.colab.kernel.accessAllowed ? 'block' : 'none';\n",
              "\n",
              "        async function convertToInteractive(key) {\n",
              "          const element = document.querySelector('#df-dfa21d44-fef3-4017-96cc-bfc5e4eab879');\n",
              "          const dataTable =\n",
              "            await google.colab.kernel.invokeFunction('convertToInteractive',\n",
              "                                                     [key], {});\n",
              "          if (!dataTable) return;\n",
              "\n",
              "          const docLinkHtml = 'Like what you see? Visit the ' +\n",
              "            '<a target=\"_blank\" href=https://colab.research.google.com/notebooks/data_table.ipynb>data table notebook</a>'\n",
              "            + ' to learn more about interactive tables.';\n",
              "          element.innerHTML = '';\n",
              "          dataTable['output_type'] = 'display_data';\n",
              "          await google.colab.output.renderOutput(dataTable, element);\n",
              "          const docLink = document.createElement('div');\n",
              "          docLink.innerHTML = docLinkHtml;\n",
              "          element.appendChild(docLink);\n",
              "        }\n",
              "      </script>\n",
              "    </div>\n",
              "  </div>\n",
              "  "
            ]
          },
          "metadata": {},
          "execution_count": 35
        }
      ]
    },
    {
      "cell_type": "code",
      "source": [
        "delete_features = fp[ fp.feature_imp < fp[fp.feature=='random']['feature_imp'].values[0]*0.9 ]\n",
        "delete_features = delete_features['feature'].to_list()\n",
        "\n",
        "new_features = [ x for x in features if x not in delete_features ]\n",
        "new_features.remove('random')"
      ],
      "metadata": {
        "id": "hLvckaHUDPxW"
      },
      "execution_count": 36,
      "outputs": []
    },
    {
      "cell_type": "code",
      "source": [
        "print(len(features))\n",
        "print(len(new_features))"
      ],
      "metadata": {
        "colab": {
          "base_uri": "https://localhost:8080/"
        },
        "id": "L9zl_KCjM52p",
        "outputId": "804d66f5-4692-4ba4-923f-c04f86bb901a"
      },
      "execution_count": 37,
      "outputs": [
        {
          "output_type": "stream",
          "name": "stdout",
          "text": [
            "171\n",
            "170\n"
          ]
        }
      ]
    },
    {
      "cell_type": "code",
      "source": [
        "gd_sr = GridSearchCV(estimator=rf, # lgmb, rf\n",
        "                     param_grid=grid_param,\n",
        "                     cv=5,\n",
        "                     n_jobs=-1)"
      ],
      "metadata": {
        "id": "goSGw7llFBe1"
      },
      "execution_count": 38,
      "outputs": []
    },
    {
      "cell_type": "code",
      "source": [
        "gd_sr.fit(X_train[new_features], y_train)"
      ],
      "metadata": {
        "colab": {
          "base_uri": "https://localhost:8080/"
        },
        "id": "-hKoxfC4EbxP",
        "outputId": "e71e7250-90fa-4357-85b1-52658c5caed2"
      },
      "execution_count": 39,
      "outputs": [
        {
          "output_type": "execute_result",
          "data": {
            "text/plain": [
              "GridSearchCV(cv=5,\n",
              "             estimator=RandomForestClassifier(min_samples_leaf=30,\n",
              "                                              min_samples_split=100,\n",
              "                                              random_state=42),\n",
              "             n_jobs=-1,\n",
              "             param_grid={'max_depth': [3, 4, 5, 7],\n",
              "                         'n_estimators': [50, 100, 150, 200]})"
            ]
          },
          "metadata": {},
          "execution_count": 39
        }
      ]
    },
    {
      "cell_type": "code",
      "source": [
        "red_model = gd_sr.best_estimator_\n",
        "print(red_model)\n",
        "\n",
        "y_train_pred = red_model.predict(X_train[new_features])\n",
        "y_train_pred_proba = red_model.predict_proba(X_train[new_features])[:, 1]\n",
        "y_valida_pred = red_model.predict(X_valida[new_features])\n",
        "y_valida_pred_proba = red_model.predict_proba(X_valida[new_features])[:, 1]\n",
        "\n",
        "class_metrics(y_train, y_train_pred, y_train_pred_proba, \n",
        "              y_valida, y_valida_pred, y_valida_pred_proba)"
      ],
      "metadata": {
        "colab": {
          "base_uri": "https://localhost:8080/"
        },
        "id": "9sadK9yMFPAN",
        "outputId": "068ce854-5506-4b5b-f3e8-1148f8941ba1"
      },
      "execution_count": 40,
      "outputs": [
        {
          "output_type": "stream",
          "name": "stdout",
          "text": [
            "RandomForestClassifier(max_depth=7, min_samples_leaf=30, min_samples_split=100,\n",
            "                       random_state=42)\n",
            "---- TRAIN ----\n",
            " Accuracy:  0.7021749484045087\n",
            " Precision:  0.6628208146927242\n",
            " Recall:  0.8637618901503529\n",
            " F1-score : 0.7500666133759658\n",
            " ROC AUC score: 0.8057157507146202\n",
            "---- TEST ----\n",
            " Accuracy:  0.5333333333333333\n",
            " Precision:  0.5211864406779662\n",
            " Recall:  0.9534883720930233\n",
            " F1-score : 0.6739726027397261\n",
            " ROC AUC score: 0.5857019810508183\n"
          ]
        }
      ]
    },
    {
      "cell_type": "code",
      "source": [
        "plot_confusion_matrix(y_train, y_train_pred)"
      ],
      "metadata": {
        "colab": {
          "base_uri": "https://localhost:8080/",
          "height": 295
        },
        "id": "Hj_t-xqfCnhL",
        "outputId": "8d8176df-6ad1-4343-d99a-52160d8195cc"
      },
      "execution_count": 41,
      "outputs": [
        {
          "output_type": "display_data",
          "data": {
            "text/plain": [
              "<Figure size 432x288 with 2 Axes>"
            ],
            "image/png": "[encoded data removed]"
          },
          "metadata": {
            "needs_background": "light"
          }
        }
      ]
    },
    {
      "cell_type": "code",
      "source": [
        "plot_confusion_matrix(y_valida, y_valida_pred)"
      ],
      "metadata": {
        "colab": {
          "base_uri": "https://localhost:8080/",
          "height": 295
        },
        "id": "Y5tekTB1Cfgt",
        "outputId": "1641da61-63ac-48de-b10d-fe07c9b0e23a"
      },
      "execution_count": 42,
      "outputs": [
        {
          "output_type": "display_data",
          "data": {
            "text/plain": [
              "<Figure size 432x288 with 2 Axes>"
            ],
            "image/png": "[encoded data removed]"
          },
          "metadata": {
            "needs_background": "light"
          }
        }
      ]
    },
    {
      "cell_type": "markdown",
      "source": [
        "## LightGBM"
      ],
      "metadata": {
        "id": "6nHuGLp6oJaN"
      }
    },
    {
      "cell_type": "code",
      "source": [
        "lgbm = LGBMClassifier(random_state=42, min_samples_split=50, min_samples_leaf=25)\n",
        "grid_param = {\n",
        "    'n_estimators': [30,40,50,70],\n",
        "    'max_depth': [3,5,7,10]\n",
        "}\n",
        "gd_sr = GridSearchCV(estimator=lgbm, # lgbm or rf\n",
        "                     param_grid=grid_param,\n",
        "                     cv=7,\n",
        "                     n_jobs=-1)\n",
        "gd_sr.fit(X_train[features], y_train)"
      ],
      "metadata": {
        "colab": {
          "base_uri": "https://localhost:8080/"
        },
        "id": "gUIf923cmKSk",
        "outputId": "832bdc2b-b3bb-4536-bffb-1d25e08319be"
      },
      "execution_count": 43,
      "outputs": [
        {
          "output_type": "execute_result",
          "data": {
            "text/plain": [
              "GridSearchCV(cv=7,\n",
              "             estimator=LGBMClassifier(min_samples_leaf=25, min_samples_split=50,\n",
              "                                      random_state=42),\n",
              "             n_jobs=-1,\n",
              "             param_grid={'max_depth': [3, 5, 7, 10],\n",
              "                         'n_estimators': [30, 40, 50, 70]})"
            ]
          },
          "metadata": {},
          "execution_count": 43
        }
      ]
    },
    {
      "cell_type": "code",
      "source": [
        "lgbm_ = gd_sr.best_estimator_\n",
        "print(lgbm_)\n",
        "\n",
        "y_train_pred = lgbm_.predict(X_train[features])\n",
        "y_train_pred_proba = lgbm_.predict_proba(X_train[features])[:, 1]\n",
        "y_valida_pred = lgbm_.predict(X_valida[features])\n",
        "y_valida_pred_proba = lgbm_.predict_proba(X_valida[features])[:, 1]\n",
        "\n",
        "class_metrics(y_train, y_train_pred, y_train_pred_proba, \n",
        "              y_valida, y_valida_pred, y_valida_pred_proba)"
      ],
      "metadata": {
        "colab": {
          "base_uri": "https://localhost:8080/"
        },
        "id": "ve1fTLQ3mYW1",
        "outputId": "5136020e-2f48-4773-9d06-255ac27e3739"
      },
      "execution_count": 44,
      "outputs": [
        {
          "output_type": "stream",
          "name": "stdout",
          "text": [
            "LGBMClassifier(max_depth=10, min_samples_leaf=25, min_samples_split=50,\n",
            "               n_estimators=40, random_state=42)\n",
            "---- TRAIN ----\n",
            " Accuracy:  0.8999841244642006\n",
            " Precision:  0.879146235938852\n",
            " Recall:  0.9352562135624425\n",
            " F1-score : 0.9063336306868868\n",
            " ROC AUC score: 0.9648234242018057\n",
            "---- TEST ----\n",
            " Accuracy:  0.5725490196078431\n",
            " Precision:  0.5526315789473685\n",
            " Recall:  0.813953488372093\n",
            " F1-score : 0.6583072100313481\n",
            " ROC AUC score: 0.5709979082072105\n"
          ]
        }
      ]
    },
    {
      "cell_type": "code",
      "source": [
        "plot_confusion_matrix(y_train, y_train_pred)"
      ],
      "metadata": {
        "colab": {
          "base_uri": "https://localhost:8080/",
          "height": 295
        },
        "id": "sE3cmZ2DCoNO",
        "outputId": "a5ada864-0c99-45ee-a6b8-5af98c99f01b"
      },
      "execution_count": 45,
      "outputs": [
        {
          "output_type": "display_data",
          "data": {
            "text/plain": [
              "<Figure size 432x288 with 2 Axes>"
            ],
            "image/png": "[encoded data removed]"
          },
          "metadata": {
            "needs_background": "light"
          }
        }
      ]
    },
    {
      "cell_type": "code",
      "source": [
        "plot_confusion_matrix(y_valida, y_valida_pred)"
      ],
      "metadata": {
        "colab": {
          "base_uri": "https://localhost:8080/",
          "height": 295
        },
        "id": "D8W-Z5AFCggV",
        "outputId": "2dcac86b-2ef0-4acd-84d3-1bb43c8f8aae"
      },
      "execution_count": 46,
      "outputs": [
        {
          "output_type": "display_data",
          "data": {
            "text/plain": [
              "<Figure size 432x288 with 2 Axes>"
            ],
            "image/png": "[encoded data removed]"
          },
          "metadata": {
            "needs_background": "light"
          }
        }
      ]
    },
    {
      "cell_type": "markdown",
      "source": [
        "# Solución Final"
      ],
      "metadata": {
        "id": "CeflQ_1B1wMI"
      }
    },
    {
      "cell_type": "code",
      "source": [
        "def preprocess(df):\n",
        "\n",
        "    df = df.ffill(axis = 0)\n",
        "\n",
        "    df['range_High_Low'] = df['High'] - df['Low']\n",
        "    df['diff_Open_Close'] = df['Open'] - df['Close']\n",
        "    df['diff_Open_High'] = df['Open'] - df['High']\n",
        "    df['diff_Open_Low'] = df['Open'] - df['Low']\n",
        "\n",
        "    df['Close_orig'] = df['Close'].copy()\n",
        "\n",
        "    df['day'] = df['Date'].dt.day\n",
        "    df['month'] = df['Date'].dt.month\n",
        "    df['month'] = df['Date'].dt.weekday\n",
        "    df['quarter'] = df['Date'].dt.quarter\n",
        "    df['week'] = df['Date'].dt.week\n",
        "\n",
        "    shift_cols = ['Open','High','Low','Close','Adj Close','Volume']\n",
        "    for col in shift_cols:\n",
        "        # Represent all columns in terms of the close of 7 days ago\n",
        "        # We don't care much about the prediction (we only care if we higher or lower)\n",
        "        df[col] = df[col] - df['Close'].shift(7) \n",
        "\n",
        "        if col == 'Volume':\n",
        "            df[col] = df[col] - df[col].shift(7) \n",
        "\n",
        "        df = apply_shift(df, col, 3)\n",
        "        df = apply_shift(df, col, 6)\n",
        "        df = apply_shift(df, col, 9)\n",
        "        df = apply_shift(df, col, 18)\n",
        "\n",
        "        df = apply_shift_rolling(df, col, 3, 2)\n",
        "        df = apply_shift_rolling(df, col, 3, 5)\n",
        "        df = apply_shift_rolling(df, col, 3, 10)\n",
        "\n",
        "    other_cols = ['range_High_Low','diff_Open_Close','diff_Open_High','diff_Open_Low']\n",
        "    for col in other_cols:\n",
        "        df = apply_shift(df, col, 3)\n",
        "        df = apply_shift(df, col, 6)\n",
        "        df = apply_shift(df, col, 9)\n",
        "        \n",
        "        df = apply_shift_rolling(df, col, 3, 2)\n",
        "        df = apply_shift_rolling(df, col, 3, 5)\n",
        "    \n",
        "    randomlist = []\n",
        "    for i in range(0,df.shape[0]):\n",
        "        n = random.uniform(0,1)\n",
        "        randomlist.append(n)\n",
        "    df['random'] = randomlist\n",
        "\n",
        "    df = df.bfill(axis = 0)\n",
        "\n",
        "    avoid_cols = shift_cols + other_cols\n",
        "\n",
        "    features = [ x for x in df.columns if x not in avoid_cols ]\n",
        "    features.remove('Date')\n",
        "    features.remove('Close_orig')\n",
        "    features.remove('TRAIN_TEST')\n",
        "    features.remove('Target')\n",
        "\n",
        "    return df, features"
      ],
      "metadata": {
        "id": "MAaaH-hNXTHr"
      },
      "execution_count": 47,
      "outputs": []
    },
    {
      "cell_type": "code",
      "source": [
        "train = pd.read_csv('/content/train.csv', parse_dates = ['Date'])\n",
        "test = pd.read_csv('/content/test_x.csv', parse_dates = ['Date'], index_col = 0)\n",
        "\n",
        "train['TRAIN_TEST'] = 0\n",
        "test['TRAIN_TEST'] = 1\n",
        "\n",
        "train_test = pd.concat([train, test], axis=0)\n",
        "\n",
        "train_test, features = preprocess(train_test)\n",
        "\n",
        "if True:\n",
        "    train_test['Close_orig_f3'] = train_test['Close_orig'].shift(-3)\n",
        "    train_test['Target_'] = train_test['Close_orig_f3'] > train_test['Close_orig']\n",
        "    train_test['Target_'] = train_test['Target_'].astype(int)"
      ],
      "metadata": {
        "colab": {
          "base_uri": "https://localhost:8080/"
        },
        "id": "8F7AcY09Ys2Q",
        "outputId": "7ba4a838-9f6f-411b-9376-b6e03a6c16bb"
      },
      "execution_count": 48,
      "outputs": [
        {
          "output_type": "stream",
          "name": "stderr",
          "text": [
            "/usr/local/lib/python3.7/dist-packages/ipykernel_launcher.py:16: FutureWarning: Series.dt.weekofyear and Series.dt.week have been deprecated.  Please use Series.dt.isocalendar().week instead.\n",
            "  app.launch_new_instance()\n",
            "/usr/local/lib/python3.7/dist-packages/ipykernel_launcher.py:5: PerformanceWarning: DataFrame is highly fragmented.  This is usually the result of calling `frame.insert` many times, which has poor performance.  Consider joining all columns at once using pd.concat(axis=1) instead.  To get a de-fragmented frame, use `newframe = frame.copy()`\n",
            "  \"\"\"\n",
            "/usr/local/lib/python3.7/dist-packages/ipykernel_launcher.py:6: PerformanceWarning: DataFrame is highly fragmented.  This is usually the result of calling `frame.insert` many times, which has poor performance.  Consider joining all columns at once using pd.concat(axis=1) instead.  To get a de-fragmented frame, use `newframe = frame.copy()`\n",
            "  \n",
            "/usr/local/lib/python3.7/dist-packages/ipykernel_launcher.py:2: PerformanceWarning: DataFrame is highly fragmented.  This is usually the result of calling `frame.insert` many times, which has poor performance.  Consider joining all columns at once using pd.concat(axis=1) instead.  To get a de-fragmented frame, use `newframe = frame.copy()`\n",
            "  \n",
            "/usr/local/lib/python3.7/dist-packages/ipykernel_launcher.py:3: PerformanceWarning: DataFrame is highly fragmented.  This is usually the result of calling `frame.insert` many times, which has poor performance.  Consider joining all columns at once using pd.concat(axis=1) instead.  To get a de-fragmented frame, use `newframe = frame.copy()`\n",
            "  This is separate from the ipykernel package so we can avoid doing imports until\n",
            "/usr/local/lib/python3.7/dist-packages/ipykernel_launcher.py:4: PerformanceWarning: DataFrame is highly fragmented.  This is usually the result of calling `frame.insert` many times, which has poor performance.  Consider joining all columns at once using pd.concat(axis=1) instead.  To get a de-fragmented frame, use `newframe = frame.copy()`\n",
            "  after removing the cwd from sys.path.\n",
            "/usr/local/lib/python3.7/dist-packages/ipykernel_launcher.py:49: PerformanceWarning: DataFrame is highly fragmented.  This is usually the result of calling `frame.insert` many times, which has poor performance.  Consider joining all columns at once using pd.concat(axis=1) instead.  To get a de-fragmented frame, use `newframe = frame.copy()`\n"
          ]
        }
      ]
    },
    {
      "cell_type": "code",
      "source": [
        "train_test[['Date','Close_orig','Close_orig_f3','Target','Target_']].sample(10)"
      ],
      "metadata": {
        "colab": {
          "base_uri": "https://localhost:8080/",
          "height": 363
        },
        "id": "ebaEec9Dc4M4",
        "outputId": "1b242adf-a2ff-4e60-aeab-7d33321e9a98"
      },
      "execution_count": 49,
      "outputs": [
        {
          "output_type": "execute_result",
          "data": {
            "text/plain": [
              "           Date    Close_orig  Close_orig_f3  Target  Target_\n",
              "371  1995-06-06   3261.500000    3242.800049     0.0        0\n",
              "5966 2017-02-07   9331.500000    9378.099609     1.0        1\n",
              "7273 2022-03-18   8417.599609    8328.400391     0.0        0\n",
              "6669 2019-11-08   9393.700195    9194.500000     0.0        0\n",
              "6817 2020-06-10   7663.899902    7259.299805     0.0        0\n",
              "4545 2011-07-21  10017.599609    9833.400391     0.0        0\n",
              "4256 2010-06-07   8795.299805    9198.200195     1.0        1\n",
              "7096 2021-07-12   8816.700195    8527.000000     0.0        0\n",
              "114  1994-06-10   3495.699951    3399.600098     0.0        0\n",
              "4378 2010-11-24   9742.599609    9324.700195     0.0        0"
            ],
            "text/html": [
              "\n",
              "  <div id=\"df-2ea27806-7b32-4f59-99c0-026e881fc1ab\">\n",
              "    <div class=\"colab-df-container\">\n",
              "      <div>\n",
              "<style scoped>\n",
              "    .dataframe tbody tr th:only-of-type {\n",
              "        vertical-align: middle;\n",
              "    }\n",
              "\n",
              "    .dataframe tbody tr th {\n",
              "        vertical-align: top;\n",
              "    }\n",
              "\n",
              "    .dataframe thead th {\n",
              "        text-align: right;\n",
              "    }\n",
              "</style>\n",
              "<table border=\"1\" class=\"dataframe\">\n",
              "  <thead>\n",
              "    <tr style=\"text-align: right;\">\n",
              "      <th></th>\n",
              "      <th>Date</th>\n",
              "      <th>Close_orig</th>\n",
              "      <th>Close_orig_f3</th>\n",
              "      <th>Target</th>\n",
              "      <th>Target_</th>\n",
              "    </tr>\n",
              "  </thead>\n",
              "  <tbody>\n",
              "    <tr>\n",
              "      <th>371</th>\n",
              "      <td>1995-06-06</td>\n",
              "      <td>3261.500000</td>\n",
              "      <td>3242.800049</td>\n",
              "      <td>0.0</td>\n",
              "      <td>0</td>\n",
              "    </tr>\n",
              "    <tr>\n",
              "      <th>5966</th>\n",
              "      <td>2017-02-07</td>\n",
              "      <td>9331.500000</td>\n",
              "      <td>9378.099609</td>\n",
              "      <td>1.0</td>\n",
              "      <td>1</td>\n",
              "    </tr>\n",
              "    <tr>\n",
              "      <th>7273</th>\n",
              "      <td>2022-03-18</td>\n",
              "      <td>8417.599609</td>\n",
              "      <td>8328.400391</td>\n",
              "      <td>0.0</td>\n",
              "      <td>0</td>\n",
              "    </tr>\n",
              "    <tr>\n",
              "      <th>6669</th>\n",
              "      <td>2019-11-08</td>\n",
              "      <td>9393.700195</td>\n",
              "      <td>9194.500000</td>\n",
              "      <td>0.0</td>\n",
              "      <td>0</td>\n",
              "    </tr>\n",
              "    <tr>\n",
              "      <th>6817</th>\n",
              "      <td>2020-06-10</td>\n",
              "      <td>7663.899902</td>\n",
              "      <td>7259.299805</td>\n",
              "      <td>0.0</td>\n",
              "      <td>0</td>\n",
              "    </tr>\n",
              "    <tr>\n",
              "      <th>4545</th>\n",
              "      <td>2011-07-21</td>\n",
              "      <td>10017.599609</td>\n",
              "      <td>9833.400391</td>\n",
              "      <td>0.0</td>\n",
              "      <td>0</td>\n",
              "    </tr>\n",
              "    <tr>\n",
              "      <th>4256</th>\n",
              "      <td>2010-06-07</td>\n",
              "      <td>8795.299805</td>\n",
              "      <td>9198.200195</td>\n",
              "      <td>1.0</td>\n",
              "      <td>1</td>\n",
              "    </tr>\n",
              "    <tr>\n",
              "      <th>7096</th>\n",
              "      <td>2021-07-12</td>\n",
              "      <td>8816.700195</td>\n",
              "      <td>8527.000000</td>\n",
              "      <td>0.0</td>\n",
              "      <td>0</td>\n",
              "    </tr>\n",
              "    <tr>\n",
              "      <th>114</th>\n",
              "      <td>1994-06-10</td>\n",
              "      <td>3495.699951</td>\n",
              "      <td>3399.600098</td>\n",
              "      <td>0.0</td>\n",
              "      <td>0</td>\n",
              "    </tr>\n",
              "    <tr>\n",
              "      <th>4378</th>\n",
              "      <td>2010-11-24</td>\n",
              "      <td>9742.599609</td>\n",
              "      <td>9324.700195</td>\n",
              "      <td>0.0</td>\n",
              "      <td>0</td>\n",
              "    </tr>\n",
              "  </tbody>\n",
              "</table>\n",
              "</div>\n",
              "      <button class=\"colab-df-convert\" onclick=\"convertToInteractive('df-2ea27806-7b32-4f59-99c0-026e881fc1ab')\"\n",
              "              title=\"Convert this dataframe to an interactive table.\"\n",
              "              style=\"display:none;\">\n",
              "        \n",
              "  <svg xmlns=\"http://www.w3.org/2000/svg\" height=\"24px\"viewBox=\"0 0 24 24\"\n",
              "       width=\"24px\">\n",
              "    <path d=\"M0 0h24v24H0V0z\" fill=\"none\"/>\n",
              "    <path d=\"M18.56 5.44l.94 2.06.94-2.06 2.06-.94-2.06-.94-.94-2.06-.94 2.06-2.06.94zm-11 1L8.5 8.5l.94-2.06 2.06-.94-2.06-.94L8.5 2.5l-.94 2.06-2.06.94zm10 10l.94 2.06.94-2.06 2.06-.94-2.06-.94-.94-2.06-.94 2.06-2.06.94z\"/><path d=\"M17.41 7.96l-1.37-1.37c-.4-.4-.92-.59-1.43-.59-.52 0-1.04.2-1.43.59L10.3 9.45l-7.72 7.72c-.78.78-.78 2.05 0 2.83L4 21.41c.39.39.9.59 1.41.59.51 0 1.02-.2 1.41-.59l7.78-7.78 2.81-2.81c.8-.78.8-2.07 0-2.86zM5.41 20L4 18.59l7.72-7.72 1.47 1.35L5.41 20z\"/>\n",
              "  </svg>\n",
              "      </button>\n",
              "      \n",
              "  <style>\n",
              "    .colab-df-container {\n",
              "      display:flex;\n",
              "      flex-wrap:wrap;\n",
              "      gap: 12px;\n",
              "    }\n",
              "\n",
              "    .colab-df-convert {\n",
              "      background-color: #E8F0FE;\n",
              "      border: none;\n",
              "      border-radius: 50%;\n",
              "      cursor: pointer;\n",
              "      display: none;\n",
              "      fill: #1967D2;\n",
              "      height: 32px;\n",
              "      padding: 0 0 0 0;\n",
              "      width: 32px;\n",
              "    }\n",
              "\n",
              "    .colab-df-convert:hover {\n",
              "      background-color: #E2EBFA;\n",
              "      box-shadow: 0px 1px 2px rgba(60, 64, 67, 0.3), 0px 1px 3px 1px rgba(60, 64, 67, 0.15);\n",
              "      fill: #174EA6;\n",
              "    }\n",
              "\n",
              "    [theme=dark] .colab-df-convert {\n",
              "      background-color: #3B4455;\n",
              "      fill: #D2E3FC;\n",
              "    }\n",
              "\n",
              "    [theme=dark] .colab-df-convert:hover {\n",
              "      background-color: #434B5C;\n",
              "      box-shadow: 0px 1px 3px 1px rgba(0, 0, 0, 0.15);\n",
              "      filter: drop-shadow(0px 1px 2px rgba(0, 0, 0, 0.3));\n",
              "      fill: #FFFFFF;\n",
              "    }\n",
              "  </style>\n",
              "\n",
              "      <script>\n",
              "        const buttonEl =\n",
              "          document.querySelector('#df-2ea27806-7b32-4f59-99c0-026e881fc1ab button.colab-df-convert');\n",
              "        buttonEl.style.display =\n",
              "          google.colab.kernel.accessAllowed ? 'block' : 'none';\n",
              "\n",
              "        async function convertToInteractive(key) {\n",
              "          const element = document.querySelector('#df-2ea27806-7b32-4f59-99c0-026e881fc1ab');\n",
              "          const dataTable =\n",
              "            await google.colab.kernel.invokeFunction('convertToInteractive',\n",
              "                                                     [key], {});\n",
              "          if (!dataTable) return;\n",
              "\n",
              "          const docLinkHtml = 'Like what you see? Visit the ' +\n",
              "            '<a target=\"_blank\" href=https://colab.research.google.com/notebooks/data_table.ipynb>data table notebook</a>'\n",
              "            + ' to learn more about interactive tables.';\n",
              "          element.innerHTML = '';\n",
              "          dataTable['output_type'] = 'display_data';\n",
              "          await google.colab.output.renderOutput(dataTable, element);\n",
              "          const docLink = document.createElement('div');\n",
              "          docLink.innerHTML = docLinkHtml;\n",
              "          element.appendChild(docLink);\n",
              "        }\n",
              "      </script>\n",
              "    </div>\n",
              "  </div>\n",
              "  "
            ]
          },
          "metadata": {},
          "execution_count": 49
        }
      ]
    },
    {
      "cell_type": "code",
      "source": [
        "X_train = train_test.loc[train_test.TRAIN_TEST == 0]\n",
        "y_train = train_test.loc[train_test.TRAIN_TEST == 0, 'Target'].astype(int).astype('category')\n",
        "\n",
        "X_test = train_test.loc[train_test.TRAIN_TEST == 1]\n",
        "y_test = train_test.loc[train_test.TRAIN_TEST == 1, 'Target_'].astype(int).astype('category')"
      ],
      "metadata": {
        "id": "XSMm5OTpZAOW"
      },
      "execution_count": 50,
      "outputs": []
    },
    {
      "cell_type": "code",
      "source": [
        "#best_model = make_pipeline(StandardScaler(), SVC())\n",
        "\n",
        "best_model = RandomForestClassifier(max_depth=4, min_samples_leaf=30, min_samples_split=100,\n",
        "                       n_estimators=50, random_state=42)\n",
        "\n",
        "best_model.fit(X_train[features], y_train)\n",
        "\n",
        "y_train_pred = best_model.predict(X_train[features])\n",
        "y_train_pred_proba = best_model.predict_proba(X_train[features])[:, 1]\n",
        "y_test_pred = best_model.predict(X_test[features])\n",
        "y_test_pred_proba = best_model.predict_proba(X_test[features])[:, 1]\n",
        "\n",
        "class_metrics(y_train, y_train_pred, y_train_pred_proba, \n",
        "              y_valida, y_valida_pred, y_valida_pred_proba)"
      ],
      "metadata": {
        "colab": {
          "base_uri": "https://localhost:8080/"
        },
        "id": "2HoAv6FF1ZGz",
        "outputId": "061c61fb-7c70-4b5f-ba51-f1f0f45a70ed"
      },
      "execution_count": 51,
      "outputs": [
        {
          "output_type": "stream",
          "name": "stdout",
          "text": [
            "---- TRAIN ----\n",
            " Accuracy:  0.617485505035093\n",
            " Precision:  0.5865252406207032\n",
            " Recall:  0.8813459268004723\n",
            " F1-score : 0.7043283406062036\n",
            " ROC AUC score: 0.6877920362529563\n",
            "---- TEST ----\n",
            " Accuracy:  0.5725490196078431\n",
            " Precision:  0.5526315789473685\n",
            " Recall:  0.813953488372093\n",
            " F1-score : 0.6583072100313481\n",
            " ROC AUC score: 0.5709979082072105\n"
          ]
        }
      ]
    },
    {
      "cell_type": "code",
      "source": [
        "plot_confusion_matrix(y_train, y_train_pred)"
      ],
      "metadata": {
        "colab": {
          "base_uri": "https://localhost:8080/",
          "height": 295
        },
        "id": "zeLQzQ1TChnT",
        "outputId": "edfaa6c7-5158-47ec-a728-830eca2fb8d1"
      },
      "execution_count": 52,
      "outputs": [
        {
          "output_type": "display_data",
          "data": {
            "text/plain": [
              "<Figure size 432x288 with 2 Axes>"
            ],
            "image/png": "[encoded data removed]"
          },
          "metadata": {
            "needs_background": "light"
          }
        }
      ]
    },
    {
      "cell_type": "code",
      "source": [
        "plot_confusion_matrix(y_test, y_test_pred)"
      ],
      "metadata": {
        "colab": {
          "base_uri": "https://localhost:8080/",
          "height": 295
        },
        "id": "Be1HQksfCuP6",
        "outputId": "4d874756-3fb4-4afb-9b67-fd1f6fa85f45"
      },
      "execution_count": 53,
      "outputs": [
        {
          "output_type": "display_data",
          "data": {
            "text/plain": [
              "<Figure size 432x288 with 2 Axes>"
            ],
            "image/png": "[encoded data removed]"
          },
          "metadata": {
            "needs_background": "light"
          }
        }
      ]
    },
    {
      "cell_type": "code",
      "source": [
        "test = pd.read_csv('/content/test_x.csv', parse_dates = ['Date'])\n",
        "test['pred'] = y_test_pred\n",
        "test[['test_index','pred']].to_csv('prediction.csv')\n",
        "test[['test_index','pred']].to_json('prediction.json')"
      ],
      "metadata": {
        "id": "Ip7Z857h5Tqb"
      },
      "execution_count": 54,
      "outputs": []
    },
    {
      "cell_type": "markdown",
      "source": [
        "# Extra: LTSM\n",
        "\n",
        "He probado con Long short-term memory (LSTM). Se trata de un problema donde interesa memorizar y conocer que ha pasado anteriormente. \n",
        "\n",
        "No estoy seguro si se respeta tan sólo utilizar datos del pasado, al entrenar el modelo en batches de timesteps.\n"
      ],
      "metadata": {
        "id": "HwgdbJEFlunB"
      }
    },
    {
      "cell_type": "code",
      "source": [
        "import pandas as pd\n",
        "import numpy as np\n",
        "from sklearn.preprocessing import MinMaxScaler\n",
        "\n",
        "import time\n",
        "\n",
        "import keras\n",
        "from tensorflow import keras as ks\n",
        "\n",
        "from keras.layers import TimeDistributed\n",
        "from keras.models import load_model\n",
        "from keras.layers import Dense, LSTM, BatchNormalization\n",
        "\n",
        "from sklearn.preprocessing import MinMaxScaler, StandardScaler\n",
        "\n",
        "from keras.utils.np_utils import to_categorical\n",
        "from keras.models import Sequential\n",
        "from keras.layers import LSTM\n",
        "from keras.layers import Dense\n",
        "from keras.layers import TimeDistributed\n",
        "\n",
        "from keras.models import Sequential\n",
        "from keras.layers import Dense, Dropout\n",
        "\n",
        "from keras.callbacks import ModelCheckpoint\n",
        "\n",
        "from imblearn.over_sampling import SMOTE\n",
        "import matplotlib.pyplot as plt"
      ],
      "metadata": {
        "id": "alYUmsQec1CK"
      },
      "execution_count": 55,
      "outputs": []
    },
    {
      "cell_type": "code",
      "source": [
        "df_train = pd.read_csv('/content/train.csv', parse_dates=['Date'])\n",
        "df_test = pd.read_csv('/content/test_x.csv', parse_dates=['Date'], index_col=0)"
      ],
      "metadata": {
        "id": "CO3gWJh638yP"
      },
      "execution_count": 56,
      "outputs": []
    },
    {
      "cell_type": "code",
      "source": [
        "df_train['Date'].max()"
      ],
      "metadata": {
        "colab": {
          "base_uri": "https://localhost:8080/"
        },
        "id": "Ehz1sTbMquC5",
        "outputId": "3ddccf9e-ed2c-4af6-f731-7b731682feca"
      },
      "execution_count": 57,
      "outputs": [
        {
          "output_type": "execute_result",
          "data": {
            "text/plain": [
              "Timestamp('2019-05-30 00:00:00')"
            ]
          },
          "metadata": {},
          "execution_count": 57
        }
      ]
    },
    {
      "cell_type": "code",
      "source": [
        "# Compute test_target \n",
        "df_train['TRAIN_TEST'] = 0\n",
        "df_test['TRAIN_TEST'] = 1\n",
        "\n",
        "train_test = pd.concat([df_train, df_test], axis=0)\n",
        "\n",
        "if False:\n",
        "    train_test['Close_f3'] = train_test['Close'].shift(-3)\n",
        "    train_test['Target_'] = train_test['Close_f3'] > train_test['Close']\n",
        "    train_test['Target_'] = train_test['Target_'].astype(int)"
      ],
      "metadata": {
        "id": "J_rtSGFqpcdE"
      },
      "execution_count": 58,
      "outputs": []
    },
    {
      "cell_type": "code",
      "source": [
        "def convert_time(df):\n",
        "    df = df.ffill(axis = 0)\n",
        "    df['day'] = df['Date'].dt.day\n",
        "    df['month'] = df['Date'].dt.month\n",
        "    df['month'] = df['Date'].dt.weekday\n",
        "    df['quarter'] = df['Date'].dt.quarter\n",
        "    df['week'] = df['Date'].dt.week\n",
        "\n",
        "    return df"
      ],
      "metadata": {
        "id": "i-gAnYGX4Qbo"
      },
      "execution_count": 59,
      "outputs": []
    },
    {
      "cell_type": "code",
      "source": [
        "def convert_to_int(df):\n",
        "    shift_cols = ['Open','High','Low','Close','Adj Close','Volume']\n",
        "    for col in shift_cols:\n",
        "        # Represent all columns in terms of the close of 7 days ago\n",
        "        # We don't care much about the prediction (we only care if we higher or lower)\n",
        "        if col != 'Volume':\n",
        "            df[col] = df[col]*1000\n",
        "            #df[col] = df[col] - df['Close'].shift(7) \n",
        "        df[col] = df[col].astype(int)\n",
        "    \n",
        "    return df"
      ],
      "metadata": {
        "id": "DnsP4QHT5TS_"
      },
      "execution_count": 60,
      "outputs": []
    },
    {
      "cell_type": "code",
      "source": [
        "train_test = convert_time(train_test)\n",
        "train_test = convert_to_int(train_test)"
      ],
      "metadata": {
        "colab": {
          "base_uri": "https://localhost:8080/"
        },
        "id": "mtHDOZKM4g6z",
        "outputId": "211adad8-daf1-44b0-e841-13dbbdca03ef"
      },
      "execution_count": 61,
      "outputs": [
        {
          "output_type": "stream",
          "name": "stderr",
          "text": [
            "/usr/local/lib/python3.7/dist-packages/ipykernel_launcher.py:7: FutureWarning: Series.dt.weekofyear and Series.dt.week have been deprecated.  Please use Series.dt.isocalendar().week instead.\n",
            "  import sys\n"
          ]
        }
      ]
    },
    {
      "cell_type": "code",
      "source": [
        "cols = train_test.columns\n",
        "cols = cols.drop(\"Target\")\n",
        "cols = cols.drop(\"TRAIN_TEST\")\n",
        "cols = cols.drop(\"Date\")\n",
        "try:\n",
        "    del train_test['Close_f3']\n",
        "    del train_test['Target_']\n",
        "except:\n",
        "    pass\n",
        "\n",
        "X_train = train_test.loc[train_test.Date <='2019-05-30',cols]\n",
        "y_train = train_test.loc[train_test.Date <='2019-05-30','Target']\n",
        "\n",
        "X_test = train_test.loc[train_test.Date >'2019-05-30',cols]\n",
        "y_test = train_test.loc[train_test.Date >'2019-05-30','Target']\n",
        "\n",
        "y_test = y_test.astype(int).astype('category')\n",
        "y_train = y_train.astype(int).astype('category')"
      ],
      "metadata": {
        "id": "YGiZIOzc4onz"
      },
      "execution_count": 62,
      "outputs": []
    },
    {
      "cell_type": "code",
      "source": [
        "scaler = MinMaxScaler(feature_range=(0, 1))\n",
        "\n",
        "X_train = scaler.fit_transform(X_train)\n",
        "X_test = scaler.transform(X_test)"
      ],
      "metadata": {
        "id": "C1INtE2c4wn7"
      },
      "execution_count": 63,
      "outputs": []
    },
    {
      "cell_type": "code",
      "source": [
        "X_train.shape, X_test.shape"
      ],
      "metadata": {
        "colab": {
          "base_uri": "https://localhost:8080/"
        },
        "id": "f1sStiuIu96Q",
        "outputId": "819f4f7a-9dda-43d5-b625-e149c15ccd45"
      },
      "execution_count": 64,
      "outputs": [
        {
          "output_type": "execute_result",
          "data": {
            "text/plain": [
              "((6554, 10), (726, 10))"
            ]
          },
          "metadata": {},
          "execution_count": 64
        }
      ]
    },
    {
      "cell_type": "code",
      "source": [
        "X_train.shape[0]/29"
      ],
      "metadata": {
        "colab": {
          "base_uri": "https://localhost:8080/"
        },
        "id": "PGgUToD-7NN-",
        "outputId": "a12c273b-ba67-45f3-dd83-681419f1a3c8"
      },
      "execution_count": 65,
      "outputs": [
        {
          "output_type": "execute_result",
          "data": {
            "text/plain": [
              "226.0"
            ]
          },
          "metadata": {},
          "execution_count": 65
        }
      ]
    },
    {
      "cell_type": "code",
      "source": [
        "#[samples, timesteps, features].\n",
        "timesteps = 29\n",
        "samples = int(X_train.shape[0]/timesteps)\n",
        "features = len(cols)\n",
        "\n",
        "X_train_reshape = np.array(X_train).reshape(samples, timesteps, features)\n",
        "y_train_reshape = np.array(y_train).reshape(samples, timesteps, 1)\n",
        "X_train_reshape.shape"
      ],
      "metadata": {
        "colab": {
          "base_uri": "https://localhost:8080/"
        },
        "id": "sJrIi8vF5GY0",
        "outputId": "623f7d7a-87d1-440c-ebf1-52d33c861d53"
      },
      "execution_count": 66,
      "outputs": [
        {
          "output_type": "execute_result",
          "data": {
            "text/plain": [
              "(226, 29, 10)"
            ]
          },
          "metadata": {},
          "execution_count": 66
        }
      ]
    },
    {
      "cell_type": "markdown",
      "source": [
        ""
      ],
      "metadata": {
        "id": "eQFln4FXfHX5"
      }
    },
    {
      "cell_type": "code",
      "source": [
        "model = Sequential()\n",
        "model.add(LSTM(200, input_shape=( timesteps, features ),\n",
        "               activation='tanh', recurrent_activation='hard_sigmoid',return_sequences=True))\n",
        "model.add(BatchNormalization())\n",
        "model.add(LSTM(300, activation='tanh', recurrent_activation='hard_sigmoid',return_sequences=True))\n",
        "model.add(BatchNormalization())\n",
        "model.add(LSTM(300, activation='tanh', recurrent_activation='hard_sigmoid',return_sequences=True))\n",
        "model.add(BatchNormalization())\n",
        "model.add(Dense(1,activation='sigmoid'))\n",
        "\n",
        "model.compile(loss='binary_crossentropy',\n",
        "              optimizer='adam', metrics=['accuracy'])\n",
        "\n",
        "model.summary()"
      ],
      "metadata": {
        "colab": {
          "base_uri": "https://localhost:8080/"
        },
        "id": "Abf-lyMSExeG",
        "outputId": "035d4052-8430-49ee-e933-4819c5bc6c62"
      },
      "execution_count": 67,
      "outputs": [
        {
          "output_type": "stream",
          "name": "stdout",
          "text": [
            "WARNING:tensorflow:Layer lstm will not use cuDNN kernels since it doesn't meet the criteria. It will use a generic GPU kernel as fallback when running on GPU.\n",
            "WARNING:tensorflow:Layer lstm_1 will not use cuDNN kernels since it doesn't meet the criteria. It will use a generic GPU kernel as fallback when running on GPU.\n",
            "WARNING:tensorflow:Layer lstm_2 will not use cuDNN kernels since it doesn't meet the criteria. It will use a generic GPU kernel as fallback when running on GPU.\n",
            "Model: \"sequential\"\n",
            "_________________________________________________________________\n",
            " Layer (type)                Output Shape              Param #   \n",
            "=================================================================\n",
            " lstm (LSTM)                 (None, 29, 200)           168800    \n",
            "                                                                 \n",
            " batch_normalization (BatchN  (None, 29, 200)          800       \n",
            " ormalization)                                                   \n",
            "                                                                 \n",
            " lstm_1 (LSTM)               (None, 29, 300)           601200    \n",
            "                                                                 \n",
            " batch_normalization_1 (Batc  (None, 29, 300)          1200      \n",
            " hNormalization)                                                 \n",
            "                                                                 \n",
            " lstm_2 (LSTM)               (None, 29, 300)           721200    \n",
            "                                                                 \n",
            " batch_normalization_2 (Batc  (None, 29, 300)          1200      \n",
            " hNormalization)                                                 \n",
            "                                                                 \n",
            " dense (Dense)               (None, 29, 1)             301       \n",
            "                                                                 \n",
            "=================================================================\n",
            "Total params: 1,494,701\n",
            "Trainable params: 1,493,101\n",
            "Non-trainable params: 1,600\n",
            "_________________________________________________________________\n"
          ]
        }
      ]
    },
    {
      "cell_type": "code",
      "source": [
        "if False:\n",
        "    model = Sequential()\n",
        "    model.add(LSTM(700, dropout=0.3, input_shape=( timesteps, features ),return_sequences=True))\n",
        "\n",
        "    model.add(Dense(1,activation='sigmoid'))\n",
        "\n",
        "    model.compile(loss='binary_crossentropy',\n",
        "                  optimizer='adam', metrics=['accuracy'])\n",
        "\n",
        "    model.summary()"
      ],
      "metadata": {
        "id": "qU5SPk9T5JWq"
      },
      "execution_count": 68,
      "outputs": []
    },
    {
      "cell_type": "code",
      "source": [
        "checkpoint_filepath = 'model.h5'\n",
        "\n",
        "model_checkpoint_callback = keras.callbacks.ModelCheckpoint(\n",
        "    filepath=checkpoint_filepath,\n",
        "    monitor='val_accuracy',\n",
        "    mode='max',\n",
        "    save_best_only=True)"
      ],
      "metadata": {
        "id": "gGtqrCpL5PCG"
      },
      "execution_count": 69,
      "outputs": []
    },
    {
      "cell_type": "code",
      "source": [
        "history = model.fit(X_train_reshape, y_train_reshape, epochs=210, batch_size=2**6, verbose=1, callbacks=[model_checkpoint_callback],\n",
        "          validation_data=(X_train_reshape, y_train_reshape))"
      ],
      "metadata": {
        "colab": {
          "base_uri": "https://localhost:8080/"
        },
        "id": "c1WzpsZsfEjT",
        "outputId": "558c4713-071b-41db-8ba2-52a1b8f16cc3"
      },
      "execution_count": 70,
      "outputs": [
        {
          "output_type": "stream",
          "name": "stdout",
          "text": [
            "Epoch 1/210\n",
            "4/4 [==============================] - 8s 542ms/step - loss: 1.7965 - accuracy: 0.4971 - val_loss: 0.6928 - val_accuracy: 0.5169\n",
            "Epoch 2/210\n",
            "4/4 [==============================] - 1s 298ms/step - loss: 0.8335 - accuracy: 0.5095 - val_loss: 0.6944 - val_accuracy: 0.5169\n",
            "Epoch 3/210\n",
            "4/4 [==============================] - 1s 313ms/step - loss: 0.7629 - accuracy: 0.5156 - val_loss: 0.6933 - val_accuracy: 0.5169\n",
            "Epoch 4/210\n",
            "4/4 [==============================] - 1s 300ms/step - loss: 0.7275 - accuracy: 0.5235 - val_loss: 0.6940 - val_accuracy: 0.5169\n",
            "Epoch 5/210\n",
            "4/4 [==============================] - 1s 306ms/step - loss: 0.7093 - accuracy: 0.5320 - val_loss: 0.6947 - val_accuracy: 0.5169\n",
            "Epoch 6/210\n",
            "4/4 [==============================] - 1s 302ms/step - loss: 0.6958 - accuracy: 0.5369 - val_loss: 0.6934 - val_accuracy: 0.5107\n",
            "Epoch 7/210\n",
            "4/4 [==============================] - 1s 323ms/step - loss: 0.6966 - accuracy: 0.5404 - val_loss: 0.6949 - val_accuracy: 0.5169\n",
            "Epoch 8/210\n",
            "4/4 [==============================] - 1s 309ms/step - loss: 0.6908 - accuracy: 0.5499 - val_loss: 0.6936 - val_accuracy: 0.5169\n",
            "Epoch 9/210\n",
            "4/4 [==============================] - 1s 293ms/step - loss: 0.6806 - accuracy: 0.5681 - val_loss: 0.6942 - val_accuracy: 0.5098\n",
            "Epoch 10/210\n",
            "4/4 [==============================] - 1s 305ms/step - loss: 0.6813 - accuracy: 0.5670 - val_loss: 0.6945 - val_accuracy: 0.5169\n",
            "Epoch 11/210\n",
            "4/4 [==============================] - 1s 297ms/step - loss: 0.6736 - accuracy: 0.5800 - val_loss: 0.6940 - val_accuracy: 0.5099\n",
            "Epoch 12/210\n",
            "4/4 [==============================] - 1s 303ms/step - loss: 0.6714 - accuracy: 0.5806 - val_loss: 0.6952 - val_accuracy: 0.5169\n",
            "Epoch 13/210\n",
            "4/4 [==============================] - 1s 314ms/step - loss: 0.6643 - accuracy: 0.5935 - val_loss: 0.6964 - val_accuracy: 0.5169\n",
            "Epoch 14/210\n",
            "4/4 [==============================] - 1s 305ms/step - loss: 0.6671 - accuracy: 0.5844 - val_loss: 0.6952 - val_accuracy: 0.5169\n",
            "Epoch 15/210\n",
            "4/4 [==============================] - 1s 330ms/step - loss: 0.6596 - accuracy: 0.6012 - val_loss: 0.6955 - val_accuracy: 0.5171\n",
            "Epoch 16/210\n",
            "4/4 [==============================] - 1s 333ms/step - loss: 0.6609 - accuracy: 0.5999 - val_loss: 0.6961 - val_accuracy: 0.5168\n",
            "Epoch 17/210\n",
            "4/4 [==============================] - 1s 297ms/step - loss: 0.6554 - accuracy: 0.5986 - val_loss: 0.6954 - val_accuracy: 0.5171\n",
            "Epoch 18/210\n",
            "4/4 [==============================] - 1s 302ms/step - loss: 0.6576 - accuracy: 0.6018 - val_loss: 0.6951 - val_accuracy: 0.4986\n",
            "Epoch 19/210\n",
            "4/4 [==============================] - 1s 299ms/step - loss: 0.6638 - accuracy: 0.5793 - val_loss: 0.6959 - val_accuracy: 0.5143\n",
            "Epoch 20/210\n",
            "4/4 [==============================] - 1s 318ms/step - loss: 0.6647 - accuracy: 0.5958 - val_loss: 0.6965 - val_accuracy: 0.5133\n",
            "Epoch 21/210\n",
            "4/4 [==============================] - 1s 294ms/step - loss: 0.6585 - accuracy: 0.6031 - val_loss: 0.6958 - val_accuracy: 0.4992\n",
            "Epoch 22/210\n",
            "4/4 [==============================] - 1s 303ms/step - loss: 0.6564 - accuracy: 0.6050 - val_loss: 0.6964 - val_accuracy: 0.5035\n",
            "Epoch 23/210\n",
            "4/4 [==============================] - 1s 301ms/step - loss: 0.6475 - accuracy: 0.6089 - val_loss: 0.6977 - val_accuracy: 0.5017\n",
            "Epoch 24/210\n",
            "4/4 [==============================] - 1s 300ms/step - loss: 0.6482 - accuracy: 0.6096 - val_loss: 0.6952 - val_accuracy: 0.5105\n",
            "Epoch 25/210\n",
            "4/4 [==============================] - 1s 290ms/step - loss: 0.6460 - accuracy: 0.6126 - val_loss: 0.6977 - val_accuracy: 0.5049\n",
            "Epoch 26/210\n",
            "4/4 [==============================] - 1s 295ms/step - loss: 0.6462 - accuracy: 0.6082 - val_loss: 0.6961 - val_accuracy: 0.5102\n",
            "Epoch 27/210\n",
            "4/4 [==============================] - 1s 305ms/step - loss: 0.6392 - accuracy: 0.6173 - val_loss: 0.6954 - val_accuracy: 0.5014\n",
            "Epoch 28/210\n",
            "4/4 [==============================] - 1s 296ms/step - loss: 0.6492 - accuracy: 0.6155 - val_loss: 0.6984 - val_accuracy: 0.5049\n",
            "Epoch 29/210\n",
            "4/4 [==============================] - 1s 311ms/step - loss: 0.6424 - accuracy: 0.6170 - val_loss: 0.6958 - val_accuracy: 0.5084\n",
            "Epoch 30/210\n",
            "4/4 [==============================] - 1s 303ms/step - loss: 0.6354 - accuracy: 0.6263 - val_loss: 0.6942 - val_accuracy: 0.5040\n",
            "Epoch 31/210\n",
            "4/4 [==============================] - 1s 301ms/step - loss: 0.6254 - accuracy: 0.6382 - val_loss: 0.6954 - val_accuracy: 0.5008\n",
            "Epoch 32/210\n",
            "4/4 [==============================] - 1s 296ms/step - loss: 0.6301 - accuracy: 0.6298 - val_loss: 0.6938 - val_accuracy: 0.4985\n",
            "Epoch 33/210\n",
            "4/4 [==============================] - 1s 313ms/step - loss: 0.6263 - accuracy: 0.6337 - val_loss: 0.6960 - val_accuracy: 0.4998\n",
            "Epoch 34/210\n",
            "4/4 [==============================] - 1s 301ms/step - loss: 0.6212 - accuracy: 0.6375 - val_loss: 0.6953 - val_accuracy: 0.5002\n",
            "Epoch 35/210\n",
            "4/4 [==============================] - 1s 303ms/step - loss: 0.6199 - accuracy: 0.6507 - val_loss: 0.6967 - val_accuracy: 0.5049\n",
            "Epoch 36/210\n",
            "4/4 [==============================] - 1s 306ms/step - loss: 0.6224 - accuracy: 0.6390 - val_loss: 0.6949 - val_accuracy: 0.5017\n",
            "Epoch 37/210\n",
            "4/4 [==============================] - 1s 289ms/step - loss: 0.6362 - accuracy: 0.6298 - val_loss: 0.6947 - val_accuracy: 0.5058\n",
            "Epoch 38/210\n",
            "4/4 [==============================] - 1s 304ms/step - loss: 0.6147 - accuracy: 0.6488 - val_loss: 0.6966 - val_accuracy: 0.5046\n",
            "Epoch 39/210\n",
            "4/4 [==============================] - 1s 321ms/step - loss: 0.6136 - accuracy: 0.6483 - val_loss: 0.6949 - val_accuracy: 0.5017\n",
            "Epoch 40/210\n",
            "4/4 [==============================] - 1s 317ms/step - loss: 0.6131 - accuracy: 0.6483 - val_loss: 0.7000 - val_accuracy: 0.5012\n",
            "Epoch 41/210\n",
            "4/4 [==============================] - 1s 297ms/step - loss: 0.6065 - accuracy: 0.6596 - val_loss: 0.6951 - val_accuracy: 0.5092\n",
            "Epoch 42/210\n",
            "4/4 [==============================] - 1s 322ms/step - loss: 0.6059 - accuracy: 0.6569 - val_loss: 0.6996 - val_accuracy: 0.5035\n",
            "Epoch 43/210\n",
            "4/4 [==============================] - 1s 316ms/step - loss: 0.5958 - accuracy: 0.6733 - val_loss: 0.6973 - val_accuracy: 0.5099\n",
            "Epoch 44/210\n",
            "4/4 [==============================] - 1s 295ms/step - loss: 0.5968 - accuracy: 0.6755 - val_loss: 0.6992 - val_accuracy: 0.5023\n",
            "Epoch 45/210\n",
            "4/4 [==============================] - 1s 299ms/step - loss: 0.5909 - accuracy: 0.6674 - val_loss: 0.7004 - val_accuracy: 0.5058\n",
            "Epoch 46/210\n",
            "4/4 [==============================] - 1s 299ms/step - loss: 0.5884 - accuracy: 0.6768 - val_loss: 0.7022 - val_accuracy: 0.5053\n",
            "Epoch 47/210\n",
            "4/4 [==============================] - 1s 305ms/step - loss: 0.5832 - accuracy: 0.6846 - val_loss: 0.7015 - val_accuracy: 0.5055\n",
            "Epoch 48/210\n",
            "4/4 [==============================] - 1s 295ms/step - loss: 0.5810 - accuracy: 0.6800 - val_loss: 0.6995 - val_accuracy: 0.5137\n",
            "Epoch 49/210\n",
            "4/4 [==============================] - 1s 312ms/step - loss: 0.5750 - accuracy: 0.6837 - val_loss: 0.6989 - val_accuracy: 0.5127\n",
            "Epoch 50/210\n",
            "4/4 [==============================] - 1s 307ms/step - loss: 0.5765 - accuracy: 0.6829 - val_loss: 0.6966 - val_accuracy: 0.5093\n",
            "Epoch 51/210\n",
            "4/4 [==============================] - 1s 315ms/step - loss: 0.5803 - accuracy: 0.6836 - val_loss: 0.7004 - val_accuracy: 0.5166\n",
            "Epoch 52/210\n",
            "4/4 [==============================] - 1s 320ms/step - loss: 0.5831 - accuracy: 0.6817 - val_loss: 0.6984 - val_accuracy: 0.5211\n",
            "Epoch 53/210\n",
            "4/4 [==============================] - 1s 302ms/step - loss: 0.5912 - accuracy: 0.6753 - val_loss: 0.6992 - val_accuracy: 0.5154\n",
            "Epoch 54/210\n",
            "4/4 [==============================] - 1s 304ms/step - loss: 0.5758 - accuracy: 0.6919 - val_loss: 0.6970 - val_accuracy: 0.5172\n",
            "Epoch 55/210\n",
            "4/4 [==============================] - 1s 308ms/step - loss: 0.5898 - accuracy: 0.6764 - val_loss: 0.6949 - val_accuracy: 0.5107\n",
            "Epoch 56/210\n",
            "4/4 [==============================] - 1s 320ms/step - loss: 0.5883 - accuracy: 0.6745 - val_loss: 0.6972 - val_accuracy: 0.5243\n",
            "Epoch 57/210\n",
            "4/4 [==============================] - 1s 334ms/step - loss: 0.5737 - accuracy: 0.6843 - val_loss: 0.6944 - val_accuracy: 0.5256\n",
            "Epoch 58/210\n",
            "4/4 [==============================] - 1s 303ms/step - loss: 0.5722 - accuracy: 0.6938 - val_loss: 0.6995 - val_accuracy: 0.5226\n",
            "Epoch 59/210\n",
            "4/4 [==============================] - 1s 295ms/step - loss: 0.5922 - accuracy: 0.6742 - val_loss: 0.6958 - val_accuracy: 0.5215\n",
            "Epoch 60/210\n",
            "4/4 [==============================] - 1s 299ms/step - loss: 0.5527 - accuracy: 0.7141 - val_loss: 0.6963 - val_accuracy: 0.5241\n",
            "Epoch 61/210\n",
            "4/4 [==============================] - 1s 302ms/step - loss: 0.5619 - accuracy: 0.6993 - val_loss: 0.6960 - val_accuracy: 0.5163\n",
            "Epoch 62/210\n",
            "4/4 [==============================] - 1s 316ms/step - loss: 0.5594 - accuracy: 0.7038 - val_loss: 0.7010 - val_accuracy: 0.5154\n",
            "Epoch 63/210\n",
            "4/4 [==============================] - 1s 305ms/step - loss: 0.5490 - accuracy: 0.7142 - val_loss: 0.6970 - val_accuracy: 0.5195\n",
            "Epoch 64/210\n",
            "4/4 [==============================] - 1s 310ms/step - loss: 0.5433 - accuracy: 0.7130 - val_loss: 0.7041 - val_accuracy: 0.5198\n",
            "Epoch 65/210\n",
            "4/4 [==============================] - 1s 346ms/step - loss: 0.5487 - accuracy: 0.7136 - val_loss: 0.7002 - val_accuracy: 0.5198\n",
            "Epoch 66/210\n",
            "4/4 [==============================] - 1s 309ms/step - loss: 0.5363 - accuracy: 0.7209 - val_loss: 0.7015 - val_accuracy: 0.5165\n",
            "Epoch 67/210\n",
            "4/4 [==============================] - 1s 321ms/step - loss: 0.5392 - accuracy: 0.7173 - val_loss: 0.6966 - val_accuracy: 0.5308\n",
            "Epoch 68/210\n",
            "4/4 [==============================] - 1s 309ms/step - loss: 0.5339 - accuracy: 0.7229 - val_loss: 0.6955 - val_accuracy: 0.5236\n",
            "Epoch 69/210\n",
            "4/4 [==============================] - 1s 331ms/step - loss: 0.5155 - accuracy: 0.7376 - val_loss: 0.6932 - val_accuracy: 0.5432\n",
            "Epoch 70/210\n",
            "4/4 [==============================] - 1s 307ms/step - loss: 0.5339 - accuracy: 0.7251 - val_loss: 0.7056 - val_accuracy: 0.5275\n",
            "Epoch 71/210\n",
            "4/4 [==============================] - 1s 298ms/step - loss: 0.5352 - accuracy: 0.7124 - val_loss: 0.6917 - val_accuracy: 0.5392\n",
            "Epoch 72/210\n",
            "4/4 [==============================] - 1s 323ms/step - loss: 0.5167 - accuracy: 0.7397 - val_loss: 0.6986 - val_accuracy: 0.5455\n",
            "Epoch 73/210\n",
            "4/4 [==============================] - 1s 382ms/step - loss: 0.5069 - accuracy: 0.7472 - val_loss: 0.6972 - val_accuracy: 0.5374\n",
            "Epoch 74/210\n",
            "4/4 [==============================] - 1s 297ms/step - loss: 0.5235 - accuracy: 0.7287 - val_loss: 0.6976 - val_accuracy: 0.5430\n",
            "Epoch 75/210\n",
            "4/4 [==============================] - 1s 338ms/step - loss: 0.5289 - accuracy: 0.7217 - val_loss: 0.6946 - val_accuracy: 0.5513\n",
            "Epoch 76/210\n",
            "4/4 [==============================] - 1s 303ms/step - loss: 0.5110 - accuracy: 0.7377 - val_loss: 0.7001 - val_accuracy: 0.5330\n",
            "Epoch 77/210\n",
            "4/4 [==============================] - 1s 309ms/step - loss: 0.4995 - accuracy: 0.7424 - val_loss: 0.6989 - val_accuracy: 0.5386\n",
            "Epoch 78/210\n",
            "4/4 [==============================] - 1s 292ms/step - loss: 0.5160 - accuracy: 0.7365 - val_loss: 0.7161 - val_accuracy: 0.5304\n",
            "Epoch 79/210\n",
            "4/4 [==============================] - 1s 300ms/step - loss: 0.4935 - accuracy: 0.7514 - val_loss: 0.7040 - val_accuracy: 0.5423\n",
            "Epoch 80/210\n",
            "4/4 [==============================] - 1s 304ms/step - loss: 0.4825 - accuracy: 0.7606 - val_loss: 0.7015 - val_accuracy: 0.5438\n",
            "Epoch 81/210\n",
            "4/4 [==============================] - 1s 327ms/step - loss: 0.4800 - accuracy: 0.7627 - val_loss: 0.6989 - val_accuracy: 0.5632\n",
            "Epoch 82/210\n",
            "4/4 [==============================] - 1s 304ms/step - loss: 0.4738 - accuracy: 0.7637 - val_loss: 0.7063 - val_accuracy: 0.5589\n",
            "Epoch 83/210\n",
            "4/4 [==============================] - 1s 301ms/step - loss: 0.4565 - accuracy: 0.7794 - val_loss: 0.6969 - val_accuracy: 0.5612\n",
            "Epoch 84/210\n",
            "4/4 [==============================] - 1s 295ms/step - loss: 0.5027 - accuracy: 0.7440 - val_loss: 0.7039 - val_accuracy: 0.5575\n",
            "Epoch 85/210\n",
            "4/4 [==============================] - 1s 293ms/step - loss: 0.4603 - accuracy: 0.7751 - val_loss: 0.7177 - val_accuracy: 0.5330\n",
            "Epoch 86/210\n",
            "4/4 [==============================] - 1s 307ms/step - loss: 0.4576 - accuracy: 0.7771 - val_loss: 0.7144 - val_accuracy: 0.5455\n",
            "Epoch 87/210\n",
            "4/4 [==============================] - 1s 303ms/step - loss: 0.4925 - accuracy: 0.7455 - val_loss: 0.7070 - val_accuracy: 0.5581\n",
            "Epoch 88/210\n",
            "4/4 [==============================] - 1s 315ms/step - loss: 0.4604 - accuracy: 0.7728 - val_loss: 0.7190 - val_accuracy: 0.5453\n",
            "Epoch 89/210\n",
            "4/4 [==============================] - 1s 297ms/step - loss: 0.4596 - accuracy: 0.7659 - val_loss: 0.7176 - val_accuracy: 0.5407\n",
            "Epoch 90/210\n",
            "4/4 [==============================] - 1s 308ms/step - loss: 0.4794 - accuracy: 0.7632 - val_loss: 0.7082 - val_accuracy: 0.5572\n",
            "Epoch 91/210\n",
            "4/4 [==============================] - 1s 329ms/step - loss: 0.4771 - accuracy: 0.7576 - val_loss: 0.7069 - val_accuracy: 0.5671\n",
            "Epoch 92/210\n",
            "4/4 [==============================] - 1s 319ms/step - loss: 0.4513 - accuracy: 0.7801 - val_loss: 0.7170 - val_accuracy: 0.5449\n",
            "Epoch 93/210\n",
            "4/4 [==============================] - 1s 308ms/step - loss: 0.4620 - accuracy: 0.7743 - val_loss: 0.7108 - val_accuracy: 0.5566\n",
            "Epoch 94/210\n",
            "4/4 [==============================] - 1s 318ms/step - loss: 0.4425 - accuracy: 0.7873 - val_loss: 0.7049 - val_accuracy: 0.5703\n",
            "Epoch 95/210\n",
            "4/4 [==============================] - 1s 351ms/step - loss: 0.4310 - accuracy: 0.7902 - val_loss: 0.6939 - val_accuracy: 0.5786\n",
            "Epoch 96/210\n",
            "4/4 [==============================] - 1s 313ms/step - loss: 0.4300 - accuracy: 0.7917 - val_loss: 0.7089 - val_accuracy: 0.5697\n",
            "Epoch 97/210\n",
            "4/4 [==============================] - 1s 294ms/step - loss: 0.4322 - accuracy: 0.7896 - val_loss: 0.7000 - val_accuracy: 0.5735\n",
            "Epoch 98/210\n",
            "4/4 [==============================] - 1s 330ms/step - loss: 0.4466 - accuracy: 0.7817 - val_loss: 0.6909 - val_accuracy: 0.5983\n",
            "Epoch 99/210\n",
            "4/4 [==============================] - 1s 336ms/step - loss: 0.4320 - accuracy: 0.7893 - val_loss: 0.6786 - val_accuracy: 0.6074\n",
            "Epoch 100/210\n",
            "4/4 [==============================] - 1s 320ms/step - loss: 0.4655 - accuracy: 0.7675 - val_loss: 0.7139 - val_accuracy: 0.5754\n",
            "Epoch 101/210\n",
            "4/4 [==============================] - 1s 314ms/step - loss: 0.4504 - accuracy: 0.7777 - val_loss: 0.7165 - val_accuracy: 0.5780\n",
            "Epoch 102/210\n",
            "4/4 [==============================] - 1s 292ms/step - loss: 0.4423 - accuracy: 0.7786 - val_loss: 0.6968 - val_accuracy: 0.5900\n",
            "Epoch 103/210\n",
            "4/4 [==============================] - 1s 307ms/step - loss: 0.4399 - accuracy: 0.7914 - val_loss: 0.7141 - val_accuracy: 0.5813\n",
            "Epoch 104/210\n",
            "4/4 [==============================] - 1s 302ms/step - loss: 0.4351 - accuracy: 0.7858 - val_loss: 0.7184 - val_accuracy: 0.5714\n",
            "Epoch 105/210\n",
            "4/4 [==============================] - 1s 299ms/step - loss: 0.4377 - accuracy: 0.7847 - val_loss: 0.7096 - val_accuracy: 0.5723\n",
            "Epoch 106/210\n",
            "4/4 [==============================] - 1s 335ms/step - loss: 0.4284 - accuracy: 0.7917 - val_loss: 0.7277 - val_accuracy: 0.5694\n",
            "Epoch 107/210\n",
            "4/4 [==============================] - 1s 309ms/step - loss: 0.4203 - accuracy: 0.7969 - val_loss: 0.6889 - val_accuracy: 0.5964\n",
            "Epoch 108/210\n",
            "4/4 [==============================] - 1s 306ms/step - loss: 0.4336 - accuracy: 0.7887 - val_loss: 0.7051 - val_accuracy: 0.5948\n",
            "Epoch 109/210\n",
            "4/4 [==============================] - 1s 300ms/step - loss: 0.4112 - accuracy: 0.7960 - val_loss: 0.6967 - val_accuracy: 0.5995\n",
            "Epoch 110/210\n",
            "4/4 [==============================] - 1s 291ms/step - loss: 0.4085 - accuracy: 0.8065 - val_loss: 0.7097 - val_accuracy: 0.5931\n",
            "Epoch 111/210\n",
            "4/4 [==============================] - 1s 299ms/step - loss: 0.4465 - accuracy: 0.7809 - val_loss: 0.6952 - val_accuracy: 0.5975\n",
            "Epoch 112/210\n",
            "4/4 [==============================] - 1s 334ms/step - loss: 0.4007 - accuracy: 0.8148 - val_loss: 0.6688 - val_accuracy: 0.6282\n",
            "Epoch 113/210\n",
            "4/4 [==============================] - 1s 325ms/step - loss: 0.4010 - accuracy: 0.8123 - val_loss: 0.6616 - val_accuracy: 0.6361\n",
            "Epoch 114/210\n",
            "4/4 [==============================] - 1s 300ms/step - loss: 0.3918 - accuracy: 0.8168 - val_loss: 0.6796 - val_accuracy: 0.6250\n",
            "Epoch 115/210\n",
            "4/4 [==============================] - 1s 350ms/step - loss: 0.3767 - accuracy: 0.8242 - val_loss: 0.6605 - val_accuracy: 0.6367\n",
            "Epoch 116/210\n",
            "4/4 [==============================] - 1s 298ms/step - loss: 0.3622 - accuracy: 0.8335 - val_loss: 0.6675 - val_accuracy: 0.6273\n",
            "Epoch 117/210\n",
            "4/4 [==============================] - 1s 325ms/step - loss: 0.3624 - accuracy: 0.8364 - val_loss: 0.6337 - val_accuracy: 0.6610\n",
            "Epoch 118/210\n",
            "4/4 [==============================] - 1s 292ms/step - loss: 0.3635 - accuracy: 0.8337 - val_loss: 0.6563 - val_accuracy: 0.6436\n",
            "Epoch 119/210\n",
            "4/4 [==============================] - 1s 330ms/step - loss: 0.3441 - accuracy: 0.8427 - val_loss: 0.6156 - val_accuracy: 0.6736\n",
            "Epoch 120/210\n",
            "4/4 [==============================] - 1s 293ms/step - loss: 0.3878 - accuracy: 0.8183 - val_loss: 0.6424 - val_accuracy: 0.6547\n",
            "Epoch 121/210\n",
            "4/4 [==============================] - 1s 308ms/step - loss: 0.3649 - accuracy: 0.8245 - val_loss: 0.6259 - val_accuracy: 0.6637\n",
            "Epoch 122/210\n",
            "4/4 [==============================] - 1s 301ms/step - loss: 0.3761 - accuracy: 0.8209 - val_loss: 0.6631 - val_accuracy: 0.6434\n",
            "Epoch 123/210\n",
            "4/4 [==============================] - 1s 295ms/step - loss: 0.3611 - accuracy: 0.8328 - val_loss: 0.6483 - val_accuracy: 0.6535\n",
            "Epoch 124/210\n",
            "4/4 [==============================] - 1s 309ms/step - loss: 0.3395 - accuracy: 0.8471 - val_loss: 0.6168 - val_accuracy: 0.6701\n",
            "Epoch 125/210\n",
            "4/4 [==============================] - 1s 301ms/step - loss: 0.3233 - accuracy: 0.8525 - val_loss: 0.6204 - val_accuracy: 0.6709\n",
            "Epoch 126/210\n",
            "4/4 [==============================] - 1s 314ms/step - loss: 0.3380 - accuracy: 0.8392 - val_loss: 0.6370 - val_accuracy: 0.6659\n",
            "Epoch 127/210\n",
            "4/4 [==============================] - 1s 312ms/step - loss: 0.3304 - accuracy: 0.8477 - val_loss: 0.6431 - val_accuracy: 0.6666\n",
            "Epoch 128/210\n",
            "4/4 [==============================] - 1s 323ms/step - loss: 0.3357 - accuracy: 0.8465 - val_loss: 0.6078 - val_accuracy: 0.6800\n",
            "Epoch 129/210\n",
            "4/4 [==============================] - 1s 299ms/step - loss: 0.3278 - accuracy: 0.8506 - val_loss: 0.6901 - val_accuracy: 0.6460\n",
            "Epoch 130/210\n",
            "4/4 [==============================] - 1s 298ms/step - loss: 0.3343 - accuracy: 0.8482 - val_loss: 0.6422 - val_accuracy: 0.6689\n",
            "Epoch 131/210\n",
            "4/4 [==============================] - 1s 294ms/step - loss: 0.3434 - accuracy: 0.8427 - val_loss: 0.6431 - val_accuracy: 0.6691\n",
            "Epoch 132/210\n",
            "4/4 [==============================] - 1s 328ms/step - loss: 0.3086 - accuracy: 0.8618 - val_loss: 0.6097 - val_accuracy: 0.6860\n",
            "Epoch 133/210\n",
            "4/4 [==============================] - 1s 344ms/step - loss: 0.3195 - accuracy: 0.8552 - val_loss: 0.5790 - val_accuracy: 0.7115\n",
            "Epoch 134/210\n",
            "4/4 [==============================] - 1s 316ms/step - loss: 0.3160 - accuracy: 0.8547 - val_loss: 0.5550 - val_accuracy: 0.7243\n",
            "Epoch 135/210\n",
            "4/4 [==============================] - 1s 300ms/step - loss: 0.3565 - accuracy: 0.8328 - val_loss: 0.5863 - val_accuracy: 0.7043\n",
            "Epoch 136/210\n",
            "4/4 [==============================] - 1s 304ms/step - loss: 0.3343 - accuracy: 0.8441 - val_loss: 0.6340 - val_accuracy: 0.6771\n",
            "Epoch 137/210\n",
            "4/4 [==============================] - 1s 313ms/step - loss: 0.3094 - accuracy: 0.8567 - val_loss: 0.5534 - val_accuracy: 0.7226\n",
            "Epoch 138/210\n",
            "4/4 [==============================] - 1s 329ms/step - loss: 0.3124 - accuracy: 0.8584 - val_loss: 0.5408 - val_accuracy: 0.7322\n",
            "Epoch 139/210\n",
            "4/4 [==============================] - 1s 304ms/step - loss: 0.3066 - accuracy: 0.8633 - val_loss: 0.5731 - val_accuracy: 0.7168\n",
            "Epoch 140/210\n",
            "4/4 [==============================] - 1s 339ms/step - loss: 0.3192 - accuracy: 0.8538 - val_loss: 0.5184 - val_accuracy: 0.7406\n",
            "Epoch 141/210\n",
            "4/4 [==============================] - 1s 336ms/step - loss: 0.2882 - accuracy: 0.8715 - val_loss: 0.5167 - val_accuracy: 0.7469\n",
            "Epoch 142/210\n",
            "4/4 [==============================] - 1s 297ms/step - loss: 0.2801 - accuracy: 0.8752 - val_loss: 0.5245 - val_accuracy: 0.7395\n",
            "Epoch 143/210\n",
            "4/4 [==============================] - 1s 304ms/step - loss: 0.3102 - accuracy: 0.8592 - val_loss: 0.5944 - val_accuracy: 0.7042\n",
            "Epoch 144/210\n",
            "4/4 [==============================] - 1s 303ms/step - loss: 0.2925 - accuracy: 0.8674 - val_loss: 0.5257 - val_accuracy: 0.7386\n",
            "Epoch 145/210\n",
            "4/4 [==============================] - 1s 346ms/step - loss: 0.2870 - accuracy: 0.8747 - val_loss: 0.4938 - val_accuracy: 0.7580\n",
            "Epoch 146/210\n",
            "4/4 [==============================] - 1s 333ms/step - loss: 0.2671 - accuracy: 0.8848 - val_loss: 0.4780 - val_accuracy: 0.7632\n",
            "Epoch 147/210\n",
            "4/4 [==============================] - 1s 319ms/step - loss: 0.2668 - accuracy: 0.8818 - val_loss: 0.5408 - val_accuracy: 0.7328\n",
            "Epoch 148/210\n",
            "4/4 [==============================] - 1s 322ms/step - loss: 0.2733 - accuracy: 0.8760 - val_loss: 0.4402 - val_accuracy: 0.7893\n",
            "Epoch 149/210\n",
            "4/4 [==============================] - 1s 327ms/step - loss: 0.2450 - accuracy: 0.8958 - val_loss: 0.4157 - val_accuracy: 0.8016\n",
            "Epoch 150/210\n",
            "4/4 [==============================] - 1s 293ms/step - loss: 0.2897 - accuracy: 0.8717 - val_loss: 0.4821 - val_accuracy: 0.7681\n",
            "Epoch 151/210\n",
            "4/4 [==============================] - 1s 334ms/step - loss: 0.2570 - accuracy: 0.8911 - val_loss: 0.3734 - val_accuracy: 0.8242\n",
            "Epoch 152/210\n",
            "4/4 [==============================] - 1s 332ms/step - loss: 0.2434 - accuracy: 0.8950 - val_loss: 0.3385 - val_accuracy: 0.8425\n",
            "Epoch 153/210\n",
            "4/4 [==============================] - 1s 311ms/step - loss: 0.2264 - accuracy: 0.9080 - val_loss: 0.4276 - val_accuracy: 0.7986\n",
            "Epoch 154/210\n",
            "4/4 [==============================] - 1s 312ms/step - loss: 0.2211 - accuracy: 0.9056 - val_loss: 0.3682 - val_accuracy: 0.8305\n",
            "Epoch 155/210\n",
            "4/4 [==============================] - 1s 336ms/step - loss: 0.2416 - accuracy: 0.8955 - val_loss: 0.3005 - val_accuracy: 0.8627\n",
            "Epoch 156/210\n",
            "4/4 [==============================] - 1s 317ms/step - loss: 0.2420 - accuracy: 0.8943 - val_loss: 0.3370 - val_accuracy: 0.8433\n",
            "Epoch 157/210\n",
            "4/4 [==============================] - 1s 311ms/step - loss: 0.2343 - accuracy: 0.8999 - val_loss: 0.3884 - val_accuracy: 0.8163\n",
            "Epoch 158/210\n",
            "4/4 [==============================] - 1s 315ms/step - loss: 0.2242 - accuracy: 0.9069 - val_loss: 0.3495 - val_accuracy: 0.8357\n",
            "Epoch 159/210\n",
            "4/4 [==============================] - 1s 331ms/step - loss: 0.2199 - accuracy: 0.9081 - val_loss: 0.3800 - val_accuracy: 0.8227\n",
            "Epoch 160/210\n",
            "4/4 [==============================] - 1s 295ms/step - loss: 0.2233 - accuracy: 0.9066 - val_loss: 0.3259 - val_accuracy: 0.8518\n",
            "Epoch 161/210\n",
            "4/4 [==============================] - 1s 297ms/step - loss: 0.2058 - accuracy: 0.9143 - val_loss: 0.3229 - val_accuracy: 0.8535\n",
            "Epoch 162/210\n",
            "4/4 [==============================] - 1s 328ms/step - loss: 0.2029 - accuracy: 0.9141 - val_loss: 0.2872 - val_accuracy: 0.8705\n",
            "Epoch 163/210\n",
            "4/4 [==============================] - 1s 306ms/step - loss: 0.2032 - accuracy: 0.9129 - val_loss: 0.3135 - val_accuracy: 0.8535\n",
            "Epoch 164/210\n",
            "4/4 [==============================] - 1s 291ms/step - loss: 0.1903 - accuracy: 0.9216 - val_loss: 0.3334 - val_accuracy: 0.8447\n",
            "Epoch 165/210\n",
            "4/4 [==============================] - 1s 344ms/step - loss: 0.1923 - accuracy: 0.9214 - val_loss: 0.2891 - val_accuracy: 0.8758\n",
            "Epoch 166/210\n",
            "4/4 [==============================] - 1s 304ms/step - loss: 0.2065 - accuracy: 0.9135 - val_loss: 0.2844 - val_accuracy: 0.8720\n",
            "Epoch 167/210\n",
            "4/4 [==============================] - 1s 303ms/step - loss: 0.2131 - accuracy: 0.9109 - val_loss: 0.4258 - val_accuracy: 0.8013\n",
            "Epoch 168/210\n",
            "4/4 [==============================] - 1s 317ms/step - loss: 0.1960 - accuracy: 0.9161 - val_loss: 0.2584 - val_accuracy: 0.8885\n",
            "Epoch 169/210\n",
            "4/4 [==============================] - 1s 367ms/step - loss: 0.2089 - accuracy: 0.9156 - val_loss: 0.3434 - val_accuracy: 0.8439\n",
            "Epoch 170/210\n",
            "4/4 [==============================] - 1s 304ms/step - loss: 0.1832 - accuracy: 0.9249 - val_loss: 0.2804 - val_accuracy: 0.8731\n",
            "Epoch 171/210\n",
            "4/4 [==============================] - 1s 300ms/step - loss: 0.2168 - accuracy: 0.9083 - val_loss: 0.3323 - val_accuracy: 0.8491\n",
            "Epoch 172/210\n",
            "4/4 [==============================] - 1s 313ms/step - loss: 0.1923 - accuracy: 0.9190 - val_loss: 0.3883 - val_accuracy: 0.8258\n",
            "Epoch 173/210\n",
            "4/4 [==============================] - 1s 299ms/step - loss: 0.1816 - accuracy: 0.9240 - val_loss: 0.2597 - val_accuracy: 0.8882\n",
            "Epoch 174/210\n",
            "4/4 [==============================] - 1s 332ms/step - loss: 0.2034 - accuracy: 0.9138 - val_loss: 0.2405 - val_accuracy: 0.8979\n",
            "Epoch 175/210\n",
            "4/4 [==============================] - 1s 308ms/step - loss: 0.1761 - accuracy: 0.9303 - val_loss: 0.2722 - val_accuracy: 0.8799\n",
            "Epoch 176/210\n",
            "4/4 [==============================] - 1s 332ms/step - loss: 0.1976 - accuracy: 0.9191 - val_loss: 0.2323 - val_accuracy: 0.9010\n",
            "Epoch 177/210\n",
            "4/4 [==============================] - 1s 315ms/step - loss: 0.1650 - accuracy: 0.9355 - val_loss: 0.3035 - val_accuracy: 0.8598\n",
            "Epoch 178/210\n",
            "4/4 [==============================] - 1s 311ms/step - loss: 0.1714 - accuracy: 0.9303 - val_loss: 0.2686 - val_accuracy: 0.8845\n",
            "Epoch 179/210\n",
            "4/4 [==============================] - 1s 286ms/step - loss: 0.1856 - accuracy: 0.9263 - val_loss: 0.2915 - val_accuracy: 0.8691\n",
            "Epoch 180/210\n",
            "4/4 [==============================] - 1s 290ms/step - loss: 0.1617 - accuracy: 0.9353 - val_loss: 0.2789 - val_accuracy: 0.8731\n",
            "Epoch 181/210\n",
            "4/4 [==============================] - 1s 306ms/step - loss: 0.1636 - accuracy: 0.9330 - val_loss: 0.2501 - val_accuracy: 0.8904\n",
            "Epoch 182/210\n",
            "4/4 [==============================] - 1s 335ms/step - loss: 0.1620 - accuracy: 0.9352 - val_loss: 0.2979 - val_accuracy: 0.8720\n",
            "Epoch 183/210\n",
            "4/4 [==============================] - 1s 335ms/step - loss: 0.1730 - accuracy: 0.9327 - val_loss: 0.2237 - val_accuracy: 0.9030\n",
            "Epoch 184/210\n",
            "4/4 [==============================] - 1s 294ms/step - loss: 0.1515 - accuracy: 0.9405 - val_loss: 0.2896 - val_accuracy: 0.8705\n",
            "Epoch 185/210\n",
            "4/4 [==============================] - 1s 292ms/step - loss: 0.1435 - accuracy: 0.9490 - val_loss: 0.2357 - val_accuracy: 0.8972\n",
            "Epoch 186/210\n",
            "4/4 [==============================] - 1s 318ms/step - loss: 0.1492 - accuracy: 0.9446 - val_loss: 0.1562 - val_accuracy: 0.9417\n",
            "Epoch 187/210\n",
            "4/4 [==============================] - 1s 310ms/step - loss: 0.1320 - accuracy: 0.9495 - val_loss: 0.2514 - val_accuracy: 0.8935\n",
            "Epoch 188/210\n",
            "4/4 [==============================] - 1s 290ms/step - loss: 0.1292 - accuracy: 0.9542 - val_loss: 0.2516 - val_accuracy: 0.8918\n",
            "Epoch 189/210\n",
            "4/4 [==============================] - 1s 301ms/step - loss: 0.1258 - accuracy: 0.9556 - val_loss: 0.1976 - val_accuracy: 0.9187\n",
            "Epoch 190/210\n",
            "4/4 [==============================] - 1s 296ms/step - loss: 0.1290 - accuracy: 0.9519 - val_loss: 0.1742 - val_accuracy: 0.9326\n",
            "Epoch 191/210\n",
            "4/4 [==============================] - 1s 309ms/step - loss: 0.1189 - accuracy: 0.9551 - val_loss: 0.1668 - val_accuracy: 0.9358\n",
            "Epoch 192/210\n",
            "4/4 [==============================] - 1s 332ms/step - loss: 0.1210 - accuracy: 0.9602 - val_loss: 0.1415 - val_accuracy: 0.9474\n",
            "Epoch 193/210\n",
            "4/4 [==============================] - 1s 315ms/step - loss: 0.1228 - accuracy: 0.9532 - val_loss: 0.2958 - val_accuracy: 0.8735\n",
            "Epoch 194/210\n",
            "4/4 [==============================] - 1s 312ms/step - loss: 0.1260 - accuracy: 0.9513 - val_loss: 0.1917 - val_accuracy: 0.9205\n",
            "Epoch 195/210\n",
            "4/4 [==============================] - 1s 358ms/step - loss: 0.1117 - accuracy: 0.9582 - val_loss: 0.1337 - val_accuracy: 0.9512\n",
            "Epoch 196/210\n",
            "4/4 [==============================] - 1s 303ms/step - loss: 0.1662 - accuracy: 0.9313 - val_loss: 0.1656 - val_accuracy: 0.9326\n",
            "Epoch 197/210\n",
            "4/4 [==============================] - 1s 320ms/step - loss: 0.1201 - accuracy: 0.9551 - val_loss: 0.1422 - val_accuracy: 0.9481\n",
            "Epoch 198/210\n",
            "4/4 [==============================] - 1s 305ms/step - loss: 0.1327 - accuracy: 0.9478 - val_loss: 0.2087 - val_accuracy: 0.9086\n",
            "Epoch 199/210\n",
            "4/4 [==============================] - 1s 297ms/step - loss: 0.1454 - accuracy: 0.9403 - val_loss: 0.1797 - val_accuracy: 0.9255\n",
            "Epoch 200/210\n",
            "4/4 [==============================] - 1s 293ms/step - loss: 0.1296 - accuracy: 0.9478 - val_loss: 0.1431 - val_accuracy: 0.9442\n",
            "Epoch 201/210\n",
            "4/4 [==============================] - 1s 301ms/step - loss: 0.1300 - accuracy: 0.9527 - val_loss: 0.1786 - val_accuracy: 0.9277\n",
            "Epoch 202/210\n",
            "4/4 [==============================] - 1s 296ms/step - loss: 0.1373 - accuracy: 0.9463 - val_loss: 0.1808 - val_accuracy: 0.9275\n",
            "Epoch 203/210\n",
            "4/4 [==============================] - 1s 289ms/step - loss: 0.1416 - accuracy: 0.9478 - val_loss: 0.1627 - val_accuracy: 0.9358\n",
            "Epoch 204/210\n",
            "4/4 [==============================] - 1s 331ms/step - loss: 0.1120 - accuracy: 0.9573 - val_loss: 0.1295 - val_accuracy: 0.9524\n",
            "Epoch 205/210\n",
            "4/4 [==============================] - 1s 330ms/step - loss: 0.1141 - accuracy: 0.9564 - val_loss: 0.1064 - val_accuracy: 0.9637\n",
            "Epoch 206/210\n",
            "4/4 [==============================] - 1s 295ms/step - loss: 0.1212 - accuracy: 0.9527 - val_loss: 0.2553 - val_accuracy: 0.8943\n",
            "Epoch 207/210\n",
            "4/4 [==============================] - 1s 315ms/step - loss: 0.1118 - accuracy: 0.9591 - val_loss: 0.1291 - val_accuracy: 0.9545\n",
            "Epoch 208/210\n",
            "4/4 [==============================] - 1s 294ms/step - loss: 0.1123 - accuracy: 0.9605 - val_loss: 0.1171 - val_accuracy: 0.9603\n",
            "Epoch 209/210\n",
            "4/4 [==============================] - 1s 304ms/step - loss: 0.1062 - accuracy: 0.9611 - val_loss: 0.1410 - val_accuracy: 0.9461\n",
            "Epoch 210/210\n",
            "4/4 [==============================] - 1s 302ms/step - loss: 0.0948 - accuracy: 0.9669 - val_loss: 0.1183 - val_accuracy: 0.9558\n"
          ]
        }
      ]
    },
    {
      "cell_type": "code",
      "source": [
        "fig, ax = plt.subplots(2,1,figsize=(10,10))\n",
        "ax[0].set_title('Cross Entropy Loss', fontsize = 20)\n",
        "ax[0].plot(history.history['loss'], color='blue', label='Train')\n",
        "ax[0].plot(history.history['val_loss'], color='orange', label='Validation')\n",
        "ax[0].set_ylabel('Cross Entropy Loss', fontsize = 16)\n",
        "ax[0].legend(fontsize = 16)\n",
        "\n",
        "ax[1].set_title('Classification Accuracy', fontsize = 20)\n",
        "ax[1].plot(history.history['accuracy'], color='blue', label='Train')\n",
        "ax[1].plot(history.history['val_accuracy'], color='orange', label='Validation')\n",
        "ax[1].set_ylabel('Classification Accuracy', fontsize = 16)\n",
        "ax[1].set_xlabel('Epochs', fontsize = 16)\n",
        "ax[1].legend(fontsize = 16)\n",
        "\n",
        "plt.show()"
      ],
      "metadata": {
        "colab": {
          "base_uri": "https://localhost:8080/",
          "height": 632
        },
        "id": "uMS0xKrJ8-ef",
        "outputId": "f0d08f2f-3e2d-4985-bd51-0e32af495e3b"
      },
      "execution_count": 71,
      "outputs": [
        {
          "output_type": "display_data",
          "data": {
            "text/plain": [
              "<Figure size 720x720 with 2 Axes>"
            ],
            "image/png": "[encoded data removed]"
          },
          "metadata": {
            "needs_background": "light"
          }
        }
      ]
    },
    {
      "cell_type": "markdown",
      "source": [
        "# Prediction"
      ],
      "metadata": {
        "id": "TAwBFH7-s7yt"
      }
    },
    {
      "cell_type": "code",
      "source": [
        "X_test_ = pd.concat([pd.DataFrame(X_test[:-1,])], axis=1)\n",
        "X_test_.shape"
      ],
      "metadata": {
        "colab": {
          "base_uri": "https://localhost:8080/"
        },
        "id": "l394KxQNwRGT",
        "outputId": "34722f11-e6cb-4357-9008-01eb8c3ef142"
      },
      "execution_count": 72,
      "outputs": [
        {
          "output_type": "execute_result",
          "data": {
            "text/plain": [
              "(725, 10)"
            ]
          },
          "metadata": {},
          "execution_count": 72
        }
      ]
    },
    {
      "cell_type": "code",
      "source": [
        "725/29"
      ],
      "metadata": {
        "colab": {
          "base_uri": "https://localhost:8080/"
        },
        "id": "_yJzrbuCwbld",
        "outputId": "5eed4e31-e3ed-43e4-9626-b7adfae03fcc"
      },
      "execution_count": 73,
      "outputs": [
        {
          "output_type": "execute_result",
          "data": {
            "text/plain": [
              "25.0"
            ]
          },
          "metadata": {},
          "execution_count": 73
        }
      ]
    },
    {
      "cell_type": "code",
      "source": [
        "timesteps = 29\n",
        "samples = int(X_test_.shape[0]/timesteps)\n",
        "features = len(cols)\n",
        "\n",
        "X_test_reshape = np.array(X_test_).reshape(samples, timesteps, features)\n",
        "#y_test_reshape = np.array(y_test_).reshape(samples, timesteps, 1)\n",
        "X_test_reshape.shape"
      ],
      "metadata": {
        "colab": {
          "base_uri": "https://localhost:8080/"
        },
        "id": "mbm05QGtuzl6",
        "outputId": "0aa20a92-f5a2-4d7d-d90a-cb96efe7c2a3"
      },
      "execution_count": 74,
      "outputs": [
        {
          "output_type": "execute_result",
          "data": {
            "text/plain": [
              "(25, 29, 10)"
            ]
          },
          "metadata": {},
          "execution_count": 74
        }
      ]
    },
    {
      "cell_type": "code",
      "source": [
        "X_train_reshape.shape"
      ],
      "metadata": {
        "colab": {
          "base_uri": "https://localhost:8080/"
        },
        "id": "QFRC--EByks8",
        "outputId": "11676e1d-3187-4da1-c076-19f1d983d1f2"
      },
      "execution_count": 75,
      "outputs": [
        {
          "output_type": "execute_result",
          "data": {
            "text/plain": [
              "(226, 29, 10)"
            ]
          },
          "metadata": {},
          "execution_count": 75
        }
      ]
    },
    {
      "cell_type": "code",
      "source": [
        "model.predict(X_test_reshape).reshape(X_test_reshape.shape[0]*X_test_reshape.shape[1],1).shape"
      ],
      "metadata": {
        "colab": {
          "base_uri": "https://localhost:8080/"
        },
        "id": "E_tBQ2odzhJ_",
        "outputId": "67a7ca35-392b-49ee-f634-6db2ed5143be"
      },
      "execution_count": 76,
      "outputs": [
        {
          "output_type": "execute_result",
          "data": {
            "text/plain": [
              "(725, 1)"
            ]
          },
          "metadata": {},
          "execution_count": 76
        }
      ]
    },
    {
      "cell_type": "code",
      "source": [
        "res = list(model.predict(X_test_reshape).reshape(X_test_reshape.shape[0]*X_test_reshape.shape[1],1)[:,0])\n",
        "\n",
        "test = train_test.loc[train_test.Date >'2019-05-30']\n",
        "res.append(0)\n",
        "\n",
        "test['proba'] = res\n",
        "test['pred'] = test['proba'] > 0.5\n",
        "test['Target'] = test['Target'].astype(int)\n",
        "test['pred'] = test['pred'].astype(int).astype('category')\n",
        "test"
      ],
      "metadata": {
        "colab": {
          "base_uri": "https://localhost:8080/",
          "height": 840
        },
        "id": "B6XSfaPwwr4H",
        "outputId": "830cf303-4459-4e2c-d44f-40f5b48e18b5"
      },
      "execution_count": 77,
      "outputs": [
        {
          "output_type": "stream",
          "name": "stderr",
          "text": [
            "/usr/local/lib/python3.7/dist-packages/ipykernel_launcher.py:6: SettingWithCopyWarning: \n",
            "A value is trying to be set on a copy of a slice from a DataFrame.\n",
            "Try using .loc[row_indexer,col_indexer] = value instead\n",
            "\n",
            "See the caveats in the documentation: https://pandas.pydata.org/pandas-docs/stable/user_guide/indexing.html#returning-a-view-versus-a-copy\n",
            "  \n",
            "/usr/local/lib/python3.7/dist-packages/ipykernel_launcher.py:7: SettingWithCopyWarning: \n",
            "A value is trying to be set on a copy of a slice from a DataFrame.\n",
            "Try using .loc[row_indexer,col_indexer] = value instead\n",
            "\n",
            "See the caveats in the documentation: https://pandas.pydata.org/pandas-docs/stable/user_guide/indexing.html#returning-a-view-versus-a-copy\n",
            "  import sys\n",
            "/usr/local/lib/python3.7/dist-packages/ipykernel_launcher.py:8: SettingWithCopyWarning: \n",
            "A value is trying to be set on a copy of a slice from a DataFrame.\n",
            "Try using .loc[row_indexer,col_indexer] = value instead\n",
            "\n",
            "See the caveats in the documentation: https://pandas.pydata.org/pandas-docs/stable/user_guide/indexing.html#returning-a-view-versus-a-copy\n",
            "  \n",
            "/usr/local/lib/python3.7/dist-packages/ipykernel_launcher.py:9: SettingWithCopyWarning: \n",
            "A value is trying to be set on a copy of a slice from a DataFrame.\n",
            "Try using .loc[row_indexer,col_indexer] = value instead\n",
            "\n",
            "See the caveats in the documentation: https://pandas.pydata.org/pandas-docs/stable/user_guide/indexing.html#returning-a-view-versus-a-copy\n",
            "  if __name__ == '__main__':\n"
          ]
        },
        {
          "output_type": "execute_result",
          "data": {
            "text/plain": [
              "           Date     Open     High      Low    Close  Adj Close     Volume  \\\n",
              "6557 2019-06-05  9136799  9173400  9095000  9150500    9150500  158753000   \n",
              "6558 2019-06-06  9169200  9246200  9136700  9169200    9169200  212720900   \n",
              "6559 2019-06-07  9186700  9261400  9185700  9236099    9236099  150664700   \n",
              "6560 2019-06-10  9284200  9302200  9248099  9294099    9294099  102323700   \n",
              "6561 2019-06-11  9288599  9332500  9273400  9282099    9282099  144701200   \n",
              "...         ...      ...      ...      ...      ...        ...        ...   \n",
              "7278 2022-03-25  8314099  8363200  8286500  8330599    8330599  156189000   \n",
              "7279 2022-03-28  8354400  8485700  8354400  8365599    8365599  167961800   \n",
              "7280 2022-03-29  8451000  8621000  8419700  8614599    8614599  257812200   \n",
              "7281 2022-03-30  8583299  8597400  8508900  8550599    8550599  185389000   \n",
              "7282 2022-03-31  8562599  8588299  8445099  8445099    8445099  220117500   \n",
              "\n",
              "      Target  TRAIN_TEST  day  month  quarter  week     proba pred  \n",
              "6557       0           1    5      2        2    23  0.377301    0  \n",
              "6558       0           1    6      3        2    23  0.524364    1  \n",
              "6559       0           1    7      4        2    23  0.482709    0  \n",
              "6560       0           1   10      0        2    24  0.697544    1  \n",
              "6561       0           1   11      1        2    24  0.118943    0  \n",
              "...      ...         ...  ...    ...      ...   ...       ...  ...  \n",
              "7278       0           1   25      4        1    12  0.000185    0  \n",
              "7279       0           1   28      0        1    13  0.000777    0  \n",
              "7280       0           1   29      1        1    13  0.865116    1  \n",
              "7281       0           1   30      2        1    13  0.961039    1  \n",
              "7282       0           1   31      3        1    13  0.000000    0  \n",
              "\n",
              "[726 rows x 15 columns]"
            ],
            "text/html": [
              "\n",
              "  <div id=\"df-4e8a19f4-a8f1-4c92-aef7-3bd93382b4fa\">\n",
              "    <div class=\"colab-df-container\">\n",
              "      <div>\n",
              "<style scoped>\n",
              "    .dataframe tbody tr th:only-of-type {\n",
              "        vertical-align: middle;\n",
              "    }\n",
              "\n",
              "    .dataframe tbody tr th {\n",
              "        vertical-align: top;\n",
              "    }\n",
              "\n",
              "    .dataframe thead th {\n",
              "        text-align: right;\n",
              "    }\n",
              "</style>\n",
              "<table border=\"1\" class=\"dataframe\">\n",
              "  <thead>\n",
              "    <tr style=\"text-align: right;\">\n",
              "      <th></th>\n",
              "      <th>Date</th>\n",
              "      <th>Open</th>\n",
              "      <th>High</th>\n",
              "      <th>Low</th>\n",
              "      <th>Close</th>\n",
              "      <th>Adj Close</th>\n",
              "      <th>Volume</th>\n",
              "      <th>Target</th>\n",
              "      <th>TRAIN_TEST</th>\n",
              "      <th>day</th>\n",
              "      <th>month</th>\n",
              "      <th>quarter</th>\n",
              "      <th>week</th>\n",
              "      <th>proba</th>\n",
              "      <th>pred</th>\n",
              "    </tr>\n",
              "  </thead>\n",
              "  <tbody>\n",
              "    <tr>\n",
              "      <th>6557</th>\n",
              "      <td>2019-06-05</td>\n",
              "      <td>9136799</td>\n",
              "      <td>9173400</td>\n",
              "      <td>9095000</td>\n",
              "      <td>9150500</td>\n",
              "      <td>9150500</td>\n",
              "      <td>158753000</td>\n",
              "      <td>0</td>\n",
              "      <td>1</td>\n",
              "      <td>5</td>\n",
              "      <td>2</td>\n",
              "      <td>2</td>\n",
              "      <td>23</td>\n",
              "      <td>0.377301</td>\n",
              "      <td>0</td>\n",
              "    </tr>\n",
              "    <tr>\n",
              "      <th>6558</th>\n",
              "      <td>2019-06-06</td>\n",
              "      <td>9169200</td>\n",
              "      <td>9246200</td>\n",
              "      <td>9136700</td>\n",
              "      <td>9169200</td>\n",
              "      <td>9169200</td>\n",
              "      <td>212720900</td>\n",
              "      <td>0</td>\n",
              "      <td>1</td>\n",
              "      <td>6</td>\n",
              "      <td>3</td>\n",
              "      <td>2</td>\n",
              "      <td>23</td>\n",
              "      <td>0.524364</td>\n",
              "      <td>1</td>\n",
              "    </tr>\n",
              "    <tr>\n",
              "      <th>6559</th>\n",
              "      <td>2019-06-07</td>\n",
              "      <td>9186700</td>\n",
              "      <td>9261400</td>\n",
              "      <td>9185700</td>\n",
              "      <td>9236099</td>\n",
              "      <td>9236099</td>\n",
              "      <td>150664700</td>\n",
              "      <td>0</td>\n",
              "      <td>1</td>\n",
              "      <td>7</td>\n",
              "      <td>4</td>\n",
              "      <td>2</td>\n",
              "      <td>23</td>\n",
              "      <td>0.482709</td>\n",
              "      <td>0</td>\n",
              "    </tr>\n",
              "    <tr>\n",
              "      <th>6560</th>\n",
              "      <td>2019-06-10</td>\n",
              "      <td>9284200</td>\n",
              "      <td>9302200</td>\n",
              "      <td>9248099</td>\n",
              "      <td>9294099</td>\n",
              "      <td>9294099</td>\n",
              "      <td>102323700</td>\n",
              "      <td>0</td>\n",
              "      <td>1</td>\n",
              "      <td>10</td>\n",
              "      <td>0</td>\n",
              "      <td>2</td>\n",
              "      <td>24</td>\n",
              "      <td>0.697544</td>\n",
              "      <td>1</td>\n",
              "    </tr>\n",
              "    <tr>\n",
              "      <th>6561</th>\n",
              "      <td>2019-06-11</td>\n",
              "      <td>9288599</td>\n",
              "      <td>9332500</td>\n",
              "      <td>9273400</td>\n",
              "      <td>9282099</td>\n",
              "      <td>9282099</td>\n",
              "      <td>144701200</td>\n",
              "      <td>0</td>\n",
              "      <td>1</td>\n",
              "      <td>11</td>\n",
              "      <td>1</td>\n",
              "      <td>2</td>\n",
              "      <td>24</td>\n",
              "      <td>0.118943</td>\n",
              "      <td>0</td>\n",
              "    </tr>\n",
              "    <tr>\n",
              "      <th>...</th>\n",
              "      <td>...</td>\n",
              "      <td>...</td>\n",
              "      <td>...</td>\n",
              "      <td>...</td>\n",
              "      <td>...</td>\n",
              "      <td>...</td>\n",
              "      <td>...</td>\n",
              "      <td>...</td>\n",
              "      <td>...</td>\n",
              "      <td>...</td>\n",
              "      <td>...</td>\n",
              "      <td>...</td>\n",
              "      <td>...</td>\n",
              "      <td>...</td>\n",
              "      <td>...</td>\n",
              "    </tr>\n",
              "    <tr>\n",
              "      <th>7278</th>\n",
              "      <td>2022-03-25</td>\n",
              "      <td>8314099</td>\n",
              "      <td>8363200</td>\n",
              "      <td>8286500</td>\n",
              "      <td>8330599</td>\n",
              "      <td>8330599</td>\n",
              "      <td>156189000</td>\n",
              "      <td>0</td>\n",
              "      <td>1</td>\n",
              "      <td>25</td>\n",
              "      <td>4</td>\n",
              "      <td>1</td>\n",
              "      <td>12</td>\n",
              "      <td>0.000185</td>\n",
              "      <td>0</td>\n",
              "    </tr>\n",
              "    <tr>\n",
              "      <th>7279</th>\n",
              "      <td>2022-03-28</td>\n",
              "      <td>8354400</td>\n",
              "      <td>8485700</td>\n",
              "      <td>8354400</td>\n",
              "      <td>8365599</td>\n",
              "      <td>8365599</td>\n",
              "      <td>167961800</td>\n",
              "      <td>0</td>\n",
              "      <td>1</td>\n",
              "      <td>28</td>\n",
              "      <td>0</td>\n",
              "      <td>1</td>\n",
              "      <td>13</td>\n",
              "      <td>0.000777</td>\n",
              "      <td>0</td>\n",
              "    </tr>\n",
              "    <tr>\n",
              "      <th>7280</th>\n",
              "      <td>2022-03-29</td>\n",
              "      <td>8451000</td>\n",
              "      <td>8621000</td>\n",
              "      <td>8419700</td>\n",
              "      <td>8614599</td>\n",
              "      <td>8614599</td>\n",
              "      <td>257812200</td>\n",
              "      <td>0</td>\n",
              "      <td>1</td>\n",
              "      <td>29</td>\n",
              "      <td>1</td>\n",
              "      <td>1</td>\n",
              "      <td>13</td>\n",
              "      <td>0.865116</td>\n",
              "      <td>1</td>\n",
              "    </tr>\n",
              "    <tr>\n",
              "      <th>7281</th>\n",
              "      <td>2022-03-30</td>\n",
              "      <td>8583299</td>\n",
              "      <td>8597400</td>\n",
              "      <td>8508900</td>\n",
              "      <td>8550599</td>\n",
              "      <td>8550599</td>\n",
              "      <td>185389000</td>\n",
              "      <td>0</td>\n",
              "      <td>1</td>\n",
              "      <td>30</td>\n",
              "      <td>2</td>\n",
              "      <td>1</td>\n",
              "      <td>13</td>\n",
              "      <td>0.961039</td>\n",
              "      <td>1</td>\n",
              "    </tr>\n",
              "    <tr>\n",
              "      <th>7282</th>\n",
              "      <td>2022-03-31</td>\n",
              "      <td>8562599</td>\n",
              "      <td>8588299</td>\n",
              "      <td>8445099</td>\n",
              "      <td>8445099</td>\n",
              "      <td>8445099</td>\n",
              "      <td>220117500</td>\n",
              "      <td>0</td>\n",
              "      <td>1</td>\n",
              "      <td>31</td>\n",
              "      <td>3</td>\n",
              "      <td>1</td>\n",
              "      <td>13</td>\n",
              "      <td>0.000000</td>\n",
              "      <td>0</td>\n",
              "    </tr>\n",
              "  </tbody>\n",
              "</table>\n",
              "<p>726 rows × 15 columns</p>\n",
              "</div>\n",
              "      <button class=\"colab-df-convert\" onclick=\"convertToInteractive('df-4e8a19f4-a8f1-4c92-aef7-3bd93382b4fa')\"\n",
              "              title=\"Convert this dataframe to an interactive table.\"\n",
              "              style=\"display:none;\">\n",
              "        \n",
              "  <svg xmlns=\"http://www.w3.org/2000/svg\" height=\"24px\"viewBox=\"0 0 24 24\"\n",
              "       width=\"24px\">\n",
              "    <path d=\"M0 0h24v24H0V0z\" fill=\"none\"/>\n",
              "    <path d=\"M18.56 5.44l.94 2.06.94-2.06 2.06-.94-2.06-.94-.94-2.06-.94 2.06-2.06.94zm-11 1L8.5 8.5l.94-2.06 2.06-.94-2.06-.94L8.5 2.5l-.94 2.06-2.06.94zm10 10l.94 2.06.94-2.06 2.06-.94-2.06-.94-.94-2.06-.94 2.06-2.06.94z\"/><path d=\"M17.41 7.96l-1.37-1.37c-.4-.4-.92-.59-1.43-.59-.52 0-1.04.2-1.43.59L10.3 9.45l-7.72 7.72c-.78.78-.78 2.05 0 2.83L4 21.41c.39.39.9.59 1.41.59.51 0 1.02-.2 1.41-.59l7.78-7.78 2.81-2.81c.8-.78.8-2.07 0-2.86zM5.41 20L4 18.59l7.72-7.72 1.47 1.35L5.41 20z\"/>\n",
              "  </svg>\n",
              "      </button>\n",
              "      \n",
              "  <style>\n",
              "    .colab-df-container {\n",
              "      display:flex;\n",
              "      flex-wrap:wrap;\n",
              "      gap: 12px;\n",
              "    }\n",
              "\n",
              "    .colab-df-convert {\n",
              "      background-color: #E8F0FE;\n",
              "      border: none;\n",
              "      border-radius: 50%;\n",
              "      cursor: pointer;\n",
              "      display: none;\n",
              "      fill: #1967D2;\n",
              "      height: 32px;\n",
              "      padding: 0 0 0 0;\n",
              "      width: 32px;\n",
              "    }\n",
              "\n",
              "    .colab-df-convert:hover {\n",
              "      background-color: #E2EBFA;\n",
              "      box-shadow: 0px 1px 2px rgba(60, 64, 67, 0.3), 0px 1px 3px 1px rgba(60, 64, 67, 0.15);\n",
              "      fill: #174EA6;\n",
              "    }\n",
              "\n",
              "    [theme=dark] .colab-df-convert {\n",
              "      background-color: #3B4455;\n",
              "      fill: #D2E3FC;\n",
              "    }\n",
              "\n",
              "    [theme=dark] .colab-df-convert:hover {\n",
              "      background-color: #434B5C;\n",
              "      box-shadow: 0px 1px 3px 1px rgba(0, 0, 0, 0.15);\n",
              "      filter: drop-shadow(0px 1px 2px rgba(0, 0, 0, 0.3));\n",
              "      fill: #FFFFFF;\n",
              "    }\n",
              "  </style>\n",
              "\n",
              "      <script>\n",
              "        const buttonEl =\n",
              "          document.querySelector('#df-4e8a19f4-a8f1-4c92-aef7-3bd93382b4fa button.colab-df-convert');\n",
              "        buttonEl.style.display =\n",
              "          google.colab.kernel.accessAllowed ? 'block' : 'none';\n",
              "\n",
              "        async function convertToInteractive(key) {\n",
              "          const element = document.querySelector('#df-4e8a19f4-a8f1-4c92-aef7-3bd93382b4fa');\n",
              "          const dataTable =\n",
              "            await google.colab.kernel.invokeFunction('convertToInteractive',\n",
              "                                                     [key], {});\n",
              "          if (!dataTable) return;\n",
              "\n",
              "          const docLinkHtml = 'Like what you see? Visit the ' +\n",
              "            '<a target=\"_blank\" href=https://colab.research.google.com/notebooks/data_table.ipynb>data table notebook</a>'\n",
              "            + ' to learn more about interactive tables.';\n",
              "          element.innerHTML = '';\n",
              "          dataTable['output_type'] = 'display_data';\n",
              "          await google.colab.output.renderOutput(dataTable, element);\n",
              "          const docLink = document.createElement('div');\n",
              "          docLink.innerHTML = docLinkHtml;\n",
              "          element.appendChild(docLink);\n",
              "        }\n",
              "      </script>\n",
              "    </div>\n",
              "  </div>\n",
              "  "
            ]
          },
          "metadata": {},
          "execution_count": 77
        }
      ]
    },
    {
      "cell_type": "code",
      "source": [
        "def all_metrics(y, y_pred):\n",
        "        print(' Accuracy: ',accuracy_score(y, y_pred))\n",
        "        print(' Precision: ',precision_score(y, y_pred))\n",
        "        print(' Recall: ',recall_score(y, y_pred))\n",
        "        print(' F1-score :',f1_score(y, y_pred))"
      ],
      "metadata": {
        "id": "GhWYlwRAOigM"
      },
      "execution_count": 80,
      "outputs": []
    },
    {
      "cell_type": "code",
      "source": [
        "all_metrics(test['Target'], test['pred'])"
      ],
      "metadata": {
        "colab": {
          "base_uri": "https://localhost:8080/"
        },
        "id": "WI_DCG1oxb9c",
        "outputId": "1a1399c3-c418-430d-86c2-44d537e5e99b"
      },
      "execution_count": 81,
      "outputs": [
        {
          "output_type": "stream",
          "name": "stdout",
          "text": [
            " Accuracy:  0.42424242424242425\n",
            " Precision:  0.0\n",
            " Recall:  0.0\n",
            " F1-score : 0.0\n"
          ]
        },
        {
          "output_type": "stream",
          "name": "stderr",
          "text": [
            "/usr/local/lib/python3.7/dist-packages/sklearn/metrics/_classification.py:1318: UndefinedMetricWarning: Recall is ill-defined and being set to 0.0 due to no true samples. Use `zero_division` parameter to control this behavior.\n",
            "  _warn_prf(average, modifier, msg_start, len(result))\n"
          ]
        }
      ]
    }
  ]
}